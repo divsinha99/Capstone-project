{
 "cells": [
  {
   "cell_type": "markdown",
   "metadata": {},
   "source": [
    "# Importing the libraries"
   ]
  },
  {
   "cell_type": "code",
   "execution_count": 1,
   "metadata": {},
   "outputs": [
    {
     "name": "stderr",
     "output_type": "stream",
     "text": [
      "C:\\Users\\Divyojyoti Sinha\\Anaconda3\\lib\\site-packages\\h5py\\__init__.py:36: FutureWarning: Conversion of the second argument of issubdtype from `float` to `np.floating` is deprecated. In future, it will be treated as `np.float64 == np.dtype(float).type`.\n",
      "  from ._conv import register_converters as _register_converters\n",
      "Using TensorFlow backend.\n"
     ]
    }
   ],
   "source": [
    "import keras\n",
    "from matplotlib import pyplot as plt\n",
    "import numpy as np\n",
    "import gzip\n",
    "%matplotlib inline\n",
    "from keras.models import Model\n",
    "from keras.optimizers import RMSprop\n",
    "from keras.layers import Input,Dense,Flatten,Dropout,merge,Reshape,Conv2D,MaxPooling2D,UpSampling2D,Conv2DTranspose\n",
    "from keras.layers.normalization import BatchNormalization\n",
    "from keras.models import Model,Sequential\n",
    "from keras.callbacks import ModelCheckpoint\n",
    "from keras.optimizers import Adadelta, RMSprop,SGD,Adam\n",
    "from keras import regularizers\n",
    "from keras import backend as K\n",
    "from keras.utils import to_categorical"
   ]
  },
  {
   "cell_type": "code",
   "execution_count": 2,
   "metadata": {},
   "outputs": [],
   "source": [
    "import pandas as pd \n",
    "import cv2                 \n",
    "import numpy as np         \n",
    "import os                  \n",
    "from random import shuffle\n",
    "from tqdm import tqdm  \n",
    "import scipy\n",
    "import skimage\n",
    "from skimage.transform import resize\n",
    "import sys \n",
    "import pandas as pd\n",
    "import numpy as np\n",
    "import seaborn as sns\n",
    "import matplotlib.pyplot as plt\n",
    "%matplotlib inline\n",
    "\n",
    "\n",
    "import numpy as np\n",
    "import os\n",
    "import sys\n",
    "import tensorflow as tf\n",
    "\n",
    "# to make this notebook's output stable across runs\n",
    "def reset_graph(seed=42):\n",
    "    tf.reset_default_graph()\n",
    "    tf.set_random_seed(seed)\n",
    "    np.random.seed(seed)\n",
    "\n",
    "# To plot pretty figures\n",
    "%matplotlib inline\n",
    "import matplotlib\n",
    "import matplotlib.pyplot as plt\n",
    "plt.rcParams['axes.labelsize'] = 14\n",
    "plt.rcParams['xtick.labelsize'] = 12\n",
    "plt.rcParams['ytick.labelsize'] = 12\n",
    "\n",
    "# Where to save the figures\n",
    "PROJECT_ROOT_DIR = \"C:\\\\Data_Science\\\\Data_science\\\\CAPP\\\\\"\n",
    "CHAPTER_ID = \"autoencoders\"\n",
    "\n",
    "def save_fig(fig_id, tight_layout=True):\n",
    "    path = os.path.join(PROJECT_ROOT_DIR, \"images\", CHAPTER_ID, fig_id + \".png\")\n",
    "    print(\"Saving figure\", fig_id)\n",
    "    if tight_layout:\n",
    "        plt.tight_layout()\n",
    "    plt.savefig(path, format='png', dpi=300)"
   ]
  },
  {
   "cell_type": "markdown",
   "metadata": {},
   "source": [
    "# Reading the Image Data"
   ]
  },
  {
   "cell_type": "code",
   "execution_count": 5,
   "metadata": {},
   "outputs": [],
   "source": [
    "DIR = \"C:\\\\Data_Science\\\\Data_science\\\\CAPP\\\\data\\\\dogscats\\\\dogscats\\\\valid\\\\\"\n",
    "sz=224"
   ]
  },
  {
   "cell_type": "code",
   "execution_count": 4,
   "metadata": {},
   "outputs": [],
   "source": [
    "def get_data(Dir):\n",
    "    X = []\n",
    "    y = []\n",
    "    for nextDir in os.listdir(Dir):\n",
    "        if not nextDir.startswith('.'):\n",
    "            if nextDir in ['cats']:\n",
    "                label = 0\n",
    "            elif nextDir in ['dogs']:\n",
    "                label = 1\n",
    "\n",
    "                \n",
    "            temp = Dir + nextDir\n",
    "                \n",
    "            for file in tqdm(os.listdir(temp)):\n",
    "                img = cv2.imread(temp + '/' + file, 0)\n",
    "                if img is not None:\n",
    "                    #img = np.frombuffer(img, dtype=np.uint8).astype(np.float32)\n",
    "                    img = skimage.transform.resize(img, (64, 64), mode='constant')\n",
    "                    #img_file = scipy.misc.imresize(arr=img_file, size=(150, 150, 3))\n",
    "                    #img = img.reshape(-1)\n",
    "                    img = np.asarray(img)\n",
    "                    X.append(img)\n",
    "                    y.append(label)\n",
    "                    \n",
    "    X = np.asarray(X)\n",
    "    y = np.asarray(y)\n",
    "    return X,y"
   ]
  },
  {
   "cell_type": "code",
   "execution_count": 6,
   "metadata": {},
   "outputs": [
    {
     "name": "stderr",
     "output_type": "stream",
     "text": [
      "100%|██████████████████████████████████████████████████████████████████████████████| 1000/1000 [00:16<00:00, 60.30it/s]\n",
      "100%|██████████████████████████████████████████████████████████████████████████████| 1000/1000 [00:15<00:00, 64.38it/s]\n"
     ]
    }
   ],
   "source": [
    "df_X, df_Y = get_data(DIR)"
   ]
  },
  {
   "cell_type": "code",
   "execution_count": 7,
   "metadata": {
    "scrolled": false
   },
   "outputs": [
    {
     "name": "stdout",
     "output_type": "stream",
     "text": [
      "(2000, 64, 64) \n",
      " (2000,)\n"
     ]
    }
   ],
   "source": [
    "print(df_X.shape,'\\n',df_Y.shape)"
   ]
  },
  {
   "cell_type": "markdown",
   "metadata": {},
   "source": [
    "# Train - Test Split"
   ]
  },
  {
   "cell_type": "code",
   "execution_count": 8,
   "metadata": {},
   "outputs": [],
   "source": [
    "from sklearn.model_selection import train_test_split\n",
    "train_data,test_data,train_labels,test_labels = train_test_split(df_X,\n",
    "                                                             df_Y,\n",
    "                                                             test_size=0.2,\n",
    "                                                             random_state=13)"
   ]
  },
  {
   "cell_type": "code",
   "execution_count": 9,
   "metadata": {},
   "outputs": [
    {
     "name": "stdout",
     "output_type": "stream",
     "text": [
      "Training set (images) shape: (1600, 64, 64)\n",
      "Test set (images) shape: (400, 64, 64)\n"
     ]
    }
   ],
   "source": [
    "# Shapes of training set\n",
    "print(\"Training set (images) shape: {shape}\".format(shape=train_data.shape))\n",
    "\n",
    "# Shapes of test set\n",
    "print(\"Test set (images) shape: {shape}\".format(shape=test_data.shape))"
   ]
  },
  {
   "cell_type": "code",
   "execution_count": 10,
   "metadata": {},
   "outputs": [],
   "source": [
    "# Create dictionary of target classes\n",
    "label_dict = {\n",
    " 0: 'C',\n",
    " 1: 'D'\n",
    "}"
   ]
  },
  {
   "cell_type": "code",
   "execution_count": 11,
   "metadata": {
    "scrolled": false
   },
   "outputs": [
    {
     "data": {
      "text/plain": [
       "Text(0.5,1,'(Label: D)')"
      ]
     },
     "execution_count": 11,
     "metadata": {},
     "output_type": "execute_result"
    },
    {
     "data": {
      "image/png": "[encoded data removed]",
      "text/plain": [
       "<Figure size 360x360 with 2 Axes>"
      ]
     },
     "metadata": {},
     "output_type": "display_data"
    }
   ],
   "source": [
    "plt.figure(figsize=[5,5])\n",
    "\n",
    "# Display the first image in training data\n",
    "plt.subplot(121)\n",
    "curr_img = np.reshape(train_data[10], (64,64))\n",
    "curr_lbl = train_labels[10]\n",
    "plt.imshow(curr_img, cmap='gray')\n",
    "plt.title(\"(Label: \" + str(label_dict[curr_lbl]) + \")\")\n",
    "\n",
    "# Display the first image in testing data\n",
    "plt.subplot(122)\n",
    "curr_img = np.reshape(test_data[10], (64,64))\n",
    "curr_lbl = test_labels[10]\n",
    "plt.imshow(curr_img, cmap='gray')\n",
    "plt.title(\"(Label: \" + str(label_dict[curr_lbl]) + \")\")"
   ]
  },
  {
   "cell_type": "markdown",
   "metadata": {},
   "source": [
    "# Data Preprocessing"
   ]
  },
  {
   "cell_type": "markdown",
   "metadata": {},
   "source": [
    "The images of the dataset are grayscale images with pixel values ranging from 0 to 255 with a dimension of 64 x 64, so before it is fed into the model, it is very important to preprocess it. We first need to convert each 64 x 64 image of train and test set into a matrix of size 64 x 64 x 1, which can be fed into the network:"
   ]
  },
  {
   "cell_type": "code",
   "execution_count": 12,
   "metadata": {
    "scrolled": true
   },
   "outputs": [
    {
     "data": {
      "text/plain": [
       "((1600, 64, 64, 1), (400, 64, 64, 1))"
      ]
     },
     "execution_count": 12,
     "metadata": {},
     "output_type": "execute_result"
    }
   ],
   "source": [
    "train_data = train_data.reshape(-1, 64,64, 1)\n",
    "test_data = test_data.reshape(-1, 64,64, 1)\n",
    "train_data.shape, test_data.shape"
   ]
  },
  {
   "cell_type": "markdown",
   "metadata": {},
   "source": [
    "Now, we need to make sure to check the data type of the training and testing NumPy arrays, it should be in float32 format, if not we will need to convert it into this format. "
   ]
  },
  {
   "cell_type": "code",
   "execution_count": 13,
   "metadata": {},
   "outputs": [
    {
     "data": {
      "text/plain": [
       "(dtype('float64'), dtype('float64'))"
      ]
     },
     "execution_count": 13,
     "metadata": {},
     "output_type": "execute_result"
    }
   ],
   "source": [
    "train_data.dtype, test_data.dtype"
   ]
  },
  {
   "cell_type": "code",
   "execution_count": 14,
   "metadata": {},
   "outputs": [
    {
     "data": {
      "text/plain": [
       "dtype('float32')"
      ]
     },
     "execution_count": 14,
     "metadata": {},
     "output_type": "execute_result"
    }
   ],
   "source": [
    "train_data = train_data.astype(np.float32)\n",
    "train_data.dtype"
   ]
  },
  {
   "cell_type": "code",
   "execution_count": 15,
   "metadata": {
    "scrolled": true
   },
   "outputs": [
    {
     "data": {
      "text/plain": [
       "dtype('float32')"
      ]
     },
     "execution_count": 15,
     "metadata": {},
     "output_type": "execute_result"
    }
   ],
   "source": [
    "test_data = test_data.astype(np.float32)\n",
    "test_data.dtype"
   ]
  },
  {
   "cell_type": "markdown",
   "metadata": {},
   "source": [
    "We also need to make sure that the pixel values have been rescaled in range 0 - 1 inclusive."
   ]
  },
  {
   "cell_type": "code",
   "execution_count": 16,
   "metadata": {},
   "outputs": [
    {
     "data": {
      "text/plain": [
       "(1.0, 1.0)"
      ]
     },
     "execution_count": 16,
     "metadata": {},
     "output_type": "execute_result"
    }
   ],
   "source": [
    "np.max(train_data), np.max(test_data)"
   ]
  },
  {
   "cell_type": "markdown",
   "metadata": {},
   "source": [
    "## Partitioning the data into train - validation sets"
   ]
  },
  {
   "cell_type": "markdown",
   "metadata": {},
   "source": [
    "It's important to partition the data. In order for our model to generalize well, we need to split the training data into two parts: a training and a validation set. We will need to train our model on 80% of the data and validate it on 20% of the remaining training data.\n",
    "\n",
    "This will also help us in reducing the chances of overfitting, as we will be validating our model on data it would not have seen in the training phase.\n",
    "\n",
    "The train_test_split module of scikit-learn can be used to divide the data properly:"
   ]
  },
  {
   "cell_type": "code",
   "execution_count": 17,
   "metadata": {},
   "outputs": [],
   "source": [
    "from sklearn.model_selection import train_test_split\n",
    "train_X,valid_X,train_ground,valid_ground = train_test_split(train_data,\n",
    "                                                             train_data,\n",
    "                                                             test_size=0.2,\n",
    "                                                             random_state=13)"
   ]
  },
  {
   "cell_type": "markdown",
   "metadata": {},
   "source": [
    "# Building Convolutional Autoencoder"
   ]
  },
  {
   "cell_type": "markdown",
   "metadata": {},
   "source": [
    "The images are of size 64 x 64 x 1 or a 4096-dimensional vector. We need to convert the image matrix to an array, rescale it between 0 and 1, reshape it so that it's of size 64 x 64 x 1, and feed this as an input to the network.\n",
    "\n",
    "Also, we are using a batch size of 128 using a higher batch size of 256 or 512 is also preferable it all depends on the system. It contributes heavily in determining the learning parameters and affects the prediction accuracy."
   ]
  },
  {
   "cell_type": "code",
   "execution_count": 41,
   "metadata": {},
   "outputs": [],
   "source": [
    "batch_size = 128\n",
    "epochs = 200\n",
    "inChannel = 1\n",
    "x, y = 64, 64\n",
    "input_img = Input(shape = (x, y, inChannel))\n",
    "num_classes = 2"
   ]
  },
  {
   "cell_type": "code",
   "execution_count": 42,
   "metadata": {},
   "outputs": [],
   "source": [
    "def encoder(input_img):\n",
    "    #encoder\n",
    "    #input = 28 x 28 x 1 (wide and thin)\n",
    "    conv1 = Conv2D(32, (3, 3), activation='relu', padding='same')(input_img) #28 x 28 x 32\n",
    "    conv1 = BatchNormalization()(conv1)\n",
    "    conv1 = Conv2D(32, (3, 3), activation='relu', padding='same')(conv1)\n",
    "    conv1 = BatchNormalization()(conv1)\n",
    "    pool1 = MaxPooling2D(pool_size=(2, 2))(conv1) #14 x 14 x 32\n",
    "    conv2 = Conv2D(64, (3, 3), activation='relu', padding='same')(pool1) #14 x 14 x 64\n",
    "    conv2 = BatchNormalization()(conv2)\n",
    "    conv2 = Conv2D(64, (3, 3), activation='relu', padding='same')(conv2)\n",
    "    conv2 = BatchNormalization()(conv2)\n",
    "    pool2 = MaxPooling2D(pool_size=(2, 2))(conv2) #7 x 7 x 64\n",
    "    conv3 = Conv2D(128, (3, 3), activation='relu', padding='same')(pool2) #7 x 7 x 128 (small and thick)\n",
    "    conv3 = BatchNormalization()(conv3)\n",
    "    conv3 = Conv2D(128, (3, 3), activation='relu', padding='same')(conv3)\n",
    "    conv3 = BatchNormalization()(conv3)\n",
    "    conv4 = Conv2D(256, (3, 3), activation='relu', padding='same')(conv3) #7 x 7 x 256 (small and thick)\n",
    "    conv4 = BatchNormalization()(conv4)\n",
    "    conv4 = Conv2D(256, (3, 3), activation='relu', padding='same')(conv4)\n",
    "    conv4 = BatchNormalization()(conv4)\n",
    "    return conv4\n",
    "\n",
    "def decoder(conv4):    \n",
    "    #decoder\n",
    "    conv5 = Conv2D(128, (3, 3), activation='relu', padding='same')(conv4) #7 x 7 x 128\n",
    "    conv5 = BatchNormalization()(conv5)\n",
    "    conv5 = Conv2D(128, (3, 3), activation='relu', padding='same')(conv5)\n",
    "    conv5 = BatchNormalization()(conv5)\n",
    "    conv6 = Conv2D(64, (3, 3), activation='relu', padding='same')(conv5) #7 x 7 x 64\n",
    "    conv6 = BatchNormalization()(conv6)\n",
    "    conv6 = Conv2D(64, (3, 3), activation='relu', padding='same')(conv6)\n",
    "    conv6 = BatchNormalization()(conv6)\n",
    "    up1 = UpSampling2D((2,2))(conv6) #14 x 14 x 64\n",
    "    conv7 = Conv2D(32, (3, 3), activation='relu', padding='same')(up1) # 14 x 14 x 32\n",
    "    conv7 = BatchNormalization()(conv7)\n",
    "    conv7 = Conv2D(32, (3, 3), activation='relu', padding='same')(conv7)\n",
    "    conv7 = BatchNormalization()(conv7)\n",
    "    up2 = UpSampling2D((2,2))(conv7) # 28 x 28 x 32\n",
    "    decoded = Conv2D(1, (3, 3), activation='sigmoid', padding='same')(up2) # 28 x 28 x 1\n",
    "    return decoded"
   ]
  },
  {
   "cell_type": "code",
   "execution_count": 43,
   "metadata": {},
   "outputs": [],
   "source": [
    "autoencoder = Model(input_img, decoder(encoder(input_img)))\n",
    "autoencoder.compile(loss='mean_squared_error', optimizer = RMSprop())"
   ]
  },
  {
   "cell_type": "code",
   "execution_count": 44,
   "metadata": {},
   "outputs": [
    {
     "name": "stdout",
     "output_type": "stream",
     "text": [
      "_________________________________________________________________\n",
      "Layer (type)                 Output Shape              Param #   \n",
      "=================================================================\n",
      "input_4 (InputLayer)         (None, 64, 64, 1)         0         \n",
      "_________________________________________________________________\n",
      "conv2d_55 (Conv2D)           (None, 64, 64, 32)        320       \n",
      "_________________________________________________________________\n",
      "batch_normalization_45 (Batc (None, 64, 64, 32)        128       \n",
      "_________________________________________________________________\n",
      "conv2d_56 (Conv2D)           (None, 64, 64, 32)        9248      \n",
      "_________________________________________________________________\n",
      "batch_normalization_46 (Batc (None, 64, 64, 32)        128       \n",
      "_________________________________________________________________\n",
      "max_pooling2d_11 (MaxPooling (None, 32, 32, 32)        0         \n",
      "_________________________________________________________________\n",
      "conv2d_57 (Conv2D)           (None, 32, 32, 64)        18496     \n",
      "_________________________________________________________________\n",
      "batch_normalization_47 (Batc (None, 32, 32, 64)        256       \n",
      "_________________________________________________________________\n",
      "conv2d_58 (Conv2D)           (None, 32, 32, 64)        36928     \n",
      "_________________________________________________________________\n",
      "batch_normalization_48 (Batc (None, 32, 32, 64)        256       \n",
      "_________________________________________________________________\n",
      "max_pooling2d_12 (MaxPooling (None, 16, 16, 64)        0         \n",
      "_________________________________________________________________\n",
      "conv2d_59 (Conv2D)           (None, 16, 16, 128)       73856     \n",
      "_________________________________________________________________\n",
      "batch_normalization_49 (Batc (None, 16, 16, 128)       512       \n",
      "_________________________________________________________________\n",
      "conv2d_60 (Conv2D)           (None, 16, 16, 128)       147584    \n",
      "_________________________________________________________________\n",
      "batch_normalization_50 (Batc (None, 16, 16, 128)       512       \n",
      "_________________________________________________________________\n",
      "conv2d_61 (Conv2D)           (None, 16, 16, 256)       295168    \n",
      "_________________________________________________________________\n",
      "batch_normalization_51 (Batc (None, 16, 16, 256)       1024      \n",
      "_________________________________________________________________\n",
      "conv2d_62 (Conv2D)           (None, 16, 16, 256)       590080    \n",
      "_________________________________________________________________\n",
      "batch_normalization_52 (Batc (None, 16, 16, 256)       1024      \n",
      "_________________________________________________________________\n",
      "conv2d_63 (Conv2D)           (None, 16, 16, 128)       295040    \n",
      "_________________________________________________________________\n",
      "batch_normalization_53 (Batc (None, 16, 16, 128)       512       \n",
      "_________________________________________________________________\n",
      "conv2d_64 (Conv2D)           (None, 16, 16, 128)       147584    \n",
      "_________________________________________________________________\n",
      "batch_normalization_54 (Batc (None, 16, 16, 128)       512       \n",
      "_________________________________________________________________\n",
      "conv2d_65 (Conv2D)           (None, 16, 16, 64)        73792     \n",
      "_________________________________________________________________\n",
      "batch_normalization_55 (Batc (None, 16, 16, 64)        256       \n",
      "_________________________________________________________________\n",
      "conv2d_66 (Conv2D)           (None, 16, 16, 64)        36928     \n",
      "_________________________________________________________________\n",
      "batch_normalization_56 (Batc (None, 16, 16, 64)        256       \n",
      "_________________________________________________________________\n",
      "up_sampling2d_11 (UpSampling (None, 32, 32, 64)        0         \n",
      "_________________________________________________________________\n",
      "conv2d_67 (Conv2D)           (None, 32, 32, 32)        18464     \n",
      "_________________________________________________________________\n",
      "batch_normalization_57 (Batc (None, 32, 32, 32)        128       \n",
      "_________________________________________________________________\n",
      "conv2d_68 (Conv2D)           (None, 32, 32, 32)        9248      \n",
      "_________________________________________________________________\n",
      "batch_normalization_58 (Batc (None, 32, 32, 32)        128       \n",
      "_________________________________________________________________\n",
      "up_sampling2d_12 (UpSampling (None, 64, 64, 32)        0         \n",
      "_________________________________________________________________\n",
      "conv2d_69 (Conv2D)           (None, 64, 64, 1)         289       \n",
      "=================================================================\n",
      "Total params: 1,758,657\n",
      "Trainable params: 1,755,841\n",
      "Non-trainable params: 2,816\n",
      "_________________________________________________________________\n"
     ]
    }
   ],
   "source": [
    "autoencoder.summary()"
   ]
  },
  {
   "cell_type": "code",
   "execution_count": 45,
   "metadata": {
    "scrolled": true
   },
   "outputs": [
    {
     "name": "stdout",
     "output_type": "stream",
     "text": [
      "Train on 1280 samples, validate on 320 samples\n",
      "Epoch 1/200\n",
      "1280/1280 [==============================] - ETA: 35s - loss: 0.13 - ETA: 17s - loss: 0.11 - ETA: 10s - loss: 0.10 - ETA: 7s - loss: 0.1093 - ETA: 5s - loss: 0.106 - ETA: 3s - loss: 0.099 - ETA: 2s - loss: 0.093 - ETA: 1s - loss: 0.087 - ETA: 0s - loss: 0.083 - 7s 6ms/step - loss: 0.0796 - val_loss: 0.1202\n",
      "Epoch 2/200\n",
      "1280/1280 [==============================] - ETA: 2s - loss: 0.036 - ETA: 2s - loss: 0.032 - ETA: 2s - loss: 0.031 - ETA: 1s - loss: 0.030 - ETA: 1s - loss: 0.030 - ETA: 1s - loss: 0.030 - ETA: 0s - loss: 0.029 - ETA: 0s - loss: 0.029 - ETA: 0s - loss: 0.029 - 3s 2ms/step - loss: 0.0294 - val_loss: 0.0449\n",
      "Epoch 3/200\n",
      "1280/1280 [==============================] - ETA: 2s - loss: 0.031 - ETA: 2s - loss: 0.030 - ETA: 2s - loss: 0.029 - ETA: 1s - loss: 0.028 - ETA: 1s - loss: 0.027 - ETA: 1s - loss: 0.026 - ETA: 0s - loss: 0.026 - ETA: 0s - loss: 0.026 - ETA: 0s - loss: 0.026 - 3s 2ms/step - loss: 0.0264 - val_loss: 0.0284\n",
      "Epoch 4/200\n",
      "1280/1280 [==============================] - ETA: 2s - loss: 0.028 - ETA: 2s - loss: 0.029 - ETA: 2s - loss: 0.029 - ETA: 1s - loss: 0.028 - ETA: 1s - loss: 0.027 - ETA: 1s - loss: 0.027 - ETA: 0s - loss: 0.026 - ETA: 0s - loss: 0.026 - ETA: 0s - loss: 0.025 - 3s 2ms/step - loss: 0.0254 - val_loss: 0.0300\n",
      "Epoch 5/200\n",
      "1280/1280 [==============================] - ETA: 2s - loss: 0.024 - ETA: 2s - loss: 0.024 - ETA: 2s - loss: 0.024 - ETA: 1s - loss: 0.023 - ETA: 1s - loss: 0.023 - ETA: 1s - loss: 0.022 - ETA: 0s - loss: 0.022 - ETA: 0s - loss: 0.022 - ETA: 0s - loss: 0.022 - 3s 3ms/step - loss: 0.0230 - val_loss: 0.0337\n",
      "Epoch 6/200\n",
      "1280/1280 [==============================] - ETA: 2s - loss: 0.021 - ETA: 2s - loss: 0.020 - ETA: 2s - loss: 0.020 - ETA: 1s - loss: 0.019 - ETA: 1s - loss: 0.019 - ETA: 1s - loss: 0.019 - ETA: 0s - loss: 0.019 - ETA: 0s - loss: 0.019 - ETA: 0s - loss: 0.019 - 3s 3ms/step - loss: 0.0189 - val_loss: 0.0255\n",
      "Epoch 7/200\n",
      "1280/1280 [==============================] - ETA: 2s - loss: 0.019 - ETA: 2s - loss: 0.021 - ETA: 2s - loss: 0.024 - ETA: 1s - loss: 0.025 - ETA: 1s - loss: 0.024 - ETA: 1s - loss: 0.024 - ETA: 0s - loss: 0.023 - ETA: 0s - loss: 0.022 - ETA: 0s - loss: 0.021 - 3s 3ms/step - loss: 0.0209 - val_loss: 0.0418\n",
      "Epoch 8/200\n",
      "1280/1280 [==============================] - ETA: 2s - loss: 0.015 - ETA: 2s - loss: 0.016 - ETA: 2s - loss: 0.017 - ETA: 1s - loss: 0.019 - ETA: 1s - loss: 0.019 - ETA: 1s - loss: 0.019 - ETA: 0s - loss: 0.020 - ETA: 0s - loss: 0.020 - ETA: 0s - loss: 0.019 - 3s 3ms/step - loss: 0.0192 - val_loss: 0.0501\n",
      "Epoch 9/200\n",
      "1280/1280 [==============================] - ETA: 2s - loss: 0.014 - ETA: 2s - loss: 0.014 - ETA: 2s - loss: 0.014 - ETA: 1s - loss: 0.014 - ETA: 1s - loss: 0.015 - ETA: 1s - loss: 0.015 - ETA: 0s - loss: 0.015 - ETA: 0s - loss: 0.016 - ETA: 0s - loss: 0.016 - 3s 3ms/step - loss: 0.0166 - val_loss: 0.0656\n",
      "Epoch 10/200\n",
      "1280/1280 [==============================] - ETA: 2s - loss: 0.016 - ETA: 2s - loss: 0.015 - ETA: 2s - loss: 0.015 - ETA: 1s - loss: 0.015 - ETA: 1s - loss: 0.015 - ETA: 1s - loss: 0.015 - ETA: 0s - loss: 0.015 - ETA: 0s - loss: 0.015 - ETA: 0s - loss: 0.015 - 3s 3ms/step - loss: 0.0154 - val_loss: 0.0506\n",
      "Epoch 11/200\n",
      "1280/1280 [==============================] - ETA: 2s - loss: 0.013 - ETA: 2s - loss: 0.013 - ETA: 2s - loss: 0.013 - ETA: 1s - loss: 0.013 - ETA: 1s - loss: 0.013 - ETA: 1s - loss: 0.013 - ETA: 0s - loss: 0.013 - ETA: 0s - loss: 0.013 - ETA: 0s - loss: 0.013 - 3s 3ms/step - loss: 0.0139 - val_loss: 0.0585\n",
      "Epoch 12/200\n",
      "1280/1280 [==============================] - ETA: 2s - loss: 0.017 - ETA: 2s - loss: 0.016 - ETA: 2s - loss: 0.015 - ETA: 1s - loss: 0.018 - ETA: 1s - loss: 0.023 - ETA: 1s - loss: 0.026 - ETA: 0s - loss: 0.026 - ETA: 0s - loss: 0.025 - ETA: 0s - loss: 0.024 - 3s 3ms/step - loss: 0.0236 - val_loss: 0.1656\n",
      "Epoch 13/200\n",
      "1280/1280 [==============================] - ETA: 2s - loss: 0.013 - ETA: 2s - loss: 0.012 - ETA: 2s - loss: 0.012 - ETA: 1s - loss: 0.012 - ETA: 1s - loss: 0.012 - ETA: 1s - loss: 0.012 - ETA: 0s - loss: 0.012 - ETA: 0s - loss: 0.012 - ETA: 0s - loss: 0.012 - 3s 3ms/step - loss: 0.0128 - val_loss: 0.0788\n",
      "Epoch 14/200\n",
      "1280/1280 [==============================] - ETA: 2s - loss: 0.016 - ETA: 2s - loss: 0.015 - ETA: 2s - loss: 0.014 - ETA: 1s - loss: 0.013 - ETA: 1s - loss: 0.013 - ETA: 1s - loss: 0.013 - ETA: 0s - loss: 0.013 - ETA: 0s - loss: 0.013 - ETA: 0s - loss: 0.013 - 3s 3ms/step - loss: 0.0133 - val_loss: 0.0725\n",
      "Epoch 15/200\n",
      "1280/1280 [==============================] - ETA: 2s - loss: 0.011 - ETA: 2s - loss: 0.011 - ETA: 2s - loss: 0.011 - ETA: 1s - loss: 0.011 - ETA: 1s - loss: 0.011 - ETA: 1s - loss: 0.011 - ETA: 0s - loss: 0.011 - ETA: 0s - loss: 0.011 - ETA: 0s - loss: 0.011 - 3s 3ms/step - loss: 0.0118 - val_loss: 0.0537\n",
      "Epoch 16/200\n",
      "1280/1280 [==============================] - ETA: 2s - loss: 0.011 - ETA: 2s - loss: 0.011 - ETA: 2s - loss: 0.011 - ETA: 1s - loss: 0.011 - ETA: 1s - loss: 0.011 - ETA: 1s - loss: 0.011 - ETA: 0s - loss: 0.011 - ETA: 0s - loss: 0.011 - ETA: 0s - loss: 0.011 - 3s 3ms/step - loss: 0.0119 - val_loss: 0.0373\n",
      "Epoch 17/200\n",
      "1280/1280 [==============================] - ETA: 2s - loss: 0.011 - ETA: 2s - loss: 0.012 - ETA: 2s - loss: 0.013 - ETA: 1s - loss: 0.013 - ETA: 1s - loss: 0.013 - ETA: 1s - loss: 0.013 - ETA: 0s - loss: 0.013 - ETA: 0s - loss: 0.014 - ETA: 0s - loss: 0.014 - 3s 3ms/step - loss: 0.0138 - val_loss: 0.0426\n",
      "Epoch 18/200\n",
      "1280/1280 [==============================] - ETA: 2s - loss: 0.011 - ETA: 2s - loss: 0.010 - ETA: 2s - loss: 0.010 - ETA: 1s - loss: 0.010 - ETA: 1s - loss: 0.010 - ETA: 1s - loss: 0.011 - ETA: 0s - loss: 0.011 - ETA: 0s - loss: 0.011 - ETA: 0s - loss: 0.011 - 3s 3ms/step - loss: 0.0111 - val_loss: 0.0658\n",
      "Epoch 19/200\n",
      "1280/1280 [==============================] - ETA: 2s - loss: 0.015 - ETA: 2s - loss: 0.013 - ETA: 2s - loss: 0.012 - ETA: 1s - loss: 0.012 - ETA: 1s - loss: 0.012 - ETA: 1s - loss: 0.012 - ETA: 0s - loss: 0.012 - ETA: 0s - loss: 0.012 - ETA: 0s - loss: 0.012 - 3s 3ms/step - loss: 0.0119 - val_loss: 0.0624\n",
      "Epoch 20/200\n",
      "1280/1280 [==============================] - ETA: 2s - loss: 0.010 - ETA: 2s - loss: 0.010 - ETA: 2s - loss: 0.010 - ETA: 1s - loss: 0.010 - ETA: 1s - loss: 0.010 - ETA: 1s - loss: 0.010 - ETA: 0s - loss: 0.011 - ETA: 0s - loss: 0.011 - ETA: 0s - loss: 0.012 - 3s 3ms/step - loss: 0.0119 - val_loss: 0.0439\n",
      "Epoch 21/200\n",
      "1280/1280 [==============================] - ETA: 2s - loss: 0.010 - ETA: 2s - loss: 0.009 - ETA: 2s - loss: 0.009 - ETA: 1s - loss: 0.010 - ETA: 1s - loss: 0.010 - ETA: 1s - loss: 0.010 - ETA: 0s - loss: 0.010 - ETA: 0s - loss: 0.010 - ETA: 0s - loss: 0.010 - 3s 3ms/step - loss: 0.0104 - val_loss: 0.0419\n",
      "Epoch 22/200\n",
      "1280/1280 [==============================] - ETA: 2s - loss: 0.010 - ETA: 2s - loss: 0.010 - ETA: 2s - loss: 0.010 - ETA: 1s - loss: 0.009 - ETA: 1s - loss: 0.009 - ETA: 1s - loss: 0.010 - ETA: 0s - loss: 0.010 - ETA: 0s - loss: 0.010 - ETA: 0s - loss: 0.010 - 3s 3ms/step - loss: 0.0107 - val_loss: 0.0469\n",
      "Epoch 23/200\n",
      "1280/1280 [==============================] - ETA: 2s - loss: 0.010 - ETA: 2s - loss: 0.010 - ETA: 2s - loss: 0.010 - ETA: 1s - loss: 0.010 - ETA: 1s - loss: 0.010 - ETA: 1s - loss: 0.010 - ETA: 0s - loss: 0.010 - ETA: 0s - loss: 0.010 - ETA: 0s - loss: 0.010 - 3s 3ms/step - loss: 0.0106 - val_loss: 0.0388\n",
      "Epoch 24/200\n",
      "1280/1280 [==============================] - ETA: 2s - loss: 0.009 - ETA: 2s - loss: 0.009 - ETA: 2s - loss: 0.010 - ETA: 1s - loss: 0.010 - ETA: 1s - loss: 0.010 - ETA: 1s - loss: 0.010 - ETA: 0s - loss: 0.010 - ETA: 0s - loss: 0.010 - ETA: 0s - loss: 0.010 - 3s 3ms/step - loss: 0.0101 - val_loss: 0.0534\n",
      "Epoch 25/200\n",
      "1280/1280 [==============================] - ETA: 2s - loss: 0.008 - ETA: 2s - loss: 0.009 - ETA: 2s - loss: 0.009 - ETA: 1s - loss: 0.010 - ETA: 1s - loss: 0.010 - ETA: 1s - loss: 0.010 - ETA: 0s - loss: 0.010 - ETA: 0s - loss: 0.010 - ETA: 0s - loss: 0.010 - 3s 3ms/step - loss: 0.0101 - val_loss: 0.0392\n",
      "Epoch 26/200\n"
     ]
    },
    {
     "name": "stdout",
     "output_type": "stream",
     "text": [
      "1280/1280 [==============================] - ETA: 2s - loss: 0.009 - ETA: 2s - loss: 0.010 - ETA: 2s - loss: 0.010 - ETA: 1s - loss: 0.010 - ETA: 1s - loss: 0.010 - ETA: 1s - loss: 0.010 - ETA: 0s - loss: 0.010 - ETA: 0s - loss: 0.010 - ETA: 0s - loss: 0.010 - 3s 3ms/step - loss: 0.0101 - val_loss: 0.0385\n",
      "Epoch 27/200\n",
      "1280/1280 [==============================] - ETA: 2s - loss: 0.009 - ETA: 2s - loss: 0.009 - ETA: 2s - loss: 0.009 - ETA: 1s - loss: 0.009 - ETA: 1s - loss: 0.009 - ETA: 1s - loss: 0.009 - ETA: 0s - loss: 0.009 - ETA: 0s - loss: 0.009 - ETA: 0s - loss: 0.009 - 3s 3ms/step - loss: 0.0095 - val_loss: 0.0315\n",
      "Epoch 28/200\n",
      "1280/1280 [==============================] - ETA: 2s - loss: 0.009 - ETA: 2s - loss: 0.009 - ETA: 2s - loss: 0.009 - ETA: 1s - loss: 0.009 - ETA: 1s - loss: 0.009 - ETA: 1s - loss: 0.009 - ETA: 0s - loss: 0.009 - ETA: 0s - loss: 0.009 - ETA: 0s - loss: 0.009 - 3s 3ms/step - loss: 0.0093 - val_loss: 0.0303\n",
      "Epoch 29/200\n",
      "1280/1280 [==============================] - ETA: 2s - loss: 0.008 - ETA: 2s - loss: 0.008 - ETA: 2s - loss: 0.009 - ETA: 1s - loss: 0.009 - ETA: 1s - loss: 0.009 - ETA: 1s - loss: 0.009 - ETA: 0s - loss: 0.009 - ETA: 0s - loss: 0.009 - ETA: 0s - loss: 0.009 - 3s 3ms/step - loss: 0.0095 - val_loss: 0.0342\n",
      "Epoch 30/200\n",
      "1280/1280 [==============================] - ETA: 2s - loss: 0.008 - ETA: 2s - loss: 0.008 - ETA: 2s - loss: 0.008 - ETA: 1s - loss: 0.009 - ETA: 1s - loss: 0.009 - ETA: 1s - loss: 0.009 - ETA: 0s - loss: 0.009 - ETA: 0s - loss: 0.009 - ETA: 0s - loss: 0.009 - 3s 3ms/step - loss: 0.0090 - val_loss: 0.0277\n",
      "Epoch 31/200\n",
      "1280/1280 [==============================] - ETA: 2s - loss: 0.009 - ETA: 2s - loss: 0.009 - ETA: 2s - loss: 0.009 - ETA: 1s - loss: 0.008 - ETA: 1s - loss: 0.008 - ETA: 1s - loss: 0.008 - ETA: 0s - loss: 0.008 - ETA: 0s - loss: 0.008 - ETA: 0s - loss: 0.008 - 3s 3ms/step - loss: 0.0087 - val_loss: 0.0324\n",
      "Epoch 32/200\n",
      "1280/1280 [==============================] - ETA: 2s - loss: 0.010 - ETA: 2s - loss: 0.010 - ETA: 2s - loss: 0.010 - ETA: 1s - loss: 0.010 - ETA: 1s - loss: 0.009 - ETA: 1s - loss: 0.009 - ETA: 0s - loss: 0.009 - ETA: 0s - loss: 0.009 - ETA: 0s - loss: 0.009 - 3s 3ms/step - loss: 0.0090 - val_loss: 0.0273\n",
      "Epoch 33/200\n",
      "1280/1280 [==============================] - ETA: 2s - loss: 0.009 - ETA: 2s - loss: 0.008 - ETA: 2s - loss: 0.008 - ETA: 1s - loss: 0.008 - ETA: 1s - loss: 0.008 - ETA: 1s - loss: 0.008 - ETA: 0s - loss: 0.008 - ETA: 0s - loss: 0.008 - ETA: 0s - loss: 0.008 - 3s 3ms/step - loss: 0.0086 - val_loss: 0.0263\n",
      "Epoch 34/200\n",
      "1280/1280 [==============================] - ETA: 2s - loss: 0.007 - ETA: 2s - loss: 0.007 - ETA: 2s - loss: 0.007 - ETA: 1s - loss: 0.008 - ETA: 1s - loss: 0.008 - ETA: 1s - loss: 0.008 - ETA: 0s - loss: 0.008 - ETA: 0s - loss: 0.008 - ETA: 0s - loss: 0.008 - 3s 3ms/step - loss: 0.0087 - val_loss: 0.0288\n",
      "Epoch 35/200\n",
      "1280/1280 [==============================] - ETA: 2s - loss: 0.008 - ETA: 2s - loss: 0.008 - ETA: 2s - loss: 0.008 - ETA: 1s - loss: 0.008 - ETA: 1s - loss: 0.008 - ETA: 1s - loss: 0.008 - ETA: 0s - loss: 0.008 - ETA: 0s - loss: 0.008 - ETA: 0s - loss: 0.008 - 3s 3ms/step - loss: 0.0090 - val_loss: 0.1384\n",
      "Epoch 36/200\n",
      "1280/1280 [==============================] - ETA: 2s - loss: 0.009 - ETA: 2s - loss: 0.008 - ETA: 2s - loss: 0.008 - ETA: 1s - loss: 0.008 - ETA: 1s - loss: 0.008 - ETA: 1s - loss: 0.008 - ETA: 0s - loss: 0.008 - ETA: 0s - loss: 0.008 - ETA: 0s - loss: 0.008 - 3s 3ms/step - loss: 0.0080 - val_loss: 0.0385\n",
      "Epoch 37/200\n",
      "1280/1280 [==============================] - ETA: 2s - loss: 0.008 - ETA: 2s - loss: 0.008 - ETA: 2s - loss: 0.008 - ETA: 1s - loss: 0.008 - ETA: 1s - loss: 0.008 - ETA: 1s - loss: 0.008 - ETA: 0s - loss: 0.008 - ETA: 0s - loss: 0.008 - ETA: 0s - loss: 0.008 - 3s 3ms/step - loss: 0.0082 - val_loss: 0.0299\n",
      "Epoch 38/200\n",
      "1280/1280 [==============================] - ETA: 2s - loss: 0.008 - ETA: 2s - loss: 0.007 - ETA: 2s - loss: 0.007 - ETA: 1s - loss: 0.007 - ETA: 1s - loss: 0.007 - ETA: 1s - loss: 0.007 - ETA: 0s - loss: 0.008 - ETA: 0s - loss: 0.008 - ETA: 0s - loss: 0.008 - 3s 3ms/step - loss: 0.0080 - val_loss: 0.0186\n",
      "Epoch 39/200\n",
      "1280/1280 [==============================] - ETA: 2s - loss: 0.007 - ETA: 2s - loss: 0.007 - ETA: 2s - loss: 0.007 - ETA: 1s - loss: 0.007 - ETA: 1s - loss: 0.007 - ETA: 1s - loss: 0.007 - ETA: 0s - loss: 0.007 - ETA: 0s - loss: 0.007 - ETA: 0s - loss: 0.007 - 3s 3ms/step - loss: 0.0078 - val_loss: 0.0243\n",
      "Epoch 40/200\n",
      "1280/1280 [==============================] - ETA: 2s - loss: 0.009 - ETA: 2s - loss: 0.009 - ETA: 2s - loss: 0.009 - ETA: 1s - loss: 0.009 - ETA: 1s - loss: 0.009 - ETA: 1s - loss: 0.009 - ETA: 0s - loss: 0.009 - ETA: 0s - loss: 0.008 - ETA: 0s - loss: 0.008 - 3s 3ms/step - loss: 0.0086 - val_loss: 0.0189\n",
      "Epoch 41/200\n",
      "1280/1280 [==============================] - ETA: 2s - loss: 0.008 - ETA: 2s - loss: 0.008 - ETA: 2s - loss: 0.008 - ETA: 1s - loss: 0.008 - ETA: 1s - loss: 0.008 - ETA: 1s - loss: 0.007 - ETA: 0s - loss: 0.007 - ETA: 0s - loss: 0.007 - ETA: 0s - loss: 0.007 - 3s 3ms/step - loss: 0.0076 - val_loss: 0.0150\n",
      "Epoch 42/200\n",
      "1280/1280 [==============================] - ETA: 2s - loss: 0.007 - ETA: 2s - loss: 0.008 - ETA: 2s - loss: 0.008 - ETA: 1s - loss: 0.008 - ETA: 1s - loss: 0.008 - ETA: 1s - loss: 0.008 - ETA: 0s - loss: 0.008 - ETA: 0s - loss: 0.008 - ETA: 0s - loss: 0.008 - 3s 3ms/step - loss: 0.0081 - val_loss: 0.0161\n",
      "Epoch 43/200\n",
      "1280/1280 [==============================] - ETA: 2s - loss: 0.006 - ETA: 2s - loss: 0.007 - ETA: 2s - loss: 0.007 - ETA: 1s - loss: 0.007 - ETA: 1s - loss: 0.007 - ETA: 1s - loss: 0.007 - ETA: 0s - loss: 0.007 - ETA: 0s - loss: 0.007 - ETA: 0s - loss: 0.007 - 3s 3ms/step - loss: 0.0077 - val_loss: 0.0209\n",
      "Epoch 44/200\n",
      "1280/1280 [==============================] - ETA: 2s - loss: 0.008 - ETA: 2s - loss: 0.008 - ETA: 2s - loss: 0.007 - ETA: 1s - loss: 0.007 - ETA: 1s - loss: 0.007 - ETA: 1s - loss: 0.007 - ETA: 0s - loss: 0.007 - ETA: 0s - loss: 0.007 - ETA: 0s - loss: 0.007 - 3s 3ms/step - loss: 0.0077 - val_loss: 0.0168\n",
      "Epoch 45/200\n",
      "1280/1280 [==============================] - ETA: 2s - loss: 0.007 - ETA: 2s - loss: 0.007 - ETA: 2s - loss: 0.007 - ETA: 1s - loss: 0.007 - ETA: 1s - loss: 0.007 - ETA: 1s - loss: 0.007 - ETA: 0s - loss: 0.007 - ETA: 0s - loss: 0.007 - ETA: 0s - loss: 0.007 - 3s 3ms/step - loss: 0.0076 - val_loss: 0.0160\n",
      "Epoch 46/200\n",
      "1280/1280 [==============================] - ETA: 2s - loss: 0.007 - ETA: 2s - loss: 0.007 - ETA: 2s - loss: 0.008 - ETA: 1s - loss: 0.007 - ETA: 1s - loss: 0.007 - ETA: 1s - loss: 0.007 - ETA: 0s - loss: 0.007 - ETA: 0s - loss: 0.007 - ETA: 0s - loss: 0.007 - 3s 3ms/step - loss: 0.0073 - val_loss: 0.0150\n",
      "Epoch 47/200\n",
      "1280/1280 [==============================] - ETA: 2s - loss: 0.008 - ETA: 2s - loss: 0.008 - ETA: 2s - loss: 0.008 - ETA: 1s - loss: 0.008 - ETA: 1s - loss: 0.008 - ETA: 1s - loss: 0.008 - ETA: 0s - loss: 0.008 - ETA: 0s - loss: 0.007 - ETA: 0s - loss: 0.007 - 3s 3ms/step - loss: 0.0077 - val_loss: 0.0165\n",
      "Epoch 48/200\n",
      "1280/1280 [==============================] - ETA: 2s - loss: 0.007 - ETA: 2s - loss: 0.006 - ETA: 2s - loss: 0.006 - ETA: 1s - loss: 0.006 - ETA: 1s - loss: 0.006 - ETA: 1s - loss: 0.006 - ETA: 0s - loss: 0.006 - ETA: 0s - loss: 0.007 - ETA: 0s - loss: 0.007 - 3s 3ms/step - loss: 0.0073 - val_loss: 0.0182\n",
      "Epoch 49/200\n",
      "1280/1280 [==============================] - ETA: 2s - loss: 0.007 - ETA: 2s - loss: 0.007 - ETA: 2s - loss: 0.007 - ETA: 1s - loss: 0.007 - ETA: 1s - loss: 0.007 - ETA: 1s - loss: 0.007 - ETA: 0s - loss: 0.007 - ETA: 0s - loss: 0.007 - ETA: 0s - loss: 0.007 - 3s 3ms/step - loss: 0.0074 - val_loss: 0.0151\n",
      "Epoch 50/200\n",
      "1280/1280 [==============================] - ETA: 2s - loss: 0.008 - ETA: 2s - loss: 0.008 - ETA: 2s - loss: 0.007 - ETA: 1s - loss: 0.007 - ETA: 1s - loss: 0.007 - ETA: 1s - loss: 0.007 - ETA: 0s - loss: 0.007 - ETA: 0s - loss: 0.007 - ETA: 0s - loss: 0.007 - 3s 3ms/step - loss: 0.0072 - val_loss: 0.0150\n",
      "Epoch 51/200\n"
     ]
    },
    {
     "name": "stdout",
     "output_type": "stream",
     "text": [
      "1280/1280 [==============================] - ETA: 2s - loss: 0.007 - ETA: 2s - loss: 0.007 - ETA: 2s - loss: 0.007 - ETA: 1s - loss: 0.007 - ETA: 1s - loss: 0.007 - ETA: 1s - loss: 0.007 - ETA: 0s - loss: 0.007 - ETA: 0s - loss: 0.007 - ETA: 0s - loss: 0.007 - 3s 3ms/step - loss: 0.0072 - val_loss: 0.0145\n",
      "Epoch 52/200\n",
      "1280/1280 [==============================] - ETA: 2s - loss: 0.008 - ETA: 2s - loss: 0.008 - ETA: 2s - loss: 0.007 - ETA: 1s - loss: 0.007 - ETA: 1s - loss: 0.007 - ETA: 1s - loss: 0.007 - ETA: 0s - loss: 0.007 - ETA: 0s - loss: 0.007 - ETA: 0s - loss: 0.007 - 3s 3ms/step - loss: 0.0073 - val_loss: 0.0182\n",
      "Epoch 53/200\n",
      "1280/1280 [==============================] - ETA: 2s - loss: 0.007 - ETA: 2s - loss: 0.007 - ETA: 2s - loss: 0.006 - ETA: 1s - loss: 0.006 - ETA: 1s - loss: 0.006 - ETA: 1s - loss: 0.007 - ETA: 0s - loss: 0.006 - ETA: 0s - loss: 0.006 - ETA: 0s - loss: 0.006 - 3s 3ms/step - loss: 0.0069 - val_loss: 0.0152\n",
      "Epoch 54/200\n",
      "1280/1280 [==============================] - ETA: 2s - loss: 0.007 - ETA: 2s - loss: 0.007 - ETA: 2s - loss: 0.007 - ETA: 1s - loss: 0.007 - ETA: 1s - loss: 0.007 - ETA: 1s - loss: 0.007 - ETA: 0s - loss: 0.007 - ETA: 0s - loss: 0.007 - ETA: 0s - loss: 0.007 - 3s 3ms/step - loss: 0.0072 - val_loss: 0.0143\n",
      "Epoch 55/200\n",
      "1280/1280 [==============================] - ETA: 2s - loss: 0.007 - ETA: 2s - loss: 0.007 - ETA: 2s - loss: 0.007 - ETA: 1s - loss: 0.007 - ETA: 1s - loss: 0.007 - ETA: 1s - loss: 0.007 - ETA: 0s - loss: 0.007 - ETA: 0s - loss: 0.007 - ETA: 0s - loss: 0.007 - 3s 3ms/step - loss: 0.0073 - val_loss: 0.0132\n",
      "Epoch 56/200\n",
      "1280/1280 [==============================] - ETA: 2s - loss: 0.006 - ETA: 2s - loss: 0.006 - ETA: 2s - loss: 0.006 - ETA: 1s - loss: 0.006 - ETA: 1s - loss: 0.006 - ETA: 1s - loss: 0.006 - ETA: 0s - loss: 0.006 - ETA: 0s - loss: 0.006 - ETA: 0s - loss: 0.006 - 3s 3ms/step - loss: 0.0068 - val_loss: 0.0123\n",
      "Epoch 57/200\n",
      "1280/1280 [==============================] - ETA: 2s - loss: 0.006 - ETA: 2s - loss: 0.006 - ETA: 2s - loss: 0.006 - ETA: 1s - loss: 0.006 - ETA: 1s - loss: 0.006 - ETA: 1s - loss: 0.006 - ETA: 0s - loss: 0.009 - ETA: 0s - loss: 0.015 - ETA: 0s - loss: 0.015 - 3s 3ms/step - loss: 0.0160 - val_loss: 0.0344\n",
      "Epoch 58/200\n",
      "1280/1280 [==============================] - ETA: 2s - loss: 0.011 - ETA: 2s - loss: 0.009 - ETA: 2s - loss: 0.008 - ETA: 1s - loss: 0.008 - ETA: 1s - loss: 0.007 - ETA: 1s - loss: 0.007 - ETA: 0s - loss: 0.007 - ETA: 0s - loss: 0.007 - ETA: 0s - loss: 0.007 - 3s 3ms/step - loss: 0.0069 - val_loss: 0.0148\n",
      "Epoch 59/200\n",
      "1280/1280 [==============================] - ETA: 2s - loss: 0.005 - ETA: 2s - loss: 0.005 - ETA: 2s - loss: 0.005 - ETA: 1s - loss: 0.005 - ETA: 1s - loss: 0.005 - ETA: 1s - loss: 0.005 - ETA: 0s - loss: 0.005 - ETA: 0s - loss: 0.006 - ETA: 0s - loss: 0.006 - 3s 3ms/step - loss: 0.0060 - val_loss: 0.0099\n",
      "Epoch 60/200\n",
      "1280/1280 [==============================] - ETA: 2s - loss: 0.006 - ETA: 2s - loss: 0.006 - ETA: 2s - loss: 0.005 - ETA: 1s - loss: 0.005 - ETA: 1s - loss: 0.005 - ETA: 1s - loss: 0.005 - ETA: 0s - loss: 0.006 - ETA: 0s - loss: 0.006 - ETA: 0s - loss: 0.006 - 3s 3ms/step - loss: 0.0062 - val_loss: 0.0096\n",
      "Epoch 61/200\n",
      "1280/1280 [==============================] - ETA: 2s - loss: 0.006 - ETA: 2s - loss: 0.006 - ETA: 2s - loss: 0.006 - ETA: 1s - loss: 0.006 - ETA: 1s - loss: 0.006 - ETA: 1s - loss: 0.006 - ETA: 0s - loss: 0.006 - ETA: 0s - loss: 0.006 - ETA: 0s - loss: 0.006 - 3s 3ms/step - loss: 0.0064 - val_loss: 0.0104\n",
      "Epoch 62/200\n",
      "1280/1280 [==============================] - ETA: 2s - loss: 0.006 - ETA: 2s - loss: 0.006 - ETA: 2s - loss: 0.006 - ETA: 1s - loss: 0.006 - ETA: 1s - loss: 0.006 - ETA: 1s - loss: 0.006 - ETA: 0s - loss: 0.006 - ETA: 0s - loss: 0.006 - ETA: 0s - loss: 0.006 - 3s 3ms/step - loss: 0.0067 - val_loss: 0.0090\n",
      "Epoch 63/200\n",
      "1280/1280 [==============================] - ETA: 2s - loss: 0.006 - ETA: 2s - loss: 0.007 - ETA: 2s - loss: 0.007 - ETA: 1s - loss: 0.007 - ETA: 1s - loss: 0.006 - ETA: 1s - loss: 0.006 - ETA: 0s - loss: 0.006 - ETA: 0s - loss: 0.006 - ETA: 0s - loss: 0.006 - 3s 3ms/step - loss: 0.0068 - val_loss: 0.0110\n",
      "Epoch 64/200\n",
      "1280/1280 [==============================] - ETA: 2s - loss: 0.007 - ETA: 2s - loss: 0.007 - ETA: 2s - loss: 0.007 - ETA: 1s - loss: 0.006 - ETA: 1s - loss: 0.006 - ETA: 1s - loss: 0.006 - ETA: 0s - loss: 0.006 - ETA: 0s - loss: 0.006 - ETA: 0s - loss: 0.006 - 3s 3ms/step - loss: 0.0065 - val_loss: 0.0083\n",
      "Epoch 65/200\n",
      "1280/1280 [==============================] - ETA: 2s - loss: 0.006 - ETA: 2s - loss: 0.007 - ETA: 2s - loss: 0.007 - ETA: 1s - loss: 0.007 - ETA: 1s - loss: 0.007 - ETA: 1s - loss: 0.007 - ETA: 0s - loss: 0.007 - ETA: 0s - loss: 0.007 - ETA: 0s - loss: 0.007 - 3s 3ms/step - loss: 0.0069 - val_loss: 0.0097\n",
      "Epoch 66/200\n",
      "1280/1280 [==============================] - ETA: 2s - loss: 0.005 - ETA: 2s - loss: 0.005 - ETA: 2s - loss: 0.006 - ETA: 1s - loss: 0.006 - ETA: 1s - loss: 0.006 - ETA: 1s - loss: 0.006 - ETA: 0s - loss: 0.006 - ETA: 0s - loss: 0.006 - ETA: 0s - loss: 0.006 - 3s 3ms/step - loss: 0.0068 - val_loss: 0.0085\n",
      "Epoch 67/200\n",
      "1280/1280 [==============================] - ETA: 2s - loss: 0.006 - ETA: 2s - loss: 0.006 - ETA: 2s - loss: 0.006 - ETA: 1s - loss: 0.006 - ETA: 1s - loss: 0.006 - ETA: 1s - loss: 0.006 - ETA: 0s - loss: 0.006 - ETA: 0s - loss: 0.006 - ETA: 0s - loss: 0.006 - 3s 3ms/step - loss: 0.0064 - val_loss: 0.0141\n",
      "Epoch 68/200\n",
      "1280/1280 [==============================] - ETA: 2s - loss: 0.007 - ETA: 2s - loss: 0.007 - ETA: 2s - loss: 0.007 - ETA: 1s - loss: 0.006 - ETA: 1s - loss: 0.007 - ETA: 1s - loss: 0.006 - ETA: 0s - loss: 0.007 - ETA: 0s - loss: 0.007 - ETA: 0s - loss: 0.006 - 3s 3ms/step - loss: 0.0068 - val_loss: 0.0094\n",
      "Epoch 69/200\n",
      "1280/1280 [==============================] - ETA: 2s - loss: 0.005 - ETA: 2s - loss: 0.006 - ETA: 2s - loss: 0.006 - ETA: 1s - loss: 0.006 - ETA: 1s - loss: 0.006 - ETA: 1s - loss: 0.006 - ETA: 0s - loss: 0.006 - ETA: 0s - loss: 0.006 - ETA: 0s - loss: 0.006 - 3s 3ms/step - loss: 0.0064 - val_loss: 0.0106\n",
      "Epoch 70/200\n",
      "1280/1280 [==============================] - ETA: 2s - loss: 0.006 - ETA: 2s - loss: 0.006 - ETA: 2s - loss: 0.006 - ETA: 1s - loss: 0.006 - ETA: 1s - loss: 0.006 - ETA: 1s - loss: 0.006 - ETA: 0s - loss: 0.006 - ETA: 0s - loss: 0.006 - ETA: 0s - loss: 0.006 - 3s 3ms/step - loss: 0.0064 - val_loss: 0.0102\n",
      "Epoch 71/200\n",
      "1280/1280 [==============================] - ETA: 2s - loss: 0.005 - ETA: 2s - loss: 0.005 - ETA: 2s - loss: 0.006 - ETA: 1s - loss: 0.006 - ETA: 1s - loss: 0.006 - ETA: 1s - loss: 0.006 - ETA: 0s - loss: 0.006 - ETA: 0s - loss: 0.006 - ETA: 0s - loss: 0.006 - 3s 3ms/step - loss: 0.0064 - val_loss: 0.0100\n",
      "Epoch 72/200\n",
      "1280/1280 [==============================] - ETA: 2s - loss: 0.006 - ETA: 2s - loss: 0.006 - ETA: 2s - loss: 0.006 - ETA: 1s - loss: 0.006 - ETA: 1s - loss: 0.006 - ETA: 1s - loss: 0.006 - ETA: 0s - loss: 0.006 - ETA: 0s - loss: 0.006 - ETA: 0s - loss: 0.006 - 3s 3ms/step - loss: 0.0066 - val_loss: 0.0098\n",
      "Epoch 73/200\n",
      "1280/1280 [==============================] - ETA: 2s - loss: 0.006 - ETA: 2s - loss: 0.006 - ETA: 2s - loss: 0.006 - ETA: 1s - loss: 0.006 - ETA: 1s - loss: 0.006 - ETA: 1s - loss: 0.006 - ETA: 0s - loss: 0.006 - ETA: 0s - loss: 0.006 - ETA: 0s - loss: 0.006 - 3s 3ms/step - loss: 0.0064 - val_loss: 0.0100\n",
      "Epoch 74/200\n",
      "1280/1280 [==============================] - ETA: 2s - loss: 0.006 - ETA: 2s - loss: 0.006 - ETA: 2s - loss: 0.006 - ETA: 1s - loss: 0.006 - ETA: 1s - loss: 0.006 - ETA: 1s - loss: 0.006 - ETA: 0s - loss: 0.006 - ETA: 0s - loss: 0.006 - ETA: 0s - loss: 0.006 - 3s 3ms/step - loss: 0.0063 - val_loss: 0.0096\n",
      "Epoch 75/200\n",
      "1280/1280 [==============================] - ETA: 2s - loss: 0.006 - ETA: 2s - loss: 0.006 - ETA: 2s - loss: 0.006 - ETA: 1s - loss: 0.006 - ETA: 1s - loss: 0.006 - ETA: 1s - loss: 0.006 - ETA: 0s - loss: 0.006 - ETA: 0s - loss: 0.006 - ETA: 0s - loss: 0.006 - 3s 3ms/step - loss: 0.0063 - val_loss: 0.0111\n",
      "Epoch 76/200\n"
     ]
    },
    {
     "name": "stdout",
     "output_type": "stream",
     "text": [
      "1280/1280 [==============================] - ETA: 2s - loss: 0.006 - ETA: 2s - loss: 0.005 - ETA: 2s - loss: 0.006 - ETA: 1s - loss: 0.006 - ETA: 1s - loss: 0.006 - ETA: 1s - loss: 0.006 - ETA: 0s - loss: 0.005 - ETA: 0s - loss: 0.005 - ETA: 0s - loss: 0.006 - 3s 3ms/step - loss: 0.0060 - val_loss: 0.0089\n",
      "Epoch 77/200\n",
      "1280/1280 [==============================] - ETA: 2s - loss: 0.005 - ETA: 2s - loss: 0.005 - ETA: 2s - loss: 0.006 - ETA: 1s - loss: 0.006 - ETA: 1s - loss: 0.006 - ETA: 1s - loss: 0.006 - ETA: 0s - loss: 0.006 - ETA: 0s - loss: 0.006 - ETA: 0s - loss: 0.006 - 3s 3ms/step - loss: 0.0064 - val_loss: 0.0091\n",
      "Epoch 78/200\n",
      "1280/1280 [==============================] - ETA: 2s - loss: 0.005 - ETA: 2s - loss: 0.005 - ETA: 2s - loss: 0.005 - ETA: 1s - loss: 0.005 - ETA: 1s - loss: 0.005 - ETA: 1s - loss: 0.005 - ETA: 0s - loss: 0.005 - ETA: 0s - loss: 0.005 - ETA: 0s - loss: 0.005 - 3s 3ms/step - loss: 0.0059 - val_loss: 0.0088\n",
      "Epoch 79/200\n",
      "1280/1280 [==============================] - ETA: 2s - loss: 0.006 - ETA: 2s - loss: 0.005 - ETA: 2s - loss: 0.006 - ETA: 1s - loss: 0.006 - ETA: 1s - loss: 0.006 - ETA: 1s - loss: 0.006 - ETA: 0s - loss: 0.006 - ETA: 0s - loss: 0.006 - ETA: 0s - loss: 0.006 - 3s 3ms/step - loss: 0.0063 - val_loss: 0.0120\n",
      "Epoch 80/200\n",
      "1280/1280 [==============================] - ETA: 2s - loss: 0.005 - ETA: 2s - loss: 0.005 - ETA: 2s - loss: 0.005 - ETA: 1s - loss: 0.005 - ETA: 1s - loss: 0.005 - ETA: 1s - loss: 0.005 - ETA: 0s - loss: 0.005 - ETA: 0s - loss: 0.005 - ETA: 0s - loss: 0.006 - 3s 3ms/step - loss: 0.0061 - val_loss: 0.0101\n",
      "Epoch 81/200\n",
      "1280/1280 [==============================] - ETA: 2s - loss: 0.007 - ETA: 2s - loss: 0.006 - ETA: 2s - loss: 0.006 - ETA: 1s - loss: 0.006 - ETA: 1s - loss: 0.006 - ETA: 1s - loss: 0.006 - ETA: 0s - loss: 0.005 - ETA: 0s - loss: 0.006 - ETA: 0s - loss: 0.006 - 3s 3ms/step - loss: 0.0060 - val_loss: 0.0091\n",
      "Epoch 82/200\n",
      "1280/1280 [==============================] - ETA: 2s - loss: 0.006 - ETA: 2s - loss: 0.006 - ETA: 2s - loss: 0.006 - ETA: 1s - loss: 0.006 - ETA: 1s - loss: 0.006 - ETA: 1s - loss: 0.006 - ETA: 0s - loss: 0.006 - ETA: 0s - loss: 0.006 - ETA: 0s - loss: 0.006 - 3s 3ms/step - loss: 0.0060 - val_loss: 0.0096\n",
      "Epoch 83/200\n",
      "1280/1280 [==============================] - ETA: 2s - loss: 0.006 - ETA: 2s - loss: 0.005 - ETA: 2s - loss: 0.005 - ETA: 1s - loss: 0.005 - ETA: 1s - loss: 0.006 - ETA: 1s - loss: 0.006 - ETA: 0s - loss: 0.006 - ETA: 0s - loss: 0.006 - ETA: 0s - loss: 0.006 - 3s 3ms/step - loss: 0.0059 - val_loss: 0.0094\n",
      "Epoch 84/200\n",
      "1280/1280 [==============================] - ETA: 2s - loss: 0.005 - ETA: 2s - loss: 0.005 - ETA: 2s - loss: 0.005 - ETA: 1s - loss: 0.005 - ETA: 1s - loss: 0.005 - ETA: 1s - loss: 0.005 - ETA: 0s - loss: 0.005 - ETA: 0s - loss: 0.005 - ETA: 0s - loss: 0.006 - 3s 3ms/step - loss: 0.0060 - val_loss: 0.0102\n",
      "Epoch 85/200\n",
      "1280/1280 [==============================] - ETA: 2s - loss: 0.005 - ETA: 2s - loss: 0.005 - ETA: 2s - loss: 0.005 - ETA: 1s - loss: 0.005 - ETA: 1s - loss: 0.005 - ETA: 1s - loss: 0.005 - ETA: 0s - loss: 0.005 - ETA: 0s - loss: 0.005 - ETA: 0s - loss: 0.005 - 3s 3ms/step - loss: 0.0058 - val_loss: 0.0086\n",
      "Epoch 86/200\n",
      "1280/1280 [==============================] - ETA: 2s - loss: 0.005 - ETA: 2s - loss: 0.005 - ETA: 2s - loss: 0.006 - ETA: 1s - loss: 0.006 - ETA: 1s - loss: 0.006 - ETA: 1s - loss: 0.006 - ETA: 0s - loss: 0.006 - ETA: 0s - loss: 0.006 - ETA: 0s - loss: 0.006 - 3s 3ms/step - loss: 0.0062 - val_loss: 0.0100\n",
      "Epoch 87/200\n",
      "1280/1280 [==============================] - ETA: 2s - loss: 0.006 - ETA: 2s - loss: 0.006 - ETA: 2s - loss: 0.006 - ETA: 1s - loss: 0.006 - ETA: 1s - loss: 0.006 - ETA: 1s - loss: 0.006 - ETA: 0s - loss: 0.006 - ETA: 0s - loss: 0.006 - ETA: 0s - loss: 0.006 - 3s 3ms/step - loss: 0.0061 - val_loss: 0.0103\n",
      "Epoch 88/200\n",
      "1280/1280 [==============================] - ETA: 2s - loss: 0.006 - ETA: 2s - loss: 0.005 - ETA: 2s - loss: 0.005 - ETA: 1s - loss: 0.005 - ETA: 1s - loss: 0.005 - ETA: 1s - loss: 0.005 - ETA: 0s - loss: 0.005 - ETA: 0s - loss: 0.005 - ETA: 0s - loss: 0.006 - 3s 3ms/step - loss: 0.0060 - val_loss: 0.0084\n",
      "Epoch 89/200\n",
      "1280/1280 [==============================] - ETA: 2s - loss: 0.005 - ETA: 2s - loss: 0.005 - ETA: 2s - loss: 0.005 - ETA: 1s - loss: 0.005 - ETA: 1s - loss: 0.005 - ETA: 1s - loss: 0.005 - ETA: 0s - loss: 0.005 - ETA: 0s - loss: 0.005 - ETA: 0s - loss: 0.005 - 3s 3ms/step - loss: 0.0055 - val_loss: 0.0090\n",
      "Epoch 90/200\n",
      "1280/1280 [==============================] - ETA: 2s - loss: 0.005 - ETA: 2s - loss: 0.005 - ETA: 2s - loss: 0.005 - ETA: 1s - loss: 0.006 - ETA: 1s - loss: 0.006 - ETA: 1s - loss: 0.006 - ETA: 0s - loss: 0.006 - ETA: 0s - loss: 0.006 - ETA: 0s - loss: 0.006 - 3s 3ms/step - loss: 0.0062 - val_loss: 0.0088\n",
      "Epoch 91/200\n",
      "1280/1280 [==============================] - ETA: 2s - loss: 0.005 - ETA: 2s - loss: 0.005 - ETA: 2s - loss: 0.005 - ETA: 1s - loss: 0.005 - ETA: 1s - loss: 0.005 - ETA: 1s - loss: 0.005 - ETA: 0s - loss: 0.005 - ETA: 0s - loss: 0.005 - ETA: 0s - loss: 0.005 - 3s 3ms/step - loss: 0.0056 - val_loss: 0.0085\n",
      "Epoch 92/200\n",
      "1280/1280 [==============================] - ETA: 2s - loss: 0.007 - ETA: 2s - loss: 0.006 - ETA: 2s - loss: 0.006 - ETA: 1s - loss: 0.006 - ETA: 1s - loss: 0.006 - ETA: 1s - loss: 0.006 - ETA: 0s - loss: 0.006 - ETA: 0s - loss: 0.006 - ETA: 0s - loss: 0.006 - 3s 3ms/step - loss: 0.0061 - val_loss: 0.0080\n",
      "Epoch 93/200\n",
      "1280/1280 [==============================] - ETA: 2s - loss: 0.005 - ETA: 2s - loss: 0.005 - ETA: 2s - loss: 0.005 - ETA: 1s - loss: 0.005 - ETA: 1s - loss: 0.005 - ETA: 1s - loss: 0.005 - ETA: 0s - loss: 0.005 - ETA: 0s - loss: 0.005 - ETA: 0s - loss: 0.005 - 3s 3ms/step - loss: 0.0055 - val_loss: 0.0080\n",
      "Epoch 94/200\n",
      "1280/1280 [==============================] - ETA: 2s - loss: 0.006 - ETA: 2s - loss: 0.006 - ETA: 2s - loss: 0.005 - ETA: 1s - loss: 0.005 - ETA: 1s - loss: 0.005 - ETA: 1s - loss: 0.005 - ETA: 0s - loss: 0.005 - ETA: 0s - loss: 0.006 - ETA: 0s - loss: 0.006 - 3s 3ms/step - loss: 0.0060 - val_loss: 0.0077\n",
      "Epoch 95/200\n",
      "1280/1280 [==============================] - ETA: 2s - loss: 0.005 - ETA: 2s - loss: 0.005 - ETA: 2s - loss: 0.005 - ETA: 1s - loss: 0.005 - ETA: 1s - loss: 0.005 - ETA: 1s - loss: 0.005 - ETA: 0s - loss: 0.005 - ETA: 0s - loss: 0.005 - ETA: 0s - loss: 0.005 - 3s 3ms/step - loss: 0.0056 - val_loss: 0.0090\n",
      "Epoch 96/200\n",
      "1280/1280 [==============================] - ETA: 2s - loss: 0.005 - ETA: 2s - loss: 0.005 - ETA: 2s - loss: 0.005 - ETA: 1s - loss: 0.005 - ETA: 1s - loss: 0.005 - ETA: 1s - loss: 0.005 - ETA: 0s - loss: 0.005 - ETA: 0s - loss: 0.005 - ETA: 0s - loss: 0.005 - 3s 3ms/step - loss: 0.0057 - val_loss: 0.0095\n",
      "Epoch 97/200\n",
      "1280/1280 [==============================] - ETA: 2s - loss: 0.005 - ETA: 2s - loss: 0.005 - ETA: 2s - loss: 0.005 - ETA: 1s - loss: 0.005 - ETA: 1s - loss: 0.005 - ETA: 1s - loss: 0.005 - ETA: 0s - loss: 0.005 - ETA: 0s - loss: 0.005 - ETA: 0s - loss: 0.005 - 3s 3ms/step - loss: 0.0057 - val_loss: 0.0084\n",
      "Epoch 98/200\n",
      "1280/1280 [==============================] - ETA: 2s - loss: 0.006 - ETA: 2s - loss: 0.005 - ETA: 2s - loss: 0.005 - ETA: 1s - loss: 0.005 - ETA: 1s - loss: 0.005 - ETA: 1s - loss: 0.005 - ETA: 0s - loss: 0.005 - ETA: 0s - loss: 0.005 - ETA: 0s - loss: 0.005 - 3s 3ms/step - loss: 0.0057 - val_loss: 0.0082\n",
      "Epoch 99/200\n",
      "1280/1280 [==============================] - ETA: 2s - loss: 0.005 - ETA: 2s - loss: 0.005 - ETA: 2s - loss: 0.005 - ETA: 1s - loss: 0.005 - ETA: 1s - loss: 0.005 - ETA: 1s - loss: 0.005 - ETA: 0s - loss: 0.005 - ETA: 0s - loss: 0.005 - ETA: 0s - loss: 0.005 - 3s 3ms/step - loss: 0.0057 - val_loss: 0.0092\n",
      "Epoch 100/200\n",
      "1280/1280 [==============================] - ETA: 2s - loss: 0.005 - ETA: 2s - loss: 0.006 - ETA: 2s - loss: 0.005 - ETA: 1s - loss: 0.005 - ETA: 1s - loss: 0.005 - ETA: 1s - loss: 0.005 - ETA: 0s - loss: 0.005 - ETA: 0s - loss: 0.005 - ETA: 0s - loss: 0.005 - 3s 3ms/step - loss: 0.0055 - val_loss: 0.0086\n",
      "Epoch 101/200\n"
     ]
    },
    {
     "name": "stdout",
     "output_type": "stream",
     "text": [
      "1280/1280 [==============================] - ETA: 2s - loss: 0.005 - ETA: 2s - loss: 0.005 - ETA: 2s - loss: 0.005 - ETA: 1s - loss: 0.005 - ETA: 1s - loss: 0.006 - ETA: 1s - loss: 0.005 - ETA: 0s - loss: 0.005 - ETA: 0s - loss: 0.005 - ETA: 0s - loss: 0.005 - 3s 3ms/step - loss: 0.0055 - val_loss: 0.0074\n",
      "Epoch 102/200\n",
      "1280/1280 [==============================] - ETA: 2s - loss: 0.005 - ETA: 2s - loss: 0.005 - ETA: 2s - loss: 0.005 - ETA: 1s - loss: 0.005 - ETA: 1s - loss: 0.005 - ETA: 1s - loss: 0.005 - ETA: 0s - loss: 0.005 - ETA: 0s - loss: 0.005 - ETA: 0s - loss: 0.005 - 3s 3ms/step - loss: 0.0056 - val_loss: 0.0082\n",
      "Epoch 103/200\n",
      "1280/1280 [==============================] - ETA: 2s - loss: 0.005 - ETA: 2s - loss: 0.005 - ETA: 2s - loss: 0.005 - ETA: 1s - loss: 0.005 - ETA: 1s - loss: 0.005 - ETA: 1s - loss: 0.005 - ETA: 0s - loss: 0.005 - ETA: 0s - loss: 0.005 - ETA: 0s - loss: 0.005 - 3s 3ms/step - loss: 0.0057 - val_loss: 0.0080\n",
      "Epoch 104/200\n",
      "1280/1280 [==============================] - ETA: 2s - loss: 0.005 - ETA: 2s - loss: 0.005 - ETA: 2s - loss: 0.005 - ETA: 1s - loss: 0.005 - ETA: 1s - loss: 0.005 - ETA: 1s - loss: 0.005 - ETA: 0s - loss: 0.005 - ETA: 0s - loss: 0.005 - ETA: 0s - loss: 0.005 - 3s 3ms/step - loss: 0.0054 - val_loss: 0.0079\n",
      "Epoch 105/200\n",
      "1280/1280 [==============================] - ETA: 2s - loss: 0.004 - ETA: 2s - loss: 0.005 - ETA: 2s - loss: 0.005 - ETA: 1s - loss: 0.005 - ETA: 1s - loss: 0.005 - ETA: 1s - loss: 0.005 - ETA: 0s - loss: 0.005 - ETA: 0s - loss: 0.005 - ETA: 0s - loss: 0.005 - 3s 3ms/step - loss: 0.0054 - val_loss: 0.0090\n",
      "Epoch 106/200\n",
      "1280/1280 [==============================] - ETA: 2s - loss: 0.005 - ETA: 2s - loss: 0.005 - ETA: 2s - loss: 0.005 - ETA: 1s - loss: 0.005 - ETA: 1s - loss: 0.005 - ETA: 1s - loss: 0.005 - ETA: 0s - loss: 0.005 - ETA: 0s - loss: 0.005 - ETA: 0s - loss: 0.005 - 3s 3ms/step - loss: 0.0055 - val_loss: 0.0077\n",
      "Epoch 107/200\n",
      "1280/1280 [==============================] - ETA: 2s - loss: 0.006 - ETA: 2s - loss: 0.005 - ETA: 2s - loss: 0.005 - ETA: 1s - loss: 0.005 - ETA: 1s - loss: 0.005 - ETA: 1s - loss: 0.005 - ETA: 0s - loss: 0.005 - ETA: 0s - loss: 0.005 - ETA: 0s - loss: 0.005 - 3s 3ms/step - loss: 0.0054 - val_loss: 0.0082\n",
      "Epoch 108/200\n",
      "1280/1280 [==============================] - ETA: 2s - loss: 0.005 - ETA: 2s - loss: 0.005 - ETA: 2s - loss: 0.005 - ETA: 1s - loss: 0.005 - ETA: 1s - loss: 0.005 - ETA: 1s - loss: 0.005 - ETA: 0s - loss: 0.005 - ETA: 0s - loss: 0.005 - ETA: 0s - loss: 0.005 - 3s 3ms/step - loss: 0.0054 - val_loss: 0.0096\n",
      "Epoch 109/200\n",
      "1280/1280 [==============================] - ETA: 2s - loss: 0.006 - ETA: 2s - loss: 0.005 - ETA: 2s - loss: 0.005 - ETA: 1s - loss: 0.005 - ETA: 1s - loss: 0.005 - ETA: 1s - loss: 0.005 - ETA: 0s - loss: 0.005 - ETA: 0s - loss: 0.005 - ETA: 0s - loss: 0.005 - 3s 3ms/step - loss: 0.0054 - val_loss: 0.0082\n",
      "Epoch 110/200\n",
      "1280/1280 [==============================] - ETA: 2s - loss: 0.006 - ETA: 2s - loss: 0.006 - ETA: 2s - loss: 0.006 - ETA: 1s - loss: 0.006 - ETA: 1s - loss: 0.005 - ETA: 1s - loss: 0.005 - ETA: 0s - loss: 0.005 - ETA: 0s - loss: 0.005 - ETA: 0s - loss: 0.005 - 3s 3ms/step - loss: 0.0055 - val_loss: 0.0093\n",
      "Epoch 111/200\n",
      "1280/1280 [==============================] - ETA: 2s - loss: 0.005 - ETA: 2s - loss: 0.005 - ETA: 2s - loss: 0.005 - ETA: 1s - loss: 0.005 - ETA: 1s - loss: 0.005 - ETA: 1s - loss: 0.005 - ETA: 0s - loss: 0.005 - ETA: 0s - loss: 0.005 - ETA: 0s - loss: 0.005 - 3s 3ms/step - loss: 0.0053 - val_loss: 0.0087\n",
      "Epoch 112/200\n",
      "1280/1280 [==============================] - ETA: 2s - loss: 0.005 - ETA: 2s - loss: 0.005 - ETA: 2s - loss: 0.005 - ETA: 1s - loss: 0.005 - ETA: 1s - loss: 0.005 - ETA: 1s - loss: 0.005 - ETA: 0s - loss: 0.005 - ETA: 0s - loss: 0.005 - ETA: 0s - loss: 0.005 - 3s 3ms/step - loss: 0.0056 - val_loss: 0.0067\n",
      "Epoch 113/200\n",
      "1280/1280 [==============================] - ETA: 2s - loss: 0.004 - ETA: 2s - loss: 0.004 - ETA: 2s - loss: 0.004 - ETA: 1s - loss: 0.005 - ETA: 1s - loss: 0.005 - ETA: 1s - loss: 0.005 - ETA: 0s - loss: 0.005 - ETA: 0s - loss: 0.005 - ETA: 0s - loss: 0.005 - 3s 3ms/step - loss: 0.0052 - val_loss: 0.0078\n",
      "Epoch 114/200\n",
      "1280/1280 [==============================] - ETA: 2s - loss: 0.005 - ETA: 2s - loss: 0.005 - ETA: 2s - loss: 0.005 - ETA: 1s - loss: 0.005 - ETA: 1s - loss: 0.005 - ETA: 1s - loss: 0.005 - ETA: 0s - loss: 0.005 - ETA: 0s - loss: 0.005 - ETA: 0s - loss: 0.005 - 3s 3ms/step - loss: 0.0054 - val_loss: 0.0080\n",
      "Epoch 115/200\n",
      "1280/1280 [==============================] - ETA: 2s - loss: 0.005 - ETA: 2s - loss: 0.005 - ETA: 2s - loss: 0.005 - ETA: 1s - loss: 0.005 - ETA: 1s - loss: 0.005 - ETA: 1s - loss: 0.005 - ETA: 0s - loss: 0.005 - ETA: 0s - loss: 0.005 - ETA: 0s - loss: 0.005 - 3s 3ms/step - loss: 0.0054 - val_loss: 0.0072\n",
      "Epoch 116/200\n",
      "1280/1280 [==============================] - ETA: 2s - loss: 0.005 - ETA: 2s - loss: 0.005 - ETA: 2s - loss: 0.005 - ETA: 1s - loss: 0.005 - ETA: 1s - loss: 0.005 - ETA: 1s - loss: 0.005 - ETA: 0s - loss: 0.005 - ETA: 0s - loss: 0.005 - ETA: 0s - loss: 0.005 - 3s 3ms/step - loss: 0.0052 - val_loss: 0.0074\n",
      "Epoch 117/200\n",
      "1280/1280 [==============================] - ETA: 2s - loss: 0.005 - ETA: 2s - loss: 0.005 - ETA: 2s - loss: 0.005 - ETA: 1s - loss: 0.005 - ETA: 1s - loss: 0.005 - ETA: 1s - loss: 0.005 - ETA: 0s - loss: 0.005 - ETA: 0s - loss: 0.005 - ETA: 0s - loss: 0.005 - 3s 3ms/step - loss: 0.0053 - val_loss: 0.0073\n",
      "Epoch 118/200\n",
      "1280/1280 [==============================] - ETA: 2s - loss: 0.005 - ETA: 2s - loss: 0.004 - ETA: 2s - loss: 0.005 - ETA: 1s - loss: 0.005 - ETA: 1s - loss: 0.005 - ETA: 1s - loss: 0.005 - ETA: 0s - loss: 0.005 - ETA: 0s - loss: 0.005 - ETA: 0s - loss: 0.005 - 3s 3ms/step - loss: 0.0052 - val_loss: 0.0062\n",
      "Epoch 119/200\n",
      "1280/1280 [==============================] - ETA: 2s - loss: 0.005 - ETA: 2s - loss: 0.005 - ETA: 2s - loss: 0.005 - ETA: 1s - loss: 0.005 - ETA: 1s - loss: 0.005 - ETA: 1s - loss: 0.005 - ETA: 0s - loss: 0.005 - ETA: 0s - loss: 0.005 - ETA: 0s - loss: 0.005 - 3s 3ms/step - loss: 0.0053 - val_loss: 0.0075\n",
      "Epoch 120/200\n",
      "1280/1280 [==============================] - ETA: 2s - loss: 0.005 - ETA: 2s - loss: 0.005 - ETA: 2s - loss: 0.005 - ETA: 1s - loss: 0.005 - ETA: 1s - loss: 0.005 - ETA: 1s - loss: 0.004 - ETA: 0s - loss: 0.005 - ETA: 0s - loss: 0.005 - ETA: 0s - loss: 0.005 - 3s 3ms/step - loss: 0.0052 - val_loss: 0.0069\n",
      "Epoch 121/200\n",
      "1280/1280 [==============================] - ETA: 2s - loss: 0.005 - ETA: 2s - loss: 0.004 - ETA: 2s - loss: 0.004 - ETA: 1s - loss: 0.005 - ETA: 1s - loss: 0.005 - ETA: 1s - loss: 0.004 - ETA: 0s - loss: 0.004 - ETA: 0s - loss: 0.004 - ETA: 0s - loss: 0.004 - 3s 3ms/step - loss: 0.0050 - val_loss: 0.0091\n",
      "Epoch 122/200\n",
      "1280/1280 [==============================] - ETA: 2s - loss: 0.006 - ETA: 2s - loss: 0.005 - ETA: 2s - loss: 0.005 - ETA: 1s - loss: 0.005 - ETA: 1s - loss: 0.005 - ETA: 1s - loss: 0.005 - ETA: 0s - loss: 0.005 - ETA: 0s - loss: 0.005 - ETA: 0s - loss: 0.005 - 3s 3ms/step - loss: 0.0053 - val_loss: 0.0070\n",
      "Epoch 123/200\n",
      "1280/1280 [==============================] - ETA: 2s - loss: 0.005 - ETA: 2s - loss: 0.005 - ETA: 2s - loss: 0.004 - ETA: 1s - loss: 0.004 - ETA: 1s - loss: 0.004 - ETA: 1s - loss: 0.004 - ETA: 0s - loss: 0.004 - ETA: 0s - loss: 0.004 - ETA: 0s - loss: 0.004 - 3s 3ms/step - loss: 0.0050 - val_loss: 0.0082\n",
      "Epoch 124/200\n",
      "1280/1280 [==============================] - ETA: 2s - loss: 0.005 - ETA: 2s - loss: 0.005 - ETA: 2s - loss: 0.005 - ETA: 1s - loss: 0.005 - ETA: 1s - loss: 0.005 - ETA: 1s - loss: 0.005 - ETA: 0s - loss: 0.005 - ETA: 0s - loss: 0.005 - ETA: 0s - loss: 0.005 - 3s 3ms/step - loss: 0.0051 - val_loss: 0.0070\n",
      "Epoch 125/200\n",
      "1280/1280 [==============================] - ETA: 2s - loss: 0.005 - ETA: 2s - loss: 0.005 - ETA: 2s - loss: 0.005 - ETA: 1s - loss: 0.005 - ETA: 1s - loss: 0.005 - ETA: 1s - loss: 0.005 - ETA: 0s - loss: 0.005 - ETA: 0s - loss: 0.005 - ETA: 0s - loss: 0.005 - 3s 3ms/step - loss: 0.0050 - val_loss: 0.0064\n",
      "Epoch 126/200\n"
     ]
    },
    {
     "name": "stdout",
     "output_type": "stream",
     "text": [
      "1280/1280 [==============================] - ETA: 2s - loss: 0.004 - ETA: 2s - loss: 0.005 - ETA: 2s - loss: 0.005 - ETA: 1s - loss: 0.005 - ETA: 1s - loss: 0.005 - ETA: 1s - loss: 0.005 - ETA: 0s - loss: 0.005 - ETA: 0s - loss: 0.005 - ETA: 0s - loss: 0.005 - 3s 3ms/step - loss: 0.0052 - val_loss: 0.0064\n",
      "Epoch 127/200\n",
      "1280/1280 [==============================] - ETA: 2s - loss: 0.004 - ETA: 2s - loss: 0.005 - ETA: 2s - loss: 0.004 - ETA: 1s - loss: 0.005 - ETA: 1s - loss: 0.005 - ETA: 1s - loss: 0.005 - ETA: 0s - loss: 0.005 - ETA: 0s - loss: 0.005 - ETA: 0s - loss: 0.005 - 3s 3ms/step - loss: 0.0052 - val_loss: 0.0074\n",
      "Epoch 128/200\n",
      "1280/1280 [==============================] - ETA: 2s - loss: 0.005 - ETA: 2s - loss: 0.004 - ETA: 2s - loss: 0.005 - ETA: 1s - loss: 0.005 - ETA: 1s - loss: 0.005 - ETA: 1s - loss: 0.005 - ETA: 0s - loss: 0.005 - ETA: 0s - loss: 0.005 - ETA: 0s - loss: 0.005 - 3s 3ms/step - loss: 0.0051 - val_loss: 0.0062\n",
      "Epoch 129/200\n",
      "1280/1280 [==============================] - ETA: 2s - loss: 0.004 - ETA: 2s - loss: 0.004 - ETA: 2s - loss: 0.004 - ETA: 1s - loss: 0.004 - ETA: 1s - loss: 0.004 - ETA: 1s - loss: 0.004 - ETA: 0s - loss: 0.004 - ETA: 0s - loss: 0.005 - ETA: 0s - loss: 0.005 - 3s 3ms/step - loss: 0.0051 - val_loss: 0.0064\n",
      "Epoch 130/200\n",
      "1280/1280 [==============================] - ETA: 2s - loss: 0.005 - ETA: 2s - loss: 0.005 - ETA: 2s - loss: 0.004 - ETA: 1s - loss: 0.005 - ETA: 1s - loss: 0.004 - ETA: 1s - loss: 0.005 - ETA: 0s - loss: 0.004 - ETA: 0s - loss: 0.004 - ETA: 0s - loss: 0.004 - 3s 3ms/step - loss: 0.0049 - val_loss: 0.0068\n",
      "Epoch 131/200\n",
      "1280/1280 [==============================] - ETA: 2s - loss: 0.005 - ETA: 2s - loss: 0.005 - ETA: 2s - loss: 0.004 - ETA: 1s - loss: 0.004 - ETA: 1s - loss: 0.004 - ETA: 1s - loss: 0.005 - ETA: 0s - loss: 0.005 - ETA: 0s - loss: 0.005 - ETA: 0s - loss: 0.005 - 3s 3ms/step - loss: 0.0050 - val_loss: 0.0059\n",
      "Epoch 132/200\n",
      "1280/1280 [==============================] - ETA: 2s - loss: 0.004 - ETA: 2s - loss: 0.004 - ETA: 2s - loss: 0.004 - ETA: 1s - loss: 0.004 - ETA: 1s - loss: 0.004 - ETA: 1s - loss: 0.004 - ETA: 0s - loss: 0.005 - ETA: 0s - loss: 0.005 - ETA: 0s - loss: 0.005 - 3s 3ms/step - loss: 0.0050 - val_loss: 0.0061\n",
      "Epoch 133/200\n",
      "1280/1280 [==============================] - ETA: 2s - loss: 0.004 - ETA: 2s - loss: 0.004 - ETA: 2s - loss: 0.004 - ETA: 1s - loss: 0.004 - ETA: 1s - loss: 0.004 - ETA: 1s - loss: 0.004 - ETA: 0s - loss: 0.004 - ETA: 0s - loss: 0.004 - ETA: 0s - loss: 0.004 - 3s 3ms/step - loss: 0.0048 - val_loss: 0.0075\n",
      "Epoch 134/200\n",
      "1280/1280 [==============================] - ETA: 2s - loss: 0.004 - ETA: 2s - loss: 0.004 - ETA: 2s - loss: 0.004 - ETA: 1s - loss: 0.004 - ETA: 1s - loss: 0.004 - ETA: 1s - loss: 0.005 - ETA: 0s - loss: 0.005 - ETA: 0s - loss: 0.005 - ETA: 0s - loss: 0.005 - 3s 3ms/step - loss: 0.0050 - val_loss: 0.0063\n",
      "Epoch 135/200\n",
      "1280/1280 [==============================] - ETA: 2s - loss: 0.004 - ETA: 2s - loss: 0.004 - ETA: 2s - loss: 0.004 - ETA: 1s - loss: 0.004 - ETA: 1s - loss: 0.004 - ETA: 1s - loss: 0.004 - ETA: 0s - loss: 0.004 - ETA: 0s - loss: 0.004 - ETA: 0s - loss: 0.004 - 3s 3ms/step - loss: 0.0049 - val_loss: 0.0071\n",
      "Epoch 136/200\n",
      "1280/1280 [==============================] - ETA: 2s - loss: 0.005 - ETA: 2s - loss: 0.005 - ETA: 2s - loss: 0.005 - ETA: 1s - loss: 0.005 - ETA: 1s - loss: 0.005 - ETA: 1s - loss: 0.005 - ETA: 0s - loss: 0.005 - ETA: 0s - loss: 0.005 - ETA: 0s - loss: 0.005 - 3s 3ms/step - loss: 0.0050 - val_loss: 0.0055\n",
      "Epoch 137/200\n",
      "1280/1280 [==============================] - ETA: 2s - loss: 0.003 - ETA: 2s - loss: 0.004 - ETA: 2s - loss: 0.004 - ETA: 1s - loss: 0.004 - ETA: 1s - loss: 0.004 - ETA: 1s - loss: 0.005 - ETA: 0s - loss: 0.004 - ETA: 0s - loss: 0.005 - ETA: 0s - loss: 0.005 - 3s 3ms/step - loss: 0.0050 - val_loss: 0.0080\n",
      "Epoch 138/200\n",
      "1280/1280 [==============================] - ETA: 2s - loss: 0.004 - ETA: 2s - loss: 0.004 - ETA: 2s - loss: 0.004 - ETA: 1s - loss: 0.004 - ETA: 1s - loss: 0.004 - ETA: 1s - loss: 0.004 - ETA: 0s - loss: 0.004 - ETA: 0s - loss: 0.004 - ETA: 0s - loss: 0.004 - 3s 3ms/step - loss: 0.0047 - val_loss: 0.0057\n",
      "Epoch 139/200\n",
      "1280/1280 [==============================] - ETA: 2s - loss: 0.004 - ETA: 2s - loss: 0.004 - ETA: 2s - loss: 0.004 - ETA: 1s - loss: 0.004 - ETA: 1s - loss: 0.004 - ETA: 1s - loss: 0.004 - ETA: 0s - loss: 0.004 - ETA: 0s - loss: 0.004 - ETA: 0s - loss: 0.004 - 3s 3ms/step - loss: 0.0048 - val_loss: 0.0065\n",
      "Epoch 140/200\n",
      "1280/1280 [==============================] - ETA: 2s - loss: 0.004 - ETA: 2s - loss: 0.005 - ETA: 2s - loss: 0.004 - ETA: 1s - loss: 0.004 - ETA: 1s - loss: 0.005 - ETA: 1s - loss: 0.005 - ETA: 0s - loss: 0.005 - ETA: 0s - loss: 0.005 - ETA: 0s - loss: 0.005 - 3s 3ms/step - loss: 0.0051 - val_loss: 0.0057\n",
      "Epoch 141/200\n",
      "1280/1280 [==============================] - ETA: 2s - loss: 0.005 - ETA: 2s - loss: 0.005 - ETA: 2s - loss: 0.004 - ETA: 1s - loss: 0.005 - ETA: 1s - loss: 0.004 - ETA: 1s - loss: 0.004 - ETA: 0s - loss: 0.004 - ETA: 0s - loss: 0.004 - ETA: 0s - loss: 0.004 - 3s 3ms/step - loss: 0.0049 - val_loss: 0.0060\n",
      "Epoch 142/200\n",
      "1280/1280 [==============================] - ETA: 2s - loss: 0.004 - ETA: 2s - loss: 0.004 - ETA: 2s - loss: 0.004 - ETA: 1s - loss: 0.004 - ETA: 1s - loss: 0.004 - ETA: 1s - loss: 0.004 - ETA: 0s - loss: 0.004 - ETA: 0s - loss: 0.004 - ETA: 0s - loss: 0.004 - 3s 3ms/step - loss: 0.0049 - val_loss: 0.0061\n",
      "Epoch 143/200\n",
      "1280/1280 [==============================] - ETA: 2s - loss: 0.005 - ETA: 2s - loss: 0.005 - ETA: 2s - loss: 0.005 - ETA: 1s - loss: 0.005 - ETA: 1s - loss: 0.005 - ETA: 1s - loss: 0.005 - ETA: 0s - loss: 0.005 - ETA: 0s - loss: 0.005 - ETA: 0s - loss: 0.004 - 3s 3ms/step - loss: 0.0049 - val_loss: 0.0056\n",
      "Epoch 144/200\n",
      "1280/1280 [==============================] - ETA: 2s - loss: 0.004 - ETA: 2s - loss: 0.005 - ETA: 2s - loss: 0.005 - ETA: 1s - loss: 0.005 - ETA: 1s - loss: 0.005 - ETA: 1s - loss: 0.004 - ETA: 0s - loss: 0.004 - ETA: 0s - loss: 0.004 - ETA: 0s - loss: 0.004 - 3s 3ms/step - loss: 0.0047 - val_loss: 0.0061\n",
      "Epoch 145/200\n",
      "1280/1280 [==============================] - ETA: 2s - loss: 0.004 - ETA: 2s - loss: 0.004 - ETA: 2s - loss: 0.004 - ETA: 1s - loss: 0.004 - ETA: 1s - loss: 0.004 - ETA: 1s - loss: 0.004 - ETA: 0s - loss: 0.004 - ETA: 0s - loss: 0.004 - ETA: 0s - loss: 0.004 - 3s 3ms/step - loss: 0.0048 - val_loss: 0.0089\n",
      "Epoch 146/200\n",
      "1280/1280 [==============================] - ETA: 2s - loss: 0.005 - ETA: 2s - loss: 0.005 - ETA: 2s - loss: 0.005 - ETA: 1s - loss: 0.004 - ETA: 1s - loss: 0.005 - ETA: 1s - loss: 0.005 - ETA: 0s - loss: 0.005 - ETA: 0s - loss: 0.005 - ETA: 0s - loss: 0.004 - 3s 3ms/step - loss: 0.0049 - val_loss: 0.0059\n",
      "Epoch 147/200\n",
      "1280/1280 [==============================] - ETA: 2s - loss: 0.004 - ETA: 2s - loss: 0.004 - ETA: 2s - loss: 0.004 - ETA: 1s - loss: 0.004 - ETA: 1s - loss: 0.004 - ETA: 1s - loss: 0.004 - ETA: 0s - loss: 0.004 - ETA: 0s - loss: 0.004 - ETA: 0s - loss: 0.004 - 3s 3ms/step - loss: 0.0047 - val_loss: 0.0056\n",
      "Epoch 148/200\n",
      "1280/1280 [==============================] - ETA: 2s - loss: 0.004 - ETA: 2s - loss: 0.004 - ETA: 2s - loss: 0.004 - ETA: 1s - loss: 0.004 - ETA: 1s - loss: 0.004 - ETA: 1s - loss: 0.004 - ETA: 0s - loss: 0.004 - ETA: 0s - loss: 0.004 - ETA: 0s - loss: 0.004 - 3s 3ms/step - loss: 0.0048 - val_loss: 0.0059\n",
      "Epoch 149/200\n",
      "1280/1280 [==============================] - ETA: 2s - loss: 0.004 - ETA: 2s - loss: 0.004 - ETA: 2s - loss: 0.004 - ETA: 1s - loss: 0.004 - ETA: 1s - loss: 0.004 - ETA: 1s - loss: 0.004 - ETA: 0s - loss: 0.004 - ETA: 0s - loss: 0.004 - ETA: 0s - loss: 0.004 - 3s 3ms/step - loss: 0.0048 - val_loss: 0.0058\n",
      "Epoch 150/200\n",
      "1280/1280 [==============================] - ETA: 2s - loss: 0.004 - ETA: 2s - loss: 0.004 - ETA: 2s - loss: 0.004 - ETA: 1s - loss: 0.004 - ETA: 1s - loss: 0.004 - ETA: 1s - loss: 0.004 - ETA: 0s - loss: 0.004 - ETA: 0s - loss: 0.004 - ETA: 0s - loss: 0.004 - 3s 3ms/step - loss: 0.0046 - val_loss: 0.0064\n",
      "Epoch 151/200\n"
     ]
    },
    {
     "name": "stdout",
     "output_type": "stream",
     "text": [
      "1280/1280 [==============================] - ETA: 2s - loss: 0.004 - ETA: 2s - loss: 0.004 - ETA: 2s - loss: 0.004 - ETA: 1s - loss: 0.004 - ETA: 1s - loss: 0.004 - ETA: 1s - loss: 0.004 - ETA: 0s - loss: 0.004 - ETA: 0s - loss: 0.004 - ETA: 0s - loss: 0.004 - 3s 3ms/step - loss: 0.0046 - val_loss: 0.0061\n",
      "Epoch 152/200\n",
      "1280/1280 [==============================] - ETA: 2s - loss: 0.004 - ETA: 2s - loss: 0.004 - ETA: 2s - loss: 0.005 - ETA: 1s - loss: 0.005 - ETA: 1s - loss: 0.005 - ETA: 1s - loss: 0.005 - ETA: 0s - loss: 0.004 - ETA: 0s - loss: 0.004 - ETA: 0s - loss: 0.004 - 3s 3ms/step - loss: 0.0048 - val_loss: 0.0059\n",
      "Epoch 153/200\n",
      "1280/1280 [==============================] - ETA: 2s - loss: 0.005 - ETA: 2s - loss: 0.004 - ETA: 2s - loss: 0.004 - ETA: 1s - loss: 0.004 - ETA: 1s - loss: 0.004 - ETA: 1s - loss: 0.004 - ETA: 0s - loss: 0.004 - ETA: 0s - loss: 0.004 - ETA: 0s - loss: 0.004 - 3s 3ms/step - loss: 0.0047 - val_loss: 0.0058\n",
      "Epoch 154/200\n",
      "1280/1280 [==============================] - ETA: 2s - loss: 0.004 - ETA: 2s - loss: 0.004 - ETA: 2s - loss: 0.004 - ETA: 1s - loss: 0.004 - ETA: 1s - loss: 0.004 - ETA: 1s - loss: 0.004 - ETA: 0s - loss: 0.004 - ETA: 0s - loss: 0.004 - ETA: 0s - loss: 0.004 - 3s 3ms/step - loss: 0.0047 - val_loss: 0.0074\n",
      "Epoch 155/200\n",
      "1280/1280 [==============================] - ETA: 2s - loss: 0.005 - ETA: 2s - loss: 0.004 - ETA: 2s - loss: 0.004 - ETA: 1s - loss: 0.004 - ETA: 1s - loss: 0.004 - ETA: 1s - loss: 0.004 - ETA: 0s - loss: 0.004 - ETA: 0s - loss: 0.004 - ETA: 0s - loss: 0.004 - 3s 3ms/step - loss: 0.0047 - val_loss: 0.0056\n",
      "Epoch 156/200\n",
      "1280/1280 [==============================] - ETA: 2s - loss: 0.004 - ETA: 2s - loss: 0.004 - ETA: 2s - loss: 0.004 - ETA: 1s - loss: 0.004 - ETA: 1s - loss: 0.004 - ETA: 1s - loss: 0.004 - ETA: 0s - loss: 0.004 - ETA: 0s - loss: 0.004 - ETA: 0s - loss: 0.004 - 3s 3ms/step - loss: 0.0047 - val_loss: 0.0059\n",
      "Epoch 157/200\n",
      "1280/1280 [==============================] - ETA: 2s - loss: 0.004 - ETA: 2s - loss: 0.004 - ETA: 2s - loss: 0.004 - ETA: 1s - loss: 0.004 - ETA: 1s - loss: 0.004 - ETA: 1s - loss: 0.004 - ETA: 0s - loss: 0.004 - ETA: 0s - loss: 0.004 - ETA: 0s - loss: 0.004 - 3s 3ms/step - loss: 0.0046 - val_loss: 0.0062\n",
      "Epoch 158/200\n",
      "1280/1280 [==============================] - ETA: 2s - loss: 0.005 - ETA: 2s - loss: 0.005 - ETA: 2s - loss: 0.005 - ETA: 1s - loss: 0.004 - ETA: 1s - loss: 0.004 - ETA: 1s - loss: 0.004 - ETA: 0s - loss: 0.004 - ETA: 0s - loss: 0.004 - ETA: 0s - loss: 0.004 - 3s 3ms/step - loss: 0.0047 - val_loss: 0.0056\n",
      "Epoch 159/200\n",
      "1280/1280 [==============================] - ETA: 2s - loss: 0.005 - ETA: 2s - loss: 0.004 - ETA: 2s - loss: 0.004 - ETA: 1s - loss: 0.004 - ETA: 1s - loss: 0.004 - ETA: 1s - loss: 0.004 - ETA: 0s - loss: 0.004 - ETA: 0s - loss: 0.004 - ETA: 0s - loss: 0.004 - 3s 3ms/step - loss: 0.0046 - val_loss: 0.0060\n",
      "Epoch 160/200\n",
      "1280/1280 [==============================] - ETA: 2s - loss: 0.005 - ETA: 2s - loss: 0.005 - ETA: 2s - loss: 0.005 - ETA: 1s - loss: 0.004 - ETA: 1s - loss: 0.004 - ETA: 1s - loss: 0.004 - ETA: 0s - loss: 0.004 - ETA: 0s - loss: 0.004 - ETA: 0s - loss: 0.004 - 3s 3ms/step - loss: 0.0048 - val_loss: 0.0055\n",
      "Epoch 161/200\n",
      "1280/1280 [==============================] - ETA: 2s - loss: 0.005 - ETA: 2s - loss: 0.004 - ETA: 2s - loss: 0.004 - ETA: 1s - loss: 0.004 - ETA: 1s - loss: 0.004 - ETA: 1s - loss: 0.004 - ETA: 0s - loss: 0.004 - ETA: 0s - loss: 0.004 - ETA: 0s - loss: 0.004 - 3s 3ms/step - loss: 0.0046 - val_loss: 0.0053\n",
      "Epoch 162/200\n",
      "1280/1280 [==============================] - ETA: 2s - loss: 0.004 - ETA: 2s - loss: 0.004 - ETA: 2s - loss: 0.004 - ETA: 1s - loss: 0.004 - ETA: 1s - loss: 0.004 - ETA: 1s - loss: 0.004 - ETA: 0s - loss: 0.004 - ETA: 0s - loss: 0.004 - ETA: 0s - loss: 0.004 - 3s 3ms/step - loss: 0.0047 - val_loss: 0.0066\n",
      "Epoch 163/200\n",
      "1280/1280 [==============================] - ETA: 2s - loss: 0.004 - ETA: 2s - loss: 0.004 - ETA: 2s - loss: 0.004 - ETA: 1s - loss: 0.004 - ETA: 1s - loss: 0.004 - ETA: 1s - loss: 0.004 - ETA: 0s - loss: 0.004 - ETA: 0s - loss: 0.004 - ETA: 0s - loss: 0.004 - 3s 3ms/step - loss: 0.0046 - val_loss: 0.0068\n",
      "Epoch 164/200\n",
      "1280/1280 [==============================] - ETA: 2s - loss: 0.004 - ETA: 2s - loss: 0.004 - ETA: 2s - loss: 0.004 - ETA: 1s - loss: 0.004 - ETA: 1s - loss: 0.004 - ETA: 1s - loss: 0.004 - ETA: 0s - loss: 0.004 - ETA: 0s - loss: 0.004 - ETA: 0s - loss: 0.004 - 3s 3ms/step - loss: 0.0046 - val_loss: 0.0056\n",
      "Epoch 165/200\n",
      "1280/1280 [==============================] - ETA: 2s - loss: 0.004 - ETA: 2s - loss: 0.004 - ETA: 2s - loss: 0.004 - ETA: 1s - loss: 0.004 - ETA: 1s - loss: 0.004 - ETA: 1s - loss: 0.004 - ETA: 0s - loss: 0.004 - ETA: 0s - loss: 0.004 - ETA: 0s - loss: 0.004 - 3s 3ms/step - loss: 0.0046 - val_loss: 0.0057\n",
      "Epoch 166/200\n",
      "1280/1280 [==============================] - ETA: 2s - loss: 0.004 - ETA: 2s - loss: 0.004 - ETA: 2s - loss: 0.004 - ETA: 1s - loss: 0.004 - ETA: 1s - loss: 0.004 - ETA: 1s - loss: 0.004 - ETA: 0s - loss: 0.004 - ETA: 0s - loss: 0.004 - ETA: 0s - loss: 0.004 - 3s 3ms/step - loss: 0.0045 - val_loss: 0.0061\n",
      "Epoch 167/200\n",
      "1280/1280 [==============================] - ETA: 2s - loss: 0.004 - ETA: 2s - loss: 0.004 - ETA: 2s - loss: 0.004 - ETA: 1s - loss: 0.004 - ETA: 1s - loss: 0.004 - ETA: 1s - loss: 0.004 - ETA: 0s - loss: 0.004 - ETA: 0s - loss: 0.004 - ETA: 0s - loss: 0.004 - 3s 3ms/step - loss: 0.0046 - val_loss: 0.0054\n",
      "Epoch 168/200\n",
      "1280/1280 [==============================] - ETA: 2s - loss: 0.003 - ETA: 2s - loss: 0.004 - ETA: 2s - loss: 0.004 - ETA: 1s - loss: 0.004 - ETA: 1s - loss: 0.004 - ETA: 1s - loss: 0.004 - ETA: 0s - loss: 0.004 - ETA: 0s - loss: 0.004 - ETA: 0s - loss: 0.004 - 3s 3ms/step - loss: 0.0046 - val_loss: 0.0061\n",
      "Epoch 169/200\n",
      "1280/1280 [==============================] - ETA: 2s - loss: 0.005 - ETA: 2s - loss: 0.004 - ETA: 2s - loss: 0.004 - ETA: 1s - loss: 0.004 - ETA: 1s - loss: 0.004 - ETA: 1s - loss: 0.004 - ETA: 0s - loss: 0.004 - ETA: 0s - loss: 0.004 - ETA: 0s - loss: 0.004 - 3s 3ms/step - loss: 0.0045 - val_loss: 0.0061\n",
      "Epoch 170/200\n",
      "1280/1280 [==============================] - ETA: 2s - loss: 0.004 - ETA: 2s - loss: 0.004 - ETA: 2s - loss: 0.004 - ETA: 1s - loss: 0.004 - ETA: 1s - loss: 0.004 - ETA: 1s - loss: 0.004 - ETA: 0s - loss: 0.004 - ETA: 0s - loss: 0.004 - ETA: 0s - loss: 0.004 - 3s 3ms/step - loss: 0.0045 - val_loss: 0.0051\n",
      "Epoch 171/200\n",
      "1280/1280 [==============================] - ETA: 2s - loss: 0.004 - ETA: 2s - loss: 0.004 - ETA: 2s - loss: 0.004 - ETA: 1s - loss: 0.004 - ETA: 1s - loss: 0.004 - ETA: 1s - loss: 0.004 - ETA: 0s - loss: 0.004 - ETA: 0s - loss: 0.004 - ETA: 0s - loss: 0.004 - 3s 3ms/step - loss: 0.0045 - val_loss: 0.0054\n",
      "Epoch 172/200\n",
      "1280/1280 [==============================] - ETA: 2s - loss: 0.004 - ETA: 2s - loss: 0.004 - ETA: 2s - loss: 0.004 - ETA: 1s - loss: 0.004 - ETA: 1s - loss: 0.004 - ETA: 1s - loss: 0.004 - ETA: 0s - loss: 0.004 - ETA: 0s - loss: 0.004 - ETA: 0s - loss: 0.004 - 3s 3ms/step - loss: 0.0045 - val_loss: 0.0054\n",
      "Epoch 173/200\n",
      "1280/1280 [==============================] - ETA: 2s - loss: 0.003 - ETA: 2s - loss: 0.004 - ETA: 2s - loss: 0.004 - ETA: 1s - loss: 0.004 - ETA: 1s - loss: 0.004 - ETA: 1s - loss: 0.004 - ETA: 0s - loss: 0.004 - ETA: 0s - loss: 0.004 - ETA: 0s - loss: 0.004 - 3s 3ms/step - loss: 0.0045 - val_loss: 0.0062\n",
      "Epoch 174/200\n",
      "1280/1280 [==============================] - ETA: 2s - loss: 0.004 - ETA: 2s - loss: 0.004 - ETA: 2s - loss: 0.004 - ETA: 1s - loss: 0.004 - ETA: 1s - loss: 0.004 - ETA: 1s - loss: 0.004 - ETA: 0s - loss: 0.004 - ETA: 0s - loss: 0.004 - ETA: 0s - loss: 0.004 - 3s 3ms/step - loss: 0.0044 - val_loss: 0.0061\n",
      "Epoch 175/200\n",
      "1280/1280 [==============================] - ETA: 2s - loss: 0.005 - ETA: 2s - loss: 0.005 - ETA: 2s - loss: 0.005 - ETA: 1s - loss: 0.004 - ETA: 1s - loss: 0.004 - ETA: 1s - loss: 0.004 - ETA: 0s - loss: 0.004 - ETA: 0s - loss: 0.004 - ETA: 0s - loss: 0.004 - 3s 3ms/step - loss: 0.0046 - val_loss: 0.0063\n",
      "Epoch 176/200\n"
     ]
    },
    {
     "name": "stdout",
     "output_type": "stream",
     "text": [
      "1280/1280 [==============================] - ETA: 2s - loss: 0.004 - ETA: 2s - loss: 0.004 - ETA: 2s - loss: 0.004 - ETA: 1s - loss: 0.004 - ETA: 1s - loss: 0.004 - ETA: 1s - loss: 0.004 - ETA: 0s - loss: 0.004 - ETA: 0s - loss: 0.004 - ETA: 0s - loss: 0.004 - 3s 3ms/step - loss: 0.0043 - val_loss: 0.0061\n",
      "Epoch 177/200\n",
      "1280/1280 [==============================] - ETA: 2s - loss: 0.004 - ETA: 2s - loss: 0.004 - ETA: 2s - loss: 0.004 - ETA: 1s - loss: 0.004 - ETA: 1s - loss: 0.004 - ETA: 1s - loss: 0.004 - ETA: 0s - loss: 0.004 - ETA: 0s - loss: 0.004 - ETA: 0s - loss: 0.004 - 3s 3ms/step - loss: 0.0045 - val_loss: 0.0056\n",
      "Epoch 178/200\n",
      "1280/1280 [==============================] - ETA: 2s - loss: 0.004 - ETA: 2s - loss: 0.004 - ETA: 2s - loss: 0.004 - ETA: 1s - loss: 0.004 - ETA: 1s - loss: 0.004 - ETA: 1s - loss: 0.004 - ETA: 0s - loss: 0.004 - ETA: 0s - loss: 0.004 - ETA: 0s - loss: 0.004 - 3s 3ms/step - loss: 0.0044 - val_loss: 0.0050\n",
      "Epoch 179/200\n",
      "1280/1280 [==============================] - ETA: 2s - loss: 0.004 - ETA: 2s - loss: 0.004 - ETA: 2s - loss: 0.004 - ETA: 1s - loss: 0.004 - ETA: 1s - loss: 0.004 - ETA: 1s - loss: 0.004 - ETA: 0s - loss: 0.004 - ETA: 0s - loss: 0.004 - ETA: 0s - loss: 0.004 - 3s 3ms/step - loss: 0.0043 - val_loss: 0.0055\n",
      "Epoch 180/200\n",
      "1280/1280 [==============================] - ETA: 2s - loss: 0.004 - ETA: 2s - loss: 0.004 - ETA: 2s - loss: 0.004 - ETA: 1s - loss: 0.004 - ETA: 1s - loss: 0.004 - ETA: 1s - loss: 0.004 - ETA: 0s - loss: 0.004 - ETA: 0s - loss: 0.004 - ETA: 0s - loss: 0.004 - 3s 3ms/step - loss: 0.0044 - val_loss: 0.0058\n",
      "Epoch 181/200\n",
      "1280/1280 [==============================] - ETA: 2s - loss: 0.004 - ETA: 2s - loss: 0.004 - ETA: 2s - loss: 0.004 - ETA: 1s - loss: 0.004 - ETA: 1s - loss: 0.004 - ETA: 1s - loss: 0.004 - ETA: 0s - loss: 0.004 - ETA: 0s - loss: 0.004 - ETA: 0s - loss: 0.004 - 3s 3ms/step - loss: 0.0044 - val_loss: 0.0052\n",
      "Epoch 182/200\n",
      "1280/1280 [==============================] - ETA: 2s - loss: 0.004 - ETA: 2s - loss: 0.004 - ETA: 2s - loss: 0.004 - ETA: 1s - loss: 0.004 - ETA: 1s - loss: 0.004 - ETA: 1s - loss: 0.004 - ETA: 0s - loss: 0.004 - ETA: 0s - loss: 0.004 - ETA: 0s - loss: 0.004 - 3s 3ms/step - loss: 0.0043 - val_loss: 0.0052\n",
      "Epoch 183/200\n",
      "1280/1280 [==============================] - ETA: 2s - loss: 0.005 - ETA: 2s - loss: 0.004 - ETA: 2s - loss: 0.004 - ETA: 1s - loss: 0.004 - ETA: 1s - loss: 0.004 - ETA: 1s - loss: 0.004 - ETA: 0s - loss: 0.004 - ETA: 0s - loss: 0.004 - ETA: 0s - loss: 0.004 - 3s 3ms/step - loss: 0.0044 - val_loss: 0.0057\n",
      "Epoch 184/200\n",
      "1280/1280 [==============================] - ETA: 2s - loss: 0.004 - ETA: 2s - loss: 0.004 - ETA: 2s - loss: 0.004 - ETA: 1s - loss: 0.004 - ETA: 1s - loss: 0.004 - ETA: 1s - loss: 0.004 - ETA: 0s - loss: 0.004 - ETA: 0s - loss: 0.004 - ETA: 0s - loss: 0.004 - 3s 3ms/step - loss: 0.0044 - val_loss: 0.0058\n",
      "Epoch 185/200\n",
      "1280/1280 [==============================] - ETA: 2s - loss: 0.004 - ETA: 2s - loss: 0.004 - ETA: 2s - loss: 0.004 - ETA: 1s - loss: 0.004 - ETA: 1s - loss: 0.004 - ETA: 1s - loss: 0.004 - ETA: 0s - loss: 0.004 - ETA: 0s - loss: 0.004 - ETA: 0s - loss: 0.004 - 3s 3ms/step - loss: 0.0044 - val_loss: 0.0061\n",
      "Epoch 186/200\n",
      "1280/1280 [==============================] - ETA: 2s - loss: 0.004 - ETA: 2s - loss: 0.004 - ETA: 2s - loss: 0.004 - ETA: 1s - loss: 0.004 - ETA: 1s - loss: 0.004 - ETA: 1s - loss: 0.004 - ETA: 0s - loss: 0.004 - ETA: 0s - loss: 0.004 - ETA: 0s - loss: 0.004 - 3s 3ms/step - loss: 0.0042 - val_loss: 0.0049\n",
      "Epoch 187/200\n",
      "1280/1280 [==============================] - ETA: 2s - loss: 0.004 - ETA: 2s - loss: 0.004 - ETA: 2s - loss: 0.004 - ETA: 1s - loss: 0.004 - ETA: 1s - loss: 0.004 - ETA: 1s - loss: 0.004 - ETA: 0s - loss: 0.004 - ETA: 0s - loss: 0.004 - ETA: 0s - loss: 0.004 - 3s 3ms/step - loss: 0.0044 - val_loss: 0.0058\n",
      "Epoch 188/200\n",
      "1280/1280 [==============================] - ETA: 2s - loss: 0.004 - ETA: 2s - loss: 0.004 - ETA: 2s - loss: 0.004 - ETA: 1s - loss: 0.004 - ETA: 1s - loss: 0.004 - ETA: 1s - loss: 0.004 - ETA: 0s - loss: 0.004 - ETA: 0s - loss: 0.004 - ETA: 0s - loss: 0.004 - 3s 3ms/step - loss: 0.0044 - val_loss: 0.0053\n",
      "Epoch 189/200\n",
      "1280/1280 [==============================] - ETA: 2s - loss: 0.004 - ETA: 2s - loss: 0.004 - ETA: 2s - loss: 0.004 - ETA: 1s - loss: 0.004 - ETA: 1s - loss: 0.004 - ETA: 1s - loss: 0.004 - ETA: 0s - loss: 0.004 - ETA: 0s - loss: 0.004 - ETA: 0s - loss: 0.004 - 3s 3ms/step - loss: 0.0043 - val_loss: 0.0050\n",
      "Epoch 190/200\n",
      "1280/1280 [==============================] - ETA: 2s - loss: 0.004 - ETA: 2s - loss: 0.004 - ETA: 2s - loss: 0.004 - ETA: 1s - loss: 0.004 - ETA: 1s - loss: 0.004 - ETA: 1s - loss: 0.004 - ETA: 0s - loss: 0.004 - ETA: 0s - loss: 0.004 - ETA: 0s - loss: 0.004 - 3s 3ms/step - loss: 0.0043 - val_loss: 0.0054\n",
      "Epoch 191/200\n",
      "1280/1280 [==============================] - ETA: 2s - loss: 0.004 - ETA: 2s - loss: 0.004 - ETA: 2s - loss: 0.004 - ETA: 1s - loss: 0.004 - ETA: 1s - loss: 0.004 - ETA: 1s - loss: 0.004 - ETA: 0s - loss: 0.004 - ETA: 0s - loss: 0.004 - ETA: 0s - loss: 0.004 - 3s 3ms/step - loss: 0.0043 - val_loss: 0.0051\n",
      "Epoch 192/200\n",
      "1280/1280 [==============================] - ETA: 2s - loss: 0.004 - ETA: 2s - loss: 0.004 - ETA: 2s - loss: 0.004 - ETA: 1s - loss: 0.004 - ETA: 1s - loss: 0.004 - ETA: 1s - loss: 0.004 - ETA: 0s - loss: 0.004 - ETA: 0s - loss: 0.004 - ETA: 0s - loss: 0.004 - 3s 3ms/step - loss: 0.0043 - val_loss: 0.0061\n",
      "Epoch 193/200\n",
      "1280/1280 [==============================] - ETA: 2s - loss: 0.004 - ETA: 2s - loss: 0.004 - ETA: 2s - loss: 0.004 - ETA: 1s - loss: 0.004 - ETA: 1s - loss: 0.004 - ETA: 1s - loss: 0.004 - ETA: 0s - loss: 0.004 - ETA: 0s - loss: 0.004 - ETA: 0s - loss: 0.004 - 3s 3ms/step - loss: 0.0044 - val_loss: 0.0056\n",
      "Epoch 194/200\n",
      "1280/1280 [==============================] - ETA: 2s - loss: 0.004 - ETA: 2s - loss: 0.004 - ETA: 2s - loss: 0.004 - ETA: 1s - loss: 0.004 - ETA: 1s - loss: 0.004 - ETA: 1s - loss: 0.004 - ETA: 0s - loss: 0.004 - ETA: 0s - loss: 0.004 - ETA: 0s - loss: 0.004 - 3s 3ms/step - loss: 0.0042 - val_loss: 0.0057\n",
      "Epoch 195/200\n",
      "1280/1280 [==============================] - ETA: 2s - loss: 0.004 - ETA: 2s - loss: 0.004 - ETA: 2s - loss: 0.004 - ETA: 1s - loss: 0.004 - ETA: 1s - loss: 0.004 - ETA: 1s - loss: 0.004 - ETA: 0s - loss: 0.004 - ETA: 0s - loss: 0.004 - ETA: 0s - loss: 0.004 - 3s 3ms/step - loss: 0.0043 - val_loss: 0.0053\n",
      "Epoch 196/200\n",
      "1280/1280 [==============================] - ETA: 2s - loss: 0.004 - ETA: 2s - loss: 0.004 - ETA: 2s - loss: 0.004 - ETA: 1s - loss: 0.004 - ETA: 1s - loss: 0.004 - ETA: 1s - loss: 0.004 - ETA: 0s - loss: 0.004 - ETA: 0s - loss: 0.004 - ETA: 0s - loss: 0.004 - 3s 3ms/step - loss: 0.0042 - val_loss: 0.0054\n",
      "Epoch 197/200\n",
      "1280/1280 [==============================] - ETA: 2s - loss: 0.004 - ETA: 2s - loss: 0.004 - ETA: 2s - loss: 0.004 - ETA: 1s - loss: 0.004 - ETA: 1s - loss: 0.004 - ETA: 1s - loss: 0.004 - ETA: 0s - loss: 0.004 - ETA: 0s - loss: 0.004 - ETA: 0s - loss: 0.004 - 3s 3ms/step - loss: 0.0042 - val_loss: 0.0055\n",
      "Epoch 198/200\n",
      "1280/1280 [==============================] - ETA: 2s - loss: 0.004 - ETA: 2s - loss: 0.004 - ETA: 2s - loss: 0.004 - ETA: 1s - loss: 0.004 - ETA: 1s - loss: 0.004 - ETA: 1s - loss: 0.004 - ETA: 0s - loss: 0.004 - ETA: 0s - loss: 0.004 - ETA: 0s - loss: 0.004 - 3s 3ms/step - loss: 0.0041 - val_loss: 0.0053\n",
      "Epoch 199/200\n",
      "1280/1280 [==============================] - ETA: 2s - loss: 0.004 - ETA: 2s - loss: 0.004 - ETA: 2s - loss: 0.004 - ETA: 1s - loss: 0.004 - ETA: 1s - loss: 0.004 - ETA: 1s - loss: 0.004 - ETA: 0s - loss: 0.004 - ETA: 0s - loss: 0.004 - ETA: 0s - loss: 0.004 - 3s 3ms/step - loss: 0.0042 - val_loss: 0.0052\n",
      "Epoch 200/200\n",
      "1280/1280 [==============================] - ETA: 2s - loss: 0.004 - ETA: 2s - loss: 0.004 - ETA: 2s - loss: 0.004 - ETA: 1s - loss: 0.004 - ETA: 1s - loss: 0.004 - ETA: 1s - loss: 0.004 - ETA: 0s - loss: 0.004 - ETA: 0s - loss: 0.004 - ETA: 0s - loss: 0.004 - 3s 3ms/step - loss: 0.0042 - val_loss: 0.0052\n"
     ]
    }
   ],
   "source": [
    "autoencoder_train = autoencoder.fit(train_X, train_ground, batch_size=batch_size,\n",
    "                                    epochs=epochs,verbose=1,validation_data=(valid_X, valid_ground))"
   ]
  },
  {
   "cell_type": "code",
   "execution_count": 47,
   "metadata": {},
   "outputs": [],
   "source": [
    "autoencoder.save('autoencoder_64_16_200.h5')"
   ]
  },
  {
   "cell_type": "code",
   "execution_count": 46,
   "metadata": {
    "scrolled": true
   },
   "outputs": [
    {
     "data": {
      "image/png": "[encoded data removed]",
      "text/plain": [
       "<Figure size 432x288 with 1 Axes>"
      ]
     },
     "metadata": {},
     "output_type": "display_data"
    }
   ],
   "source": [
    "loss = autoencoder_train.history['loss']\n",
    "val_loss = autoencoder_train.history['val_loss']\n",
    "epochs = range(200)\n",
    "plt.figure()\n",
    "plt.plot(epochs, loss, 'bo', label='Training loss')\n",
    "plt.plot(epochs, val_loss, 'b', label='Validation loss')\n",
    "plt.title('Training and validation loss')\n",
    "plt.legend()\n",
    "plt.show()"
   ]
  },
  {
   "cell_type": "code",
   "execution_count": 48,
   "metadata": {},
   "outputs": [],
   "source": [
    "restored_imgs  = autoencoder.predict(test_data)"
   ]
  },
  {
   "cell_type": "code",
   "execution_count": 49,
   "metadata": {
    "scrolled": true
   },
   "outputs": [
    {
     "data": {
      "image/png": "[encoded data removed]",
      "text/plain": [
       "<Figure size 432x288 with 1 Axes>"
      ]
     },
     "metadata": {},
     "output_type": "display_data"
    },
    {
     "data": {
      "image/png": "[encoded data removed]",
      "text/plain": [
       "<Figure size 432x288 with 1 Axes>"
      ]
     },
     "metadata": {},
     "output_type": "display_data"
    },
    {
     "name": "stdout",
     "output_type": "stream",
     "text": [
      "----------------------------\n"
     ]
    },
    {
     "data": {
      "image/png": "[encoded data removed]",
      "text/plain": [
       "<Figure size 432x288 with 1 Axes>"
      ]
     },
     "metadata": {},
     "output_type": "display_data"
    },
    {
     "data": {
      "image/png": "[encoded data removed]",
      "text/plain": [
       "<Figure size 432x288 with 1 Axes>"
      ]
     },
     "metadata": {},
     "output_type": "display_data"
    },
    {
     "name": "stdout",
     "output_type": "stream",
     "text": [
      "----------------------------\n"
     ]
    },
    {
     "data": {
      "image/png": "[encoded data removed]",
      "text/plain": [
       "<Figure size 432x288 with 1 Axes>"
      ]
     },
     "metadata": {},
     "output_type": "display_data"
    },
    {
     "data": {
      "image/png": "[encoded data removed]",
      "text/plain": [
       "<Figure size 432x288 with 1 Axes>"
      ]
     },
     "metadata": {},
     "output_type": "display_data"
    },
    {
     "name": "stdout",
     "output_type": "stream",
     "text": [
      "----------------------------\n"
     ]
    },
    {
     "data": {
      "image/png": "[encoded data removed]",
      "text/plain": [
       "<Figure size 432x288 with 1 Axes>"
      ]
     },
     "metadata": {},
     "output_type": "display_data"
    },
    {
     "data": {
      "image/png": "[encoded data removed]",
      "text/plain": [
       "<Figure size 432x288 with 1 Axes>"
      ]
     },
     "metadata": {},
     "output_type": "display_data"
    },
    {
     "name": "stdout",
     "output_type": "stream",
     "text": [
      "----------------------------\n"
     ]
    },
    {
     "data": {
      "image/png": "[encoded data removed]",
      "text/plain": [
       "<Figure size 432x288 with 1 Axes>"
      ]
     },
     "metadata": {},
     "output_type": "display_data"
    },
    {
     "data": {
      "image/png": "[encoded data removed]",
      "text/plain": [
       "<Figure size 432x288 with 1 Axes>"
      ]
     },
     "metadata": {},
     "output_type": "display_data"
    },
    {
     "name": "stdout",
     "output_type": "stream",
     "text": [
      "----------------------------\n"
     ]
    }
   ],
   "source": [
    "for i in range(5):\n",
    "    plt.imshow(test_data[i].reshape(64, 64))\n",
    "    plt.gray()\n",
    "    plt.show()\n",
    "    \n",
    "    plt.imshow(restored_imgs[i].reshape(64, 64))\n",
    "    plt.gray()\n",
    "    plt.show()\n",
    "    \n",
    "    print(\"----------------------------\")"
   ]
  },
  {
   "cell_type": "code",
   "execution_count": 50,
   "metadata": {
    "scrolled": true
   },
   "outputs": [
    {
     "name": "stdout",
     "output_type": "stream",
     "text": [
      "0 .  (?, 64, 64, 1)\n",
      "1 .  (?, 64, 64, 32)\n",
      "2 .  (?, 64, 64, 32)\n",
      "3 .  (?, 64, 64, 32)\n",
      "4 .  (?, 64, 64, 32)\n",
      "5 .  (?, 32, 32, 32)\n",
      "6 .  (?, 32, 32, 64)\n",
      "7 .  (?, 32, 32, 64)\n",
      "8 .  (?, 32, 32, 64)\n",
      "9 .  (?, 32, 32, 64)\n",
      "10 .  (?, 16, 16, 64)\n",
      "11 .  (?, 16, 16, 128)\n",
      "12 .  (?, 16, 16, 128)\n",
      "13 .  (?, 16, 16, 128)\n",
      "14 .  (?, 16, 16, 128)\n",
      "15 .  (?, 16, 16, 256)\n",
      "16 .  (?, 16, 16, 256)\n",
      "17 .  (?, 16, 16, 256)\n",
      "18 .  (?, 16, 16, 256)\n",
      "19 .  (?, 16, 16, 128)\n",
      "20 .  (?, 16, 16, 128)\n",
      "21 .  (?, 16, 16, 128)\n",
      "22 .  (?, 16, 16, 128)\n",
      "23 .  (?, 16, 16, 64)\n",
      "24 .  (?, 16, 16, 64)\n",
      "25 .  (?, 16, 16, 64)\n",
      "26 .  (?, 16, 16, 64)\n",
      "27 .  (?, 32, 32, 64)\n",
      "28 .  (?, 32, 32, 32)\n",
      "29 .  (?, 32, 32, 32)\n",
      "30 .  (?, 32, 32, 32)\n",
      "31 .  (?, 32, 32, 32)\n",
      "32 .  (?, 64, 64, 32)\n",
      "33 .  (?, 64, 64, 1)\n"
     ]
    }
   ],
   "source": [
    "layers = len(autoencoder.layers)\n",
    "\n",
    "for i in range(layers):\n",
    "    print(i, \". \", autoencoder.layers[i].output.get_shape())"
   ]
  },
  {
   "cell_type": "code",
   "execution_count": 51,
   "metadata": {},
   "outputs": [],
   "source": [
    "#layer[26] is compressed representation\n",
    "get_3rd_layer_output = K.function([autoencoder.layers[0].input], [autoencoder.layers[26].output])\n",
    "compressed = get_3rd_layer_output([test_data])[0]"
   ]
  },
  {
   "cell_type": "code",
   "execution_count": 52,
   "metadata": {},
   "outputs": [
    {
     "data": {
      "text/plain": [
       "(400, 16, 16, 64)"
      ]
     },
     "execution_count": 52,
     "metadata": {},
     "output_type": "execute_result"
    }
   ],
   "source": [
    "compressed.shape"
   ]
  },
  {
   "cell_type": "code",
   "execution_count": 54,
   "metadata": {},
   "outputs": [],
   "source": [
    "#layer[26] is size of (None, 16, 16, 64). this means 64 different 16 x 16 sized matrixes. We will flatten these matrixes.\n",
    "compressed = compressed.reshape(400,16*16*64)"
   ]
  },
  {
   "cell_type": "code",
   "execution_count": 55,
   "metadata": {},
   "outputs": [],
   "source": [
    "from tensorflow.contrib.factorization.python.ops import clustering_ops\n",
    "import tensorflow as tf"
   ]
  },
  {
   "cell_type": "code",
   "execution_count": 65,
   "metadata": {},
   "outputs": [
    {
     "name": "stdout",
     "output_type": "stream",
     "text": [
      "INFO:tensorflow:Using default config.\n",
      "WARNING:tensorflow:Using temporary folder as model directory: C:\\Users\\DIVYOJ~1\\AppData\\Local\\Temp\\tmpvyr1h77w\n",
      "INFO:tensorflow:Using config: {'_task_type': None, '_task_id': 0, '_cluster_spec': <tensorflow.python.training.server_lib.ClusterSpec object at 0x0000016C458DE828>, '_master': '', '_num_ps_replicas': 0, '_num_worker_replicas': 0, '_environment': 'local', '_is_chief': True, '_evaluation_master': '', '_train_distribute': None, '_eval_distribute': None, '_device_fn': None, '_tf_config': gpu_options {\n",
      "  per_process_gpu_memory_fraction: 1.0\n",
      "}\n",
      ", '_tf_random_seed': None, '_save_summary_steps': 100, '_save_checkpoints_secs': 600, '_log_step_count_steps': 100, '_protocol': None, '_session_config': None, '_save_checkpoints_steps': None, '_keep_checkpoint_max': 5, '_keep_checkpoint_every_n_hours': 10000, '_model_dir': 'C:\\\\Users\\\\DIVYOJ~1\\\\AppData\\\\Local\\\\Temp\\\\tmpvyr1h77w'}\n"
     ]
    }
   ],
   "source": [
    "unsupervised_model = tf.contrib.learn.KMeansClustering(\n",
    "    2 #num of clusters\n",
    "    , distance_metric = clustering_ops.COSINE_DISTANCE\n",
    "    , initial_clusters=tf.contrib.learn.KMeansClustering.RANDOM_INIT\n",
    ")"
   ]
  },
  {
   "cell_type": "code",
   "execution_count": 66,
   "metadata": {},
   "outputs": [],
   "source": [
    "def train_input_fn():\n",
    "    data = tf.constant(compressed, tf.float32)\n",
    "    return (data, None)"
   ]
  },
  {
   "cell_type": "code",
   "execution_count": 67,
   "metadata": {
    "scrolled": false
   },
   "outputs": [
    {
     "name": "stdout",
     "output_type": "stream",
     "text": [
      "INFO:tensorflow:Create CheckpointSaverHook.\n",
      "INFO:tensorflow:Graph was finalized.\n",
      "INFO:tensorflow:Running local_init_op.\n",
      "INFO:tensorflow:Done running local_init_op.\n",
      "INFO:tensorflow:Saving checkpoints for 0 into C:\\Users\\DIVYOJ~1\\AppData\\Local\\Temp\\tmpvyr1h77w\\model.ckpt.\n",
      "INFO:tensorflow:loss = 359.52142, step = 1\n",
      "INFO:tensorflow:global_step/sec: 13.231\n",
      "INFO:tensorflow:loss = 287.1713, step = 101 (7.559 sec)\n",
      "INFO:tensorflow:global_step/sec: 38.7733\n",
      "INFO:tensorflow:loss = 287.12543, step = 201 (2.579 sec)\n",
      "INFO:tensorflow:global_step/sec: 38.7882\n",
      "INFO:tensorflow:loss = 287.09647, step = 301 (2.578 sec)\n",
      "INFO:tensorflow:global_step/sec: 39.1823\n",
      "INFO:tensorflow:loss = 287.08618, step = 401 (2.552 sec)\n",
      "INFO:tensorflow:global_step/sec: 39.0297\n",
      "INFO:tensorflow:loss = 287.08142, step = 501 (2.562 sec)\n",
      "INFO:tensorflow:global_step/sec: 38.6685\n",
      "INFO:tensorflow:loss = 287.0788, step = 601 (2.586 sec)\n",
      "INFO:tensorflow:global_step/sec: 37.8367\n",
      "INFO:tensorflow:loss = 287.0772, step = 701 (2.643 sec)\n",
      "INFO:tensorflow:global_step/sec: 37.7797\n",
      "INFO:tensorflow:loss = 287.07623, step = 801 (2.647 sec)\n",
      "INFO:tensorflow:global_step/sec: 37.8368\n",
      "INFO:tensorflow:loss = 287.07553, step = 901 (2.643 sec)\n",
      "INFO:tensorflow:Saving checkpoints for 1000 into C:\\Users\\DIVYOJ~1\\AppData\\Local\\Temp\\tmpvyr1h77w\\model.ckpt.\n",
      "INFO:tensorflow:Loss for final step: 287.07507.\n"
     ]
    },
    {
     "data": {
      "text/plain": [
       "KMeansClustering(params={'num_clusters': 2, 'training_initial_clusters': 'random', 'distance_metric': 'cosine', 'random_seed': 0, 'use_mini_batch': True, 'mini_batch_steps_per_iteration': 1, 'kmeans_plus_plus_num_retries': 2, 'relative_tolerance': None})"
      ]
     },
     "execution_count": 67,
     "metadata": {},
     "output_type": "execute_result"
    }
   ],
   "source": [
    "unsupervised_model.fit(input_fn=train_input_fn, steps=1000)"
   ]
  },
  {
   "cell_type": "code",
   "execution_count": 68,
   "metadata": {},
   "outputs": [
    {
     "name": "stdout",
     "output_type": "stream",
     "text": [
      "INFO:tensorflow:Graph was finalized.\n",
      "INFO:tensorflow:Restoring parameters from C:\\Users\\DIVYOJ~1\\AppData\\Local\\Temp\\tmpvyr1h77w\\model.ckpt-1000\n",
      "INFO:tensorflow:Running local_init_op.\n",
      "INFO:tensorflow:Done running local_init_op.\n"
     ]
    }
   ],
   "source": [
    "clusters = unsupervised_model.predict(input_fn=train_input_fn)\n",
    "\n"
   ]
  },
  {
   "cell_type": "code",
   "execution_count": 69,
   "metadata": {},
   "outputs": [],
   "source": [
    "index = 0\n",
    "c_0_count = 0\n",
    "c_1_count = 0\n",
    "\n",
    "mis_classified = 0\n",
    "corr_classified = 0\n",
    "\n",
    "\n",
    "for i in clusters:\n",
    "    \n",
    "    current_cluster = i['cluster_idx']\n",
    "    features = test_data[index]\n",
    "    \n",
    "    \n",
    "    if current_cluster == 0:\n",
    "            if test_labels[index] == current_cluster:\n",
    "                corr_classified += 1\n",
    "            else:\n",
    "                mis_classified += 1\n",
    "            c_0_count += 1\n",
    "            \n",
    "    if current_cluster == 1:\n",
    "            if test_labels[index] == current_cluster:\n",
    "                corr_classified += 1\n",
    "            else:\n",
    "                mis_classified += 1\n",
    "            c_1_count += 1\n",
    "            \n",
    "            \n",
    "\n",
    "            \n",
    "    index = index + 1"
   ]
  },
  {
   "cell_type": "markdown",
   "metadata": {},
   "source": [
    "## Accuracy using tensorflow-clustering"
   ]
  },
  {
   "cell_type": "code",
   "execution_count": 70,
   "metadata": {
    "scrolled": true
   },
   "outputs": [
    {
     "data": {
      "text/plain": [
       "0.5425"
      ]
     },
     "execution_count": 70,
     "metadata": {},
     "output_type": "execute_result"
    }
   ],
   "source": [
    "accuracy = corr_classified/len(test_labels)\n",
    "accuracy"
   ]
  },
  {
   "cell_type": "markdown",
   "metadata": {},
   "source": [
    "### using simple kmeans"
   ]
  },
  {
   "cell_type": "code",
   "execution_count": 88,
   "metadata": {},
   "outputs": [],
   "source": [
    "from sklearn.cluster import KMeans\n"
   ]
  },
  {
   "cell_type": "code",
   "execution_count": 89,
   "metadata": {},
   "outputs": [
    {
     "data": {
      "text/plain": [
       "KMeans(algorithm='auto', copy_x=True, init='k-means++', max_iter=300,\n",
       "    n_clusters=2, n_init=10, n_jobs=-1, precompute_distances='auto',\n",
       "    random_state=728, tol=0.0001, verbose=0)"
      ]
     },
     "execution_count": 89,
     "metadata": {},
     "output_type": "execute_result"
    }
   ],
   "source": [
    "k = KMeans(n_clusters=2, n_jobs=-1, random_state=728)\n",
    "# Let's do some timings to see how long it takes to train.\n",
    "# Train it up\n",
    "k.fit(compressed)"
   ]
  },
  {
   "cell_type": "code",
   "execution_count": 76,
   "metadata": {
    "scrolled": true
   },
   "outputs": [
    {
     "data": {
      "text/html": [
       "<div>\n",
       "<style scoped>\n",
       "    .dataframe tbody tr th:only-of-type {\n",
       "        vertical-align: middle;\n",
       "    }\n",
       "\n",
       "    .dataframe tbody tr th {\n",
       "        vertical-align: top;\n",
       "    }\n",
       "\n",
       "    .dataframe thead th {\n",
       "        text-align: right;\n",
       "    }\n",
       "</style>\n",
       "<table border=\"1\" class=\"dataframe\">\n",
       "  <thead>\n",
       "    <tr style=\"text-align: right;\">\n",
       "      <th></th>\n",
       "      <th>Clusters</th>\n",
       "      <th>test_labels</th>\n",
       "    </tr>\n",
       "  </thead>\n",
       "  <tbody>\n",
       "    <tr>\n",
       "      <th>0</th>\n",
       "      <td>0</td>\n",
       "      <td>0</td>\n",
       "    </tr>\n",
       "    <tr>\n",
       "      <th>1</th>\n",
       "      <td>0</td>\n",
       "      <td>1</td>\n",
       "    </tr>\n",
       "    <tr>\n",
       "      <th>2</th>\n",
       "      <td>0</td>\n",
       "      <td>0</td>\n",
       "    </tr>\n",
       "    <tr>\n",
       "      <th>3</th>\n",
       "      <td>0</td>\n",
       "      <td>0</td>\n",
       "    </tr>\n",
       "    <tr>\n",
       "      <th>4</th>\n",
       "      <td>0</td>\n",
       "      <td>0</td>\n",
       "    </tr>\n",
       "  </tbody>\n",
       "</table>\n",
       "</div>"
      ],
      "text/plain": [
       "   Clusters  test_labels\n",
       "0         0            0\n",
       "1         0            1\n",
       "2         0            0\n",
       "3         0            0\n",
       "4         0            0"
      ]
     },
     "execution_count": 76,
     "metadata": {},
     "output_type": "execute_result"
    }
   ],
   "source": [
    "cluster_df = pd.DataFrame({'Clusters' : list(k.labels_), 'test_labels' : list(test_labels)})\n",
    "cluster_df.head()"
   ]
  },
  {
   "cell_type": "code",
   "execution_count": 77,
   "metadata": {},
   "outputs": [],
   "source": [
    "def label(val):\n",
    "    k=val[0]\n",
    "    m=val[1]\n",
    "    if k==m:\n",
    "        return 1\n",
    "    else:\n",
    "        return 0"
   ]
  },
  {
   "cell_type": "code",
   "execution_count": 78,
   "metadata": {},
   "outputs": [],
   "source": [
    "cluster_df['Newlabel']=cluster_df[['Clusters','test_labels']].apply(label,axis=1)"
   ]
  },
  {
   "cell_type": "code",
   "execution_count": 79,
   "metadata": {
    "scrolled": true
   },
   "outputs": [
    {
     "data": {
      "text/html": [
       "<div>\n",
       "<style scoped>\n",
       "    .dataframe tbody tr th:only-of-type {\n",
       "        vertical-align: middle;\n",
       "    }\n",
       "\n",
       "    .dataframe tbody tr th {\n",
       "        vertical-align: top;\n",
       "    }\n",
       "\n",
       "    .dataframe thead th {\n",
       "        text-align: right;\n",
       "    }\n",
       "</style>\n",
       "<table border=\"1\" class=\"dataframe\">\n",
       "  <thead>\n",
       "    <tr style=\"text-align: right;\">\n",
       "      <th></th>\n",
       "      <th>Clusters</th>\n",
       "      <th>test_labels</th>\n",
       "      <th>Newlabel</th>\n",
       "    </tr>\n",
       "  </thead>\n",
       "  <tbody>\n",
       "    <tr>\n",
       "      <th>0</th>\n",
       "      <td>0</td>\n",
       "      <td>0</td>\n",
       "      <td>1</td>\n",
       "    </tr>\n",
       "    <tr>\n",
       "      <th>1</th>\n",
       "      <td>0</td>\n",
       "      <td>1</td>\n",
       "      <td>0</td>\n",
       "    </tr>\n",
       "    <tr>\n",
       "      <th>2</th>\n",
       "      <td>0</td>\n",
       "      <td>0</td>\n",
       "      <td>1</td>\n",
       "    </tr>\n",
       "    <tr>\n",
       "      <th>3</th>\n",
       "      <td>0</td>\n",
       "      <td>0</td>\n",
       "      <td>1</td>\n",
       "    </tr>\n",
       "    <tr>\n",
       "      <th>4</th>\n",
       "      <td>0</td>\n",
       "      <td>0</td>\n",
       "      <td>1</td>\n",
       "    </tr>\n",
       "  </tbody>\n",
       "</table>\n",
       "</div>"
      ],
      "text/plain": [
       "   Clusters  test_labels  Newlabel\n",
       "0         0            0         1\n",
       "1         0            1         0\n",
       "2         0            0         1\n",
       "3         0            0         1\n",
       "4         0            0         1"
      ]
     },
     "execution_count": 79,
     "metadata": {},
     "output_type": "execute_result"
    }
   ],
   "source": [
    "cluster_df.head()"
   ]
  },
  {
   "cell_type": "code",
   "execution_count": 93,
   "metadata": {},
   "outputs": [
    {
     "data": {
      "text/plain": [
       "0.505"
      ]
     },
     "execution_count": 93,
     "metadata": {},
     "output_type": "execute_result"
    }
   ],
   "source": [
    "accuracy_kmeans = cluster_df['Newlabel'].sum()/test_labels.shape[0]\n",
    "accuracy_kmeans"
   ]
  },
  {
   "cell_type": "code",
   "execution_count": null,
   "metadata": {},
   "outputs": [],
   "source": []
  },
  {
   "cell_type": "code",
   "execution_count": null,
   "metadata": {},
   "outputs": [],
   "source": []
  },
  {
   "cell_type": "markdown",
   "metadata": {},
   "source": [
    "# Try 2 \n",
    "\n",
    "- using adadelta optimizer"
   ]
  },
  {
   "cell_type": "code",
   "execution_count": 95,
   "metadata": {},
   "outputs": [],
   "source": [
    "import keras\n",
    "from keras.datasets import mnist\n",
    "from keras.models import Sequential\n",
    "from keras.layers import Dense, Activation, Flatten\n",
    "from keras.layers import Conv2D, MaxPooling2D, UpSampling2D\n",
    "import matplotlib.pyplot as plt\n",
    "from keras import backend as K\n",
    "import numpy as np"
   ]
  },
  {
   "cell_type": "code",
   "execution_count": 97,
   "metadata": {},
   "outputs": [
    {
     "name": "stdout",
     "output_type": "stream",
     "text": [
      "_________________________________________________________________\n",
      "Layer (type)                 Output Shape              Param #   \n",
      "=================================================================\n",
      "conv2d_76 (Conv2D)           (None, 64, 64, 16)        160       \n",
      "_________________________________________________________________\n",
      "activation_6 (Activation)    (None, 64, 64, 16)        0         \n",
      "_________________________________________________________________\n",
      "max_pooling2d_15 (MaxPooling (None, 32, 32, 16)        0         \n",
      "_________________________________________________________________\n",
      "conv2d_77 (Conv2D)           (None, 32, 32, 2)         290       \n",
      "_________________________________________________________________\n",
      "activation_7 (Activation)    (None, 32, 32, 2)         0         \n",
      "_________________________________________________________________\n",
      "max_pooling2d_16 (MaxPooling (None, 16, 16, 2)         0         \n",
      "_________________________________________________________________\n",
      "conv2d_78 (Conv2D)           (None, 16, 16, 2)         38        \n",
      "_________________________________________________________________\n",
      "activation_8 (Activation)    (None, 16, 16, 2)         0         \n",
      "_________________________________________________________________\n",
      "up_sampling2d_15 (UpSampling (None, 32, 32, 2)         0         \n",
      "_________________________________________________________________\n",
      "conv2d_79 (Conv2D)           (None, 32, 32, 16)        304       \n",
      "_________________________________________________________________\n",
      "activation_9 (Activation)    (None, 32, 32, 16)        0         \n",
      "_________________________________________________________________\n",
      "up_sampling2d_16 (UpSampling (None, 64, 64, 16)        0         \n",
      "_________________________________________________________________\n",
      "conv2d_80 (Conv2D)           (None, 64, 64, 1)         145       \n",
      "_________________________________________________________________\n",
      "activation_10 (Activation)   (None, 64, 64, 1)         0         \n",
      "=================================================================\n",
      "Total params: 937\n",
      "Trainable params: 937\n",
      "Non-trainable params: 0\n",
      "_________________________________________________________________\n"
     ]
    }
   ],
   "source": [
    "model = Sequential()\n",
    "\n",
    "#1st convolution layer\n",
    "model.add(Conv2D(16, (3, 3) #16 is number of filters and (3, 3) is the size of the filter.\n",
    "    , padding='same', input_shape=(64,64,1)))\n",
    "model.add(Activation('relu'))\n",
    "model.add(MaxPooling2D(pool_size=(2,2), padding='same'))\n",
    "\n",
    "#2nd convolution layer\n",
    "model.add(Conv2D(2,(3, 3), padding='same')) # apply 2 filters sized of (3x3)\n",
    "model.add(Activation('relu'))\n",
    "model.add(MaxPooling2D(pool_size=(2,2), padding='same'))\n",
    "\n",
    "#-------------------------\n",
    "\n",
    "#3rd convolution layer\n",
    "model.add(Conv2D(2,(3, 3), padding='same')) # apply 2 filters sized of (3x3)\n",
    "model.add(Activation('relu'))\n",
    "model.add(UpSampling2D((2, 2)))\n",
    "\n",
    "#4rd convolution layer\n",
    "model.add(Conv2D(16,(3, 3), padding='same'))\n",
    "model.add(Activation('relu'))\n",
    "model.add(UpSampling2D((2, 2)))\n",
    "\n",
    "#-------------------------\n",
    "\n",
    "model.add(Conv2D(1,(3, 3), padding='same'))\n",
    "model.add(Activation('sigmoid'))\n",
    "\n",
    "model.summary()"
   ]
  },
  {
   "cell_type": "code",
   "execution_count": 99,
   "metadata": {},
   "outputs": [
    {
     "name": "stdout",
     "output_type": "stream",
     "text": [
      "Train on 1280 samples, validate on 320 samples\n",
      "Epoch 1/50\n",
      "1280/1280 [==============================] - ETA: 2:01 - loss: 0.693 - ETA: 28s - loss: 0.693 - ETA: 15s - loss: 0.69 - ETA: 8s - loss: 0.6922 - ETA: 5s - loss: 0.690 - ETA: 3s - loss: 0.689 - ETA: 2s - loss: 0.688 - ETA: 1s - loss: 0.685 - ETA: 1s - loss: 0.683 - ETA: 0s - loss: 0.679 - ETA: 0s - loss: 0.676 - 4s 3ms/step - loss: 0.6752 - val_loss: 0.6343\n",
      "Epoch 2/50\n",
      "1280/1280 [==============================] - ETA: 0s - loss: 0.643 - ETA: 0s - loss: 0.645 - ETA: 0s - loss: 0.634 - ETA: 0s - loss: 0.646 - ETA: 0s - loss: 0.639 - ETA: 0s - loss: 0.633 - ETA: 0s - loss: 0.635 - ETA: 0s - loss: 0.633 - ETA: 0s - loss: 0.630 - ETA: 0s - loss: 0.629 - 1s 476us/step - loss: 0.6288 - val_loss: 0.6059\n",
      "Epoch 3/50\n",
      "1280/1280 [==============================] - ETA: 0s - loss: 0.622 - ETA: 0s - loss: 0.610 - ETA: 0s - loss: 0.616 - ETA: 0s - loss: 0.614 - ETA: 0s - loss: 0.613 - ETA: 0s - loss: 0.612 - ETA: 0s - loss: 0.612 - ETA: 0s - loss: 0.612 - ETA: 0s - loss: 0.611 - ETA: 0s - loss: 0.610 - 1s 482us/step - loss: 0.6107 - val_loss: 0.6270\n",
      "Epoch 4/50\n",
      "1280/1280 [==============================] - ETA: 0s - loss: 0.625 - ETA: 0s - loss: 0.611 - ETA: 0s - loss: 0.605 - ETA: 0s - loss: 0.609 - ETA: 0s - loss: 0.608 - ETA: 0s - loss: 0.605 - ETA: 0s - loss: 0.605 - ETA: 0s - loss: 0.606 - ETA: 0s - loss: 0.604 - ETA: 0s - loss: 0.604 - 1s 477us/step - loss: 0.6041 - val_loss: 0.5957\n",
      "Epoch 5/50\n",
      "1280/1280 [==============================] - ETA: 0s - loss: 0.570 - ETA: 0s - loss: 0.593 - ETA: 0s - loss: 0.608 - ETA: 0s - loss: 0.606 - ETA: 0s - loss: 0.603 - ETA: 0s - loss: 0.600 - ETA: 0s - loss: 0.602 - ETA: 0s - loss: 0.601 - ETA: 0s - loss: 0.602 - ETA: 0s - loss: 0.601 - 1s 476us/step - loss: 0.6018 - val_loss: 0.5959\n",
      "Epoch 6/50\n",
      "1280/1280 [==============================] - ETA: 0s - loss: 0.605 - ETA: 0s - loss: 0.585 - ETA: 0s - loss: 0.589 - ETA: 0s - loss: 0.594 - ETA: 0s - loss: 0.595 - ETA: 0s - loss: 0.597 - ETA: 0s - loss: 0.598 - ETA: 0s - loss: 0.599 - ETA: 0s - loss: 0.598 - ETA: 0s - loss: 0.596 - 1s 479us/step - loss: 0.5962 - val_loss: 0.5949\n",
      "Epoch 7/50\n",
      "1280/1280 [==============================] - ETA: 0s - loss: 0.597 - ETA: 0s - loss: 0.603 - ETA: 0s - loss: 0.600 - ETA: 0s - loss: 0.597 - ETA: 0s - loss: 0.595 - ETA: 0s - loss: 0.596 - ETA: 0s - loss: 0.597 - ETA: 0s - loss: 0.597 - ETA: 0s - loss: 0.595 - ETA: 0s - loss: 0.595 - 1s 478us/step - loss: 0.5955 - val_loss: 0.5934\n",
      "Epoch 8/50\n",
      "1280/1280 [==============================] - ETA: 0s - loss: 0.602 - ETA: 0s - loss: 0.594 - ETA: 0s - loss: 0.589 - ETA: 0s - loss: 0.592 - ETA: 0s - loss: 0.592 - ETA: 0s - loss: 0.593 - ETA: 0s - loss: 0.592 - ETA: 0s - loss: 0.590 - ETA: 0s - loss: 0.591 - ETA: 0s - loss: 0.593 - 1s 478us/step - loss: 0.5930 - val_loss: 0.5830\n",
      "Epoch 9/50\n",
      "1280/1280 [==============================] - ETA: 0s - loss: 0.563 - ETA: 0s - loss: 0.577 - ETA: 0s - loss: 0.581 - ETA: 0s - loss: 0.591 - ETA: 0s - loss: 0.592 - ETA: 0s - loss: 0.590 - ETA: 0s - loss: 0.589 - ETA: 0s - loss: 0.588 - ETA: 0s - loss: 0.589 - ETA: 0s - loss: 0.590 - 1s 479us/step - loss: 0.5907 - val_loss: 0.5828\n",
      "Epoch 10/50\n",
      "1280/1280 [==============================] - ETA: 0s - loss: 0.568 - ETA: 0s - loss: 0.588 - ETA: 0s - loss: 0.584 - ETA: 0s - loss: 0.582 - ETA: 0s - loss: 0.585 - ETA: 0s - loss: 0.583 - ETA: 0s - loss: 0.582 - ETA: 0s - loss: 0.582 - ETA: 0s - loss: 0.582 - ETA: 0s - loss: 0.584 - 1s 478us/step - loss: 0.5856 - val_loss: 0.5914\n",
      "Epoch 11/50\n",
      "1280/1280 [==============================] - ETA: 0s - loss: 0.594 - ETA: 0s - loss: 0.597 - ETA: 0s - loss: 0.586 - ETA: 0s - loss: 0.583 - ETA: 0s - loss: 0.585 - ETA: 0s - loss: 0.588 - ETA: 0s - loss: 0.588 - ETA: 0s - loss: 0.588 - ETA: 0s - loss: 0.587 - ETA: 0s - loss: 0.586 - 1s 516us/step - loss: 0.5857 - val_loss: 0.5856\n",
      "Epoch 12/50\n",
      "1280/1280 [==============================] - ETA: 0s - loss: 0.585 - ETA: 0s - loss: 0.582 - ETA: 0s - loss: 0.583 - ETA: 0s - loss: 0.584 - ETA: 0s - loss: 0.585 - ETA: 0s - loss: 0.585 - ETA: 0s - loss: 0.584 - ETA: 0s - loss: 0.583 - ETA: 0s - loss: 0.585 - ETA: 0s - loss: 0.585 - 1s 474us/step - loss: 0.5847 - val_loss: 0.5785\n",
      "Epoch 13/50\n",
      "1280/1280 [==============================] - ETA: 0s - loss: 0.567 - ETA: 0s - loss: 0.586 - ETA: 0s - loss: 0.586 - ETA: 0s - loss: 0.583 - ETA: 0s - loss: 0.585 - ETA: 0s - loss: 0.586 - ETA: 0s - loss: 0.584 - ETA: 0s - loss: 0.584 - ETA: 0s - loss: 0.583 - ETA: 0s - loss: 0.583 - 1s 459us/step - loss: 0.5835 - val_loss: 0.5821\n",
      "Epoch 14/50\n",
      "1280/1280 [==============================] - ETA: 0s - loss: 0.583 - ETA: 0s - loss: 0.587 - ETA: 0s - loss: 0.584 - ETA: 0s - loss: 0.584 - ETA: 0s - loss: 0.582 - ETA: 0s - loss: 0.581 - ETA: 0s - loss: 0.582 - ETA: 0s - loss: 0.582 - ETA: 0s - loss: 0.583 - ETA: 0s - loss: 0.583 - 1s 485us/step - loss: 0.5822 - val_loss: 0.5781\n",
      "Epoch 15/50\n",
      "1280/1280 [==============================] - ETA: 0s - loss: 0.600 - ETA: 0s - loss: 0.589 - ETA: 0s - loss: 0.586 - ETA: 0s - loss: 0.584 - ETA: 0s - loss: 0.583 - ETA: 0s - loss: 0.584 - ETA: 0s - loss: 0.584 - ETA: 0s - loss: 0.583 - ETA: 0s - loss: 0.582 - ETA: 0s - loss: 0.582 - 1s 485us/step - loss: 0.5816 - val_loss: 0.5790\n",
      "Epoch 16/50\n",
      "1280/1280 [==============================] - ETA: 0s - loss: 0.584 - ETA: 0s - loss: 0.587 - ETA: 0s - loss: 0.584 - ETA: 0s - loss: 0.582 - ETA: 0s - loss: 0.581 - ETA: 0s - loss: 0.583 - ETA: 0s - loss: 0.582 - ETA: 0s - loss: 0.583 - ETA: 0s - loss: 0.581 - ETA: 0s - loss: 0.582 - 1s 462us/step - loss: 0.5821 - val_loss: 0.5801\n",
      "Epoch 17/50\n",
      "1280/1280 [==============================] - ETA: 0s - loss: 0.577 - ETA: 0s - loss: 0.573 - ETA: 0s - loss: 0.578 - ETA: 0s - loss: 0.579 - ETA: 0s - loss: 0.581 - ETA: 0s - loss: 0.582 - ETA: 0s - loss: 0.581 - ETA: 0s - loss: 0.582 - ETA: 0s - loss: 0.582 - ETA: 0s - loss: 0.581 - 1s 460us/step - loss: 0.5804 - val_loss: 0.5802\n",
      "Epoch 18/50\n",
      "1280/1280 [==============================] - ETA: 0s - loss: 0.568 - ETA: 0s - loss: 0.579 - ETA: 0s - loss: 0.580 - ETA: 0s - loss: 0.582 - ETA: 0s - loss: 0.581 - ETA: 0s - loss: 0.582 - ETA: 0s - loss: 0.581 - ETA: 0s - loss: 0.579 - ETA: 0s - loss: 0.578 - ETA: 0s - loss: 0.581 - 1s 463us/step - loss: 0.5809 - val_loss: 0.5809\n",
      "Epoch 19/50\n",
      "1280/1280 [==============================] - ETA: 0s - loss: 0.584 - ETA: 0s - loss: 0.578 - ETA: 0s - loss: 0.576 - ETA: 0s - loss: 0.578 - ETA: 0s - loss: 0.578 - ETA: 0s - loss: 0.576 - ETA: 0s - loss: 0.576 - ETA: 0s - loss: 0.577 - ETA: 0s - loss: 0.578 - ETA: 0s - loss: 0.579 - 1s 487us/step - loss: 0.5798 - val_loss: 0.5807\n",
      "Epoch 20/50\n",
      "1280/1280 [==============================] - ETA: 0s - loss: 0.571 - ETA: 0s - loss: 0.579 - ETA: 0s - loss: 0.578 - ETA: 0s - loss: 0.578 - ETA: 0s - loss: 0.579 - ETA: 0s - loss: 0.580 - ETA: 0s - loss: 0.579 - ETA: 0s - loss: 0.578 - ETA: 0s - loss: 0.579 - ETA: 0s - loss: 0.577 - 1s 476us/step - loss: 0.5786 - val_loss: 0.5804\n",
      "Epoch 21/50\n",
      "1280/1280 [==============================] - ETA: 0s - loss: 0.577 - ETA: 0s - loss: 0.578 - ETA: 0s - loss: 0.578 - ETA: 0s - loss: 0.579 - ETA: 0s - loss: 0.582 - ETA: 0s - loss: 0.582 - ETA: 0s - loss: 0.581 - ETA: 0s - loss: 0.581 - ETA: 0s - loss: 0.580 - ETA: 0s - loss: 0.581 - 1s 459us/step - loss: 0.5807 - val_loss: 0.5760\n",
      "Epoch 22/50\n",
      "1280/1280 [==============================] - ETA: 0s - loss: 0.579 - ETA: 0s - loss: 0.570 - ETA: 0s - loss: 0.571 - ETA: 0s - loss: 0.572 - ETA: 0s - loss: 0.573 - ETA: 0s - loss: 0.577 - ETA: 0s - loss: 0.577 - ETA: 0s - loss: 0.578 - ETA: 0s - loss: 0.578 - ETA: 0s - loss: 0.579 - 1s 457us/step - loss: 0.5780 - val_loss: 0.5761\n",
      "Epoch 23/50\n",
      "1280/1280 [==============================] - ETA: 0s - loss: 0.553 - ETA: 0s - loss: 0.575 - ETA: 0s - loss: 0.575 - ETA: 0s - loss: 0.576 - ETA: 0s - loss: 0.576 - ETA: 0s - loss: 0.578 - ETA: 0s - loss: 0.578 - ETA: 0s - loss: 0.578 - ETA: 0s - loss: 0.577 - ETA: 0s - loss: 0.577 - 1s 473us/step - loss: 0.5778 - val_loss: 0.5821\n",
      "Epoch 24/50\n"
     ]
    },
    {
     "name": "stdout",
     "output_type": "stream",
     "text": [
      "1280/1280 [==============================] - ETA: 0s - loss: 0.583 - ETA: 0s - loss: 0.573 - ETA: 0s - loss: 0.577 - ETA: 0s - loss: 0.575 - ETA: 0s - loss: 0.575 - ETA: 0s - loss: 0.577 - ETA: 0s - loss: 0.577 - ETA: 0s - loss: 0.577 - ETA: 0s - loss: 0.577 - ETA: 0s - loss: 0.577 - ETA: 0s - loss: 0.577 - 1s 500us/step - loss: 0.5778 - val_loss: 0.5797\n",
      "Epoch 25/50\n",
      "1280/1280 [==============================] - ETA: 0s - loss: 0.567 - ETA: 0s - loss: 0.577 - ETA: 0s - loss: 0.579 - ETA: 0s - loss: 0.580 - ETA: 0s - loss: 0.578 - ETA: 0s - loss: 0.578 - ETA: 0s - loss: 0.578 - ETA: 0s - loss: 0.577 - ETA: 0s - loss: 0.576 - ETA: 0s - loss: 0.576 - 1s 510us/step - loss: 0.5774 - val_loss: 0.5773\n",
      "Epoch 26/50\n",
      "1280/1280 [==============================] - ETA: 0s - loss: 0.592 - ETA: 0s - loss: 0.581 - ETA: 0s - loss: 0.579 - ETA: 0s - loss: 0.579 - ETA: 0s - loss: 0.579 - ETA: 0s - loss: 0.577 - ETA: 0s - loss: 0.576 - ETA: 0s - loss: 0.576 - ETA: 0s - loss: 0.575 - ETA: 0s - loss: 0.577 - ETA: 0s - loss: 0.578 - 1s 507us/step - loss: 0.5782 - val_loss: 0.5754\n",
      "Epoch 27/50\n",
      "1280/1280 [==============================] - ETA: 0s - loss: 0.584 - ETA: 0s - loss: 0.581 - ETA: 0s - loss: 0.580 - ETA: 0s - loss: 0.579 - ETA: 0s - loss: 0.580 - ETA: 0s - loss: 0.579 - ETA: 0s - loss: 0.578 - ETA: 0s - loss: 0.577 - ETA: 0s - loss: 0.576 - ETA: 0s - loss: 0.576 - 1s 458us/step - loss: 0.5760 - val_loss: 0.5739\n",
      "Epoch 28/50\n",
      "1280/1280 [==============================] - ETA: 0s - loss: 0.565 - ETA: 0s - loss: 0.573 - ETA: 0s - loss: 0.576 - ETA: 0s - loss: 0.577 - ETA: 0s - loss: 0.579 - ETA: 0s - loss: 0.576 - ETA: 0s - loss: 0.576 - ETA: 0s - loss: 0.576 - ETA: 0s - loss: 0.576 - ETA: 0s - loss: 0.576 - 1s 482us/step - loss: 0.5767 - val_loss: 0.5754\n",
      "Epoch 29/50\n",
      "1280/1280 [==============================] - ETA: 0s - loss: 0.577 - ETA: 0s - loss: 0.579 - ETA: 0s - loss: 0.572 - ETA: 0s - loss: 0.577 - ETA: 0s - loss: 0.574 - ETA: 0s - loss: 0.575 - ETA: 0s - loss: 0.576 - ETA: 0s - loss: 0.577 - ETA: 0s - loss: 0.577 - ETA: 0s - loss: 0.576 - 1s 457us/step - loss: 0.5763 - val_loss: 0.5746\n",
      "Epoch 30/50\n",
      "1280/1280 [==============================] - ETA: 0s - loss: 0.572 - ETA: 0s - loss: 0.576 - ETA: 0s - loss: 0.581 - ETA: 0s - loss: 0.581 - ETA: 0s - loss: 0.577 - ETA: 0s - loss: 0.577 - ETA: 0s - loss: 0.577 - ETA: 0s - loss: 0.576 - ETA: 0s - loss: 0.576 - ETA: 0s - loss: 0.576 - 1s 464us/step - loss: 0.5765 - val_loss: 0.5798\n",
      "Epoch 31/50\n",
      "1280/1280 [==============================] - ETA: 0s - loss: 0.574 - ETA: 0s - loss: 0.584 - ETA: 0s - loss: 0.578 - ETA: 0s - loss: 0.576 - ETA: 0s - loss: 0.576 - ETA: 0s - loss: 0.573 - ETA: 0s - loss: 0.576 - ETA: 0s - loss: 0.577 - ETA: 0s - loss: 0.577 - ETA: 0s - loss: 0.575 - 1s 455us/step - loss: 0.5760 - val_loss: 0.5776\n",
      "Epoch 32/50\n",
      "1280/1280 [==============================] - ETA: 0s - loss: 0.582 - ETA: 0s - loss: 0.579 - ETA: 0s - loss: 0.579 - ETA: 0s - loss: 0.575 - ETA: 0s - loss: 0.576 - ETA: 0s - loss: 0.577 - ETA: 0s - loss: 0.577 - ETA: 0s - loss: 0.576 - ETA: 0s - loss: 0.575 - ETA: 0s - loss: 0.575 - 1s 457us/step - loss: 0.5755 - val_loss: 0.5743\n",
      "Epoch 33/50\n",
      "1280/1280 [==============================] - ETA: 0s - loss: 0.581 - ETA: 0s - loss: 0.572 - ETA: 0s - loss: 0.574 - ETA: 0s - loss: 0.574 - ETA: 0s - loss: 0.574 - ETA: 0s - loss: 0.572 - ETA: 0s - loss: 0.573 - ETA: 0s - loss: 0.574 - ETA: 0s - loss: 0.575 - ETA: 0s - loss: 0.576 - 1s 457us/step - loss: 0.5765 - val_loss: 0.5735\n",
      "Epoch 34/50\n",
      "1280/1280 [==============================] - ETA: 0s - loss: 0.587 - ETA: 0s - loss: 0.571 - ETA: 0s - loss: 0.571 - ETA: 0s - loss: 0.572 - ETA: 0s - loss: 0.572 - ETA: 0s - loss: 0.574 - ETA: 0s - loss: 0.574 - ETA: 0s - loss: 0.574 - ETA: 0s - loss: 0.575 - ETA: 0s - loss: 0.575 - 1s 472us/step - loss: 0.5753 - val_loss: 0.5757\n",
      "Epoch 35/50\n",
      "1280/1280 [==============================] - ETA: 0s - loss: 0.591 - ETA: 0s - loss: 0.585 - ETA: 0s - loss: 0.583 - ETA: 0s - loss: 0.579 - ETA: 0s - loss: 0.572 - ETA: 0s - loss: 0.571 - ETA: 0s - loss: 0.574 - ETA: 0s - loss: 0.574 - ETA: 0s - loss: 0.574 - ETA: 0s - loss: 0.574 - 1s 482us/step - loss: 0.5743 - val_loss: 0.5755\n",
      "Epoch 36/50\n",
      "1280/1280 [==============================] - ETA: 0s - loss: 0.556 - ETA: 0s - loss: 0.572 - ETA: 0s - loss: 0.577 - ETA: 0s - loss: 0.578 - ETA: 0s - loss: 0.575 - ETA: 0s - loss: 0.575 - ETA: 0s - loss: 0.576 - ETA: 0s - loss: 0.575 - ETA: 0s - loss: 0.574 - ETA: 0s - loss: 0.574 - 1s 467us/step - loss: 0.5752 - val_loss: 0.5782\n",
      "Epoch 37/50\n",
      "1280/1280 [==============================] - ETA: 0s - loss: 0.584 - ETA: 0s - loss: 0.581 - ETA: 0s - loss: 0.580 - ETA: 0s - loss: 0.579 - ETA: 0s - loss: 0.575 - ETA: 0s - loss: 0.574 - ETA: 0s - loss: 0.574 - ETA: 0s - loss: 0.575 - ETA: 0s - loss: 0.573 - ETA: 0s - loss: 0.574 - 1s 455us/step - loss: 0.5747 - val_loss: 0.5756\n",
      "Epoch 38/50\n",
      "1280/1280 [==============================] - ETA: 0s - loss: 0.582 - ETA: 0s - loss: 0.580 - ETA: 0s - loss: 0.578 - ETA: 0s - loss: 0.578 - ETA: 0s - loss: 0.577 - ETA: 0s - loss: 0.575 - ETA: 0s - loss: 0.576 - ETA: 0s - loss: 0.574 - ETA: 0s - loss: 0.574 - ETA: 0s - loss: 0.574 - 1s 459us/step - loss: 0.5751 - val_loss: 0.5743\n",
      "Epoch 39/50\n",
      "1280/1280 [==============================] - ETA: 0s - loss: 0.574 - ETA: 0s - loss: 0.576 - ETA: 0s - loss: 0.578 - ETA: 0s - loss: 0.579 - ETA: 0s - loss: 0.576 - ETA: 0s - loss: 0.573 - ETA: 0s - loss: 0.573 - ETA: 0s - loss: 0.573 - ETA: 0s - loss: 0.573 - ETA: 0s - loss: 0.574 - 1s 458us/step - loss: 0.5742 - val_loss: 0.5731\n",
      "Epoch 40/50\n",
      "1280/1280 [==============================] - ETA: 0s - loss: 0.584 - ETA: 0s - loss: 0.578 - ETA: 0s - loss: 0.577 - ETA: 0s - loss: 0.578 - ETA: 0s - loss: 0.576 - ETA: 0s - loss: 0.574 - ETA: 0s - loss: 0.575 - ETA: 0s - loss: 0.574 - ETA: 0s - loss: 0.574 - ETA: 0s - loss: 0.574 - 1s 458us/step - loss: 0.5738 - val_loss: 0.5775\n",
      "Epoch 41/50\n",
      "1280/1280 [==============================] - ETA: 0s - loss: 0.577 - ETA: 0s - loss: 0.583 - ETA: 0s - loss: 0.578 - ETA: 0s - loss: 0.576 - ETA: 0s - loss: 0.575 - ETA: 0s - loss: 0.575 - ETA: 0s - loss: 0.574 - ETA: 0s - loss: 0.573 - ETA: 0s - loss: 0.574 - ETA: 0s - loss: 0.574 - 1s 459us/step - loss: 0.5745 - val_loss: 0.5728\n",
      "Epoch 42/50\n",
      "1280/1280 [==============================] - ETA: 0s - loss: 0.564 - ETA: 0s - loss: 0.576 - ETA: 0s - loss: 0.573 - ETA: 0s - loss: 0.577 - ETA: 0s - loss: 0.577 - ETA: 0s - loss: 0.576 - ETA: 0s - loss: 0.575 - ETA: 0s - loss: 0.573 - ETA: 0s - loss: 0.574 - ETA: 0s - loss: 0.574 - 1s 457us/step - loss: 0.5741 - val_loss: 0.5714\n",
      "Epoch 43/50\n",
      "1280/1280 [==============================] - ETA: 0s - loss: 0.556 - ETA: 0s - loss: 0.566 - ETA: 0s - loss: 0.570 - ETA: 0s - loss: 0.571 - ETA: 0s - loss: 0.571 - ETA: 0s - loss: 0.572 - ETA: 0s - loss: 0.574 - ETA: 0s - loss: 0.574 - ETA: 0s - loss: 0.574 - ETA: 0s - loss: 0.574 - 1s 460us/step - loss: 0.5741 - val_loss: 0.5725\n",
      "Epoch 44/50\n",
      "1280/1280 [==============================] - ETA: 0s - loss: 0.569 - ETA: 0s - loss: 0.580 - ETA: 0s - loss: 0.572 - ETA: 0s - loss: 0.573 - ETA: 0s - loss: 0.575 - ETA: 0s - loss: 0.574 - ETA: 0s - loss: 0.572 - ETA: 0s - loss: 0.573 - ETA: 0s - loss: 0.573 - ETA: 0s - loss: 0.573 - 1s 457us/step - loss: 0.5735 - val_loss: 0.5728\n",
      "Epoch 45/50\n",
      "1280/1280 [==============================] - ETA: 0s - loss: 0.570 - ETA: 0s - loss: 0.575 - ETA: 0s - loss: 0.575 - ETA: 0s - loss: 0.573 - ETA: 0s - loss: 0.574 - ETA: 0s - loss: 0.573 - ETA: 0s - loss: 0.573 - ETA: 0s - loss: 0.573 - ETA: 0s - loss: 0.574 - ETA: 0s - loss: 0.573 - 1s 460us/step - loss: 0.5739 - val_loss: 0.5742\n",
      "Epoch 46/50\n",
      "1280/1280 [==============================] - ETA: 0s - loss: 0.550 - ETA: 0s - loss: 0.569 - ETA: 0s - loss: 0.574 - ETA: 0s - loss: 0.575 - ETA: 0s - loss: 0.576 - ETA: 0s - loss: 0.574 - ETA: 0s - loss: 0.575 - ETA: 0s - loss: 0.574 - ETA: 0s - loss: 0.573 - ETA: 0s - loss: 0.573 - 1s 462us/step - loss: 0.5738 - val_loss: 0.5763\n",
      "Epoch 47/50\n"
     ]
    },
    {
     "name": "stdout",
     "output_type": "stream",
     "text": [
      "1280/1280 [==============================] - ETA: 0s - loss: 0.561 - ETA: 0s - loss: 0.567 - ETA: 0s - loss: 0.566 - ETA: 0s - loss: 0.568 - ETA: 0s - loss: 0.569 - ETA: 0s - loss: 0.569 - ETA: 0s - loss: 0.570 - ETA: 0s - loss: 0.571 - ETA: 0s - loss: 0.572 - ETA: 0s - loss: 0.573 - 1s 487us/step - loss: 0.5733 - val_loss: 0.5743\n",
      "Epoch 48/50\n",
      "1280/1280 [==============================] - ETA: 0s - loss: 0.587 - ETA: 0s - loss: 0.574 - ETA: 0s - loss: 0.576 - ETA: 0s - loss: 0.575 - ETA: 0s - loss: 0.573 - ETA: 0s - loss: 0.574 - ETA: 0s - loss: 0.574 - ETA: 0s - loss: 0.573 - ETA: 0s - loss: 0.573 - ETA: 0s - loss: 0.573 - 1s 457us/step - loss: 0.5729 - val_loss: 0.5730\n",
      "Epoch 49/50\n",
      "1280/1280 [==============================] - ETA: 0s - loss: 0.575 - ETA: 0s - loss: 0.579 - ETA: 0s - loss: 0.576 - ETA: 0s - loss: 0.573 - ETA: 0s - loss: 0.572 - ETA: 0s - loss: 0.572 - ETA: 0s - loss: 0.572 - ETA: 0s - loss: 0.572 - ETA: 0s - loss: 0.573 - ETA: 0s - loss: 0.574 - 1s 484us/step - loss: 0.5731 - val_loss: 0.5733\n",
      "Epoch 50/50\n",
      "1280/1280 [==============================] - ETA: 0s - loss: 0.590 - ETA: 0s - loss: 0.581 - ETA: 0s - loss: 0.575 - ETA: 0s - loss: 0.575 - ETA: 0s - loss: 0.574 - ETA: 0s - loss: 0.575 - ETA: 0s - loss: 0.573 - ETA: 0s - loss: 0.574 - ETA: 0s - loss: 0.574 - ETA: 0s - loss: 0.573 - 1s 458us/step - loss: 0.5741 - val_loss: 0.5726\n"
     ]
    },
    {
     "data": {
      "text/plain": [
       "<keras.callbacks.History at 0x16c45b934a8>"
      ]
     },
     "execution_count": 99,
     "metadata": {},
     "output_type": "execute_result"
    }
   ],
   "source": [
    "\n",
    "model.compile(optimizer='adadelta', loss='binary_crossentropy')\n",
    "\n",
    "model.fit(train_X, train_X\n",
    "    , epochs=50\n",
    "    , validation_data=(valid_X, valid_X)\n",
    ")"
   ]
  },
  {
   "cell_type": "code",
   "execution_count": 101,
   "metadata": {},
   "outputs": [],
   "source": [
    "restored_imgs = model.predict(valid_X)"
   ]
  },
  {
   "cell_type": "code",
   "execution_count": 102,
   "metadata": {},
   "outputs": [
    {
     "name": "stdout",
     "output_type": "stream",
     "text": [
      "0 .  (?, 64, 64, 16)\n",
      "1 .  (?, 64, 64, 16)\n",
      "2 .  (?, 32, 32, 16)\n",
      "3 .  (?, 32, 32, 2)\n",
      "4 .  (?, 32, 32, 2)\n",
      "5 .  (?, 16, 16, 2)\n",
      "6 .  (?, 16, 16, 2)\n",
      "7 .  (?, 16, 16, 2)\n",
      "8 .  (?, 32, 32, 2)\n",
      "9 .  (?, 32, 32, 16)\n",
      "10 .  (?, 32, 32, 16)\n",
      "11 .  (?, 64, 64, 16)\n",
      "12 .  (?, 64, 64, 1)\n",
      "13 .  (?, 64, 64, 1)\n"
     ]
    }
   ],
   "source": [
    "layers = len(model.layers)\n",
    "\n",
    "for i in range(layers):\n",
    "    print(i, \". \", model.layers[i].output.get_shape())"
   ]
  },
  {
   "cell_type": "code",
   "execution_count": 103,
   "metadata": {},
   "outputs": [],
   "source": [
    "#layer[7] is activation_3 (Activation), it is compressed representation\n",
    "get_3rd_layer_output = K.function([model.layers[0].input], [model.layers[7].output])\n",
    "compressed = get_3rd_layer_output([valid_X])[0]"
   ]
  },
  {
   "cell_type": "code",
   "execution_count": 106,
   "metadata": {},
   "outputs": [],
   "source": [
    "\n",
    "#layer[7] is size of (None, 16, 16, 2). this means 2 different 7x7 sized matrixes. We will flatten these matrixes.\n",
    "compressed = compressed.reshape(320,16*16*2)"
   ]
  },
  {
   "cell_type": "code",
   "execution_count": 108,
   "metadata": {},
   "outputs": [
    {
     "name": "stdout",
     "output_type": "stream",
     "text": [
      "INFO:tensorflow:Using default config.\n",
      "WARNING:tensorflow:Using temporary folder as model directory: C:\\Users\\DIVYOJ~1\\AppData\\Local\\Temp\\tmp6l24yayy\n",
      "INFO:tensorflow:Using config: {'_task_type': None, '_task_id': 0, '_cluster_spec': <tensorflow.python.training.server_lib.ClusterSpec object at 0x0000016C46517B38>, '_master': '', '_num_ps_replicas': 0, '_num_worker_replicas': 0, '_environment': 'local', '_is_chief': True, '_evaluation_master': '', '_train_distribute': None, '_eval_distribute': None, '_device_fn': None, '_tf_config': gpu_options {\n",
      "  per_process_gpu_memory_fraction: 1.0\n",
      "}\n",
      ", '_tf_random_seed': None, '_save_summary_steps': 100, '_save_checkpoints_secs': 600, '_log_step_count_steps': 100, '_protocol': None, '_session_config': None, '_save_checkpoints_steps': None, '_keep_checkpoint_max': 5, '_keep_checkpoint_every_n_hours': 10000, '_model_dir': 'C:\\\\Users\\\\DIVYOJ~1\\\\AppData\\\\Local\\\\Temp\\\\tmp6l24yayy'}\n"
     ]
    }
   ],
   "source": [
    "unsupervised_model = tf.contrib.learn.KMeansClustering(\n",
    "    2 #num of clusters\n",
    "    , distance_metric = clustering_ops.COSINE_DISTANCE\n",
    "    , initial_clusters=tf.contrib.learn.KMeansClustering.RANDOM_INIT\n",
    ")"
   ]
  },
  {
   "cell_type": "code",
   "execution_count": 109,
   "metadata": {},
   "outputs": [],
   "source": [
    "def train_input_fn():\n",
    "    data = tf.constant(compressed, tf.float32)\n",
    "    return (data, None)"
   ]
  },
  {
   "cell_type": "code",
   "execution_count": 110,
   "metadata": {},
   "outputs": [
    {
     "name": "stdout",
     "output_type": "stream",
     "text": [
      "INFO:tensorflow:Create CheckpointSaverHook.\n",
      "INFO:tensorflow:Graph was finalized.\n",
      "INFO:tensorflow:Running local_init_op.\n",
      "INFO:tensorflow:Done running local_init_op.\n",
      "INFO:tensorflow:Saving checkpoints for 0 into C:\\Users\\DIVYOJ~1\\AppData\\Local\\Temp\\tmp6l24yayy\\model.ckpt.\n",
      "INFO:tensorflow:loss = 90.86919, step = 1\n",
      "INFO:tensorflow:global_step/sec: 426.471\n",
      "INFO:tensorflow:loss = 53.918396, step = 101 (0.234 sec)\n",
      "INFO:tensorflow:global_step/sec: 731.885\n",
      "INFO:tensorflow:loss = 53.74006, step = 201 (0.137 sec)\n",
      "INFO:tensorflow:global_step/sec: 765.402\n",
      "INFO:tensorflow:loss = 53.685707, step = 301 (0.131 sec)\n",
      "INFO:tensorflow:global_step/sec: 706.106\n",
      "INFO:tensorflow:loss = 53.661842, step = 401 (0.142 sec)\n",
      "INFO:tensorflow:global_step/sec: 711.118\n",
      "INFO:tensorflow:loss = 53.648743, step = 501 (0.141 sec)\n",
      "INFO:tensorflow:global_step/sec: 795.771\n",
      "INFO:tensorflow:loss = 53.641083, step = 601 (0.126 sec)\n",
      "INFO:tensorflow:global_step/sec: 765.397\n",
      "INFO:tensorflow:loss = 53.634193, step = 701 (0.131 sec)\n",
      "INFO:tensorflow:global_step/sec: 716.2\n",
      "INFO:tensorflow:loss = 53.629723, step = 801 (0.140 sec)\n",
      "INFO:tensorflow:global_step/sec: 759.6\n",
      "INFO:tensorflow:loss = 53.626656, step = 901 (0.133 sec)\n",
      "INFO:tensorflow:Saving checkpoints for 1000 into C:\\Users\\DIVYOJ~1\\AppData\\Local\\Temp\\tmp6l24yayy\\model.ckpt.\n",
      "INFO:tensorflow:Loss for final step: 53.62437.\n"
     ]
    },
    {
     "data": {
      "text/plain": [
       "KMeansClustering(params={'num_clusters': 2, 'training_initial_clusters': 'random', 'distance_metric': 'cosine', 'random_seed': 0, 'use_mini_batch': True, 'mini_batch_steps_per_iteration': 1, 'kmeans_plus_plus_num_retries': 2, 'relative_tolerance': None})"
      ]
     },
     "execution_count": 110,
     "metadata": {},
     "output_type": "execute_result"
    }
   ],
   "source": [
    "unsupervised_model.fit(input_fn=train_input_fn, steps=1000)"
   ]
  },
  {
   "cell_type": "code",
   "execution_count": 111,
   "metadata": {},
   "outputs": [
    {
     "name": "stdout",
     "output_type": "stream",
     "text": [
      "INFO:tensorflow:Graph was finalized.\n",
      "INFO:tensorflow:Restoring parameters from C:\\Users\\DIVYOJ~1\\AppData\\Local\\Temp\\tmp6l24yayy\\model.ckpt-1000\n",
      "INFO:tensorflow:Running local_init_op.\n",
      "INFO:tensorflow:Done running local_init_op.\n"
     ]
    }
   ],
   "source": [
    "clusters = unsupervised_model.predict(input_fn=train_input_fn)\n"
   ]
  },
  {
   "cell_type": "code",
   "execution_count": 112,
   "metadata": {},
   "outputs": [],
   "source": [
    "index = 0\n",
    "c_0_count = 0\n",
    "c_1_count = 0\n",
    "\n",
    "mis_classified = 0\n",
    "corr_classified = 0\n",
    "\n",
    "\n",
    "for i in clusters:\n",
    "    \n",
    "    current_cluster = i['cluster_idx']\n",
    "    features = test_data[index]\n",
    "    \n",
    "    \n",
    "    if current_cluster == 0:\n",
    "            if test_labels[index] == current_cluster:\n",
    "                corr_classified += 1\n",
    "            else:\n",
    "                mis_classified += 1\n",
    "            c_0_count += 1\n",
    "            \n",
    "    if current_cluster == 1:\n",
    "            if test_labels[index] == current_cluster:\n",
    "                corr_classified += 1\n",
    "            else:\n",
    "                mis_classified += 1\n",
    "            c_1_count += 1\n",
    "            \n",
    "            \n",
    "\n",
    "            \n",
    "    index = index + 1"
   ]
  },
  {
   "cell_type": "code",
   "execution_count": 113,
   "metadata": {},
   "outputs": [
    {
     "data": {
      "text/plain": [
       "0.546875"
      ]
     },
     "execution_count": 113,
     "metadata": {},
     "output_type": "execute_result"
    }
   ],
   "source": [
    "accuracy = corr_classified/len(valid_ground)\n",
    "accuracy"
   ]
  },
  {
   "cell_type": "code",
   "execution_count": null,
   "metadata": {},
   "outputs": [],
   "source": []
  },
  {
   "cell_type": "code",
   "execution_count": null,
   "metadata": {},
   "outputs": [],
   "source": []
  },
  {
   "cell_type": "code",
   "execution_count": null,
   "metadata": {},
   "outputs": [],
   "source": []
  },
  {
   "cell_type": "markdown",
   "metadata": {},
   "source": [
    "## Try 3"
   ]
  },
  {
   "cell_type": "code",
   "execution_count": 95,
   "metadata": {},
   "outputs": [],
   "source": [
    "import keras\n",
    "from keras.datasets import mnist\n",
    "from keras.models import Sequential\n",
    "from keras.layers import Dense, Activation, Flatten\n",
    "from keras.layers import Conv2D, MaxPooling2D, UpSampling2D\n",
    "import matplotlib.pyplot as plt\n",
    "from keras import backend as K\n",
    "import numpy as np"
   ]
  },
  {
   "cell_type": "code",
   "execution_count": 118,
   "metadata": {},
   "outputs": [],
   "source": [
    "def encoder(input_img):\n",
    "    #encoder\n",
    "    #input = 28 x 28 x 1 (wide and thin)\n",
    "    #input = 64 x 64 x 1 (wide and thin)\n",
    "    conv1 = Conv2D(32, (3, 3), activation='relu', padding='same')(input_img) #64 x 64 x 32\n",
    "    conv1 = BatchNormalization()(conv1)\n",
    "    conv1 = Conv2D(32, (3, 3), activation='relu', padding='same')(conv1)\n",
    "    conv1 = BatchNormalization()(conv1)\n",
    "    pool1 = MaxPooling2D(pool_size=(2, 2))(conv1) #32 x 32 x 32\n",
    "    conv2 = Conv2D(64, (3, 3), activation='relu', padding='same')(pool1) #32 x 32 x 64\n",
    "    conv2 = BatchNormalization()(conv2)\n",
    "    conv2 = Conv2D(64, (3, 3), activation='relu', padding='same')(conv2)\n",
    "    conv2 = BatchNormalization()(conv2)\n",
    "    pool2 = MaxPooling2D(pool_size=(2, 2))(conv2) #16 x 16 x 64\n",
    "    conv3 = Conv2D(128, (3, 3), activation='relu', padding='same')(pool2) #16 x 16 x 128 (small and thick)\n",
    "    conv3 = BatchNormalization()(conv3)\n",
    "    conv3 = Conv2D(128, (3, 3), activation='relu', padding='same')(conv3)\n",
    "    conv3 = BatchNormalization()(conv3)\n",
    "    pool3 = MaxPooling2D(pool_size=(2, 2))(conv3) #8 x 8 x 128\n",
    "    conv4 = Conv2D(256, (3, 3), activation='relu', padding='same')(pool3) #8 x 8 x 256 (small and thick)\n",
    "    conv4 = BatchNormalization()(conv4)\n",
    "    conv4 = Conv2D(256, (3, 3), activation='relu', padding='same')(conv4)\n",
    "    conv4 = BatchNormalization()(conv4)\n",
    "    return conv4\n",
    "\n",
    "\n",
    "\n",
    "def decoder(conv4):    \n",
    "    #decoder\n",
    "    conv5 = Conv2D(128, (3, 3), activation='relu', padding='same')(conv4) #8 x 8 x 128\n",
    "    conv5 = BatchNormalization()(conv5)\n",
    "    conv5 = Conv2D(128, (3, 3), activation='relu', padding='same')(conv5)\n",
    "    conv5 = BatchNormalization()(conv5)\n",
    "    up1 = UpSampling2D((2,2))(conv5) #16 x 16 x 128\n",
    "    conv6 = Conv2D(64, (3, 3), activation='relu', padding='same')(up1) #16 x 16 x 64\n",
    "    conv6 = BatchNormalization()(conv6)\n",
    "    conv6 = Conv2D(64, (3, 3), activation='relu', padding='same')(conv6)\n",
    "    conv6 = BatchNormalization()(conv6)\n",
    "    up2 = UpSampling2D((2,2))(conv6) #32 x 32 x 64\n",
    "    conv7 = Conv2D(32, (3, 3), activation='relu', padding='same')(up2) # 32 x 32 x 32\n",
    "    conv7 = BatchNormalization()(conv7)\n",
    "    conv7 = Conv2D(32, (3, 3), activation='relu', padding='same')(conv7)\n",
    "    conv7 = BatchNormalization()(conv7)\n",
    "    up2 = UpSampling2D((2,2))(conv7) # 64 x 64 x 32\n",
    "    decoded = Conv2D(1, (3, 3), activation='sigmoid', padding='same')(up2) # 64 x 64 x 1\n",
    "    return decoded"
   ]
  },
  {
   "cell_type": "code",
   "execution_count": 119,
   "metadata": {},
   "outputs": [],
   "source": [
    "autoencoder = Model(input_img, decoder(encoder(input_img)))\n",
    "autoencoder.compile(loss='mean_squared_error', optimizer = RMSprop())"
   ]
  },
  {
   "cell_type": "code",
   "execution_count": 120,
   "metadata": {
    "scrolled": true
   },
   "outputs": [
    {
     "name": "stdout",
     "output_type": "stream",
     "text": [
      "_________________________________________________________________\n",
      "Layer (type)                 Output Shape              Param #   \n",
      "=================================================================\n",
      "input_4 (InputLayer)         (None, 64, 64, 1)         0         \n",
      "_________________________________________________________________\n",
      "conv2d_96 (Conv2D)           (None, 64, 64, 32)        320       \n",
      "_________________________________________________________________\n",
      "batch_normalization_73 (Batc (None, 64, 64, 32)        128       \n",
      "_________________________________________________________________\n",
      "conv2d_97 (Conv2D)           (None, 64, 64, 32)        9248      \n",
      "_________________________________________________________________\n",
      "batch_normalization_74 (Batc (None, 64, 64, 32)        128       \n",
      "_________________________________________________________________\n",
      "max_pooling2d_19 (MaxPooling (None, 32, 32, 32)        0         \n",
      "_________________________________________________________________\n",
      "conv2d_98 (Conv2D)           (None, 32, 32, 64)        18496     \n",
      "_________________________________________________________________\n",
      "batch_normalization_75 (Batc (None, 32, 32, 64)        256       \n",
      "_________________________________________________________________\n",
      "conv2d_99 (Conv2D)           (None, 32, 32, 64)        36928     \n",
      "_________________________________________________________________\n",
      "batch_normalization_76 (Batc (None, 32, 32, 64)        256       \n",
      "_________________________________________________________________\n",
      "max_pooling2d_20 (MaxPooling (None, 16, 16, 64)        0         \n",
      "_________________________________________________________________\n",
      "conv2d_100 (Conv2D)          (None, 16, 16, 128)       73856     \n",
      "_________________________________________________________________\n",
      "batch_normalization_77 (Batc (None, 16, 16, 128)       512       \n",
      "_________________________________________________________________\n",
      "conv2d_101 (Conv2D)          (None, 16, 16, 128)       147584    \n",
      "_________________________________________________________________\n",
      "batch_normalization_78 (Batc (None, 16, 16, 128)       512       \n",
      "_________________________________________________________________\n",
      "max_pooling2d_21 (MaxPooling (None, 8, 8, 128)         0         \n",
      "_________________________________________________________________\n",
      "conv2d_102 (Conv2D)          (None, 8, 8, 256)         295168    \n",
      "_________________________________________________________________\n",
      "batch_normalization_79 (Batc (None, 8, 8, 256)         1024      \n",
      "_________________________________________________________________\n",
      "conv2d_103 (Conv2D)          (None, 8, 8, 256)         590080    \n",
      "_________________________________________________________________\n",
      "batch_normalization_80 (Batc (None, 8, 8, 256)         1024      \n",
      "_________________________________________________________________\n",
      "conv2d_104 (Conv2D)          (None, 8, 8, 128)         295040    \n",
      "_________________________________________________________________\n",
      "batch_normalization_81 (Batc (None, 8, 8, 128)         512       \n",
      "_________________________________________________________________\n",
      "conv2d_105 (Conv2D)          (None, 8, 8, 128)         147584    \n",
      "_________________________________________________________________\n",
      "batch_normalization_82 (Batc (None, 8, 8, 128)         512       \n",
      "_________________________________________________________________\n",
      "up_sampling2d_19 (UpSampling (None, 16, 16, 128)       0         \n",
      "_________________________________________________________________\n",
      "conv2d_106 (Conv2D)          (None, 16, 16, 64)        73792     \n",
      "_________________________________________________________________\n",
      "batch_normalization_83 (Batc (None, 16, 16, 64)        256       \n",
      "_________________________________________________________________\n",
      "conv2d_107 (Conv2D)          (None, 16, 16, 64)        36928     \n",
      "_________________________________________________________________\n",
      "batch_normalization_84 (Batc (None, 16, 16, 64)        256       \n",
      "_________________________________________________________________\n",
      "up_sampling2d_20 (UpSampling (None, 32, 32, 64)        0         \n",
      "_________________________________________________________________\n",
      "conv2d_108 (Conv2D)          (None, 32, 32, 32)        18464     \n",
      "_________________________________________________________________\n",
      "batch_normalization_85 (Batc (None, 32, 32, 32)        128       \n",
      "_________________________________________________________________\n",
      "conv2d_109 (Conv2D)          (None, 32, 32, 32)        9248      \n",
      "_________________________________________________________________\n",
      "batch_normalization_86 (Batc (None, 32, 32, 32)        128       \n",
      "_________________________________________________________________\n",
      "up_sampling2d_21 (UpSampling (None, 64, 64, 32)        0         \n",
      "_________________________________________________________________\n",
      "conv2d_110 (Conv2D)          (None, 64, 64, 1)         289       \n",
      "=================================================================\n",
      "Total params: 1,758,657\n",
      "Trainable params: 1,755,841\n",
      "Non-trainable params: 2,816\n",
      "_________________________________________________________________\n"
     ]
    }
   ],
   "source": [
    "autoencoder.summary()"
   ]
  },
  {
   "cell_type": "code",
   "execution_count": 121,
   "metadata": {
    "scrolled": true
   },
   "outputs": [
    {
     "name": "stdout",
     "output_type": "stream",
     "text": [
      "Train on 1280 samples, validate on 320 samples\n",
      "Epoch 1/200\n",
      "1280/1280 [==============================] - ETA: 27s - loss: 0.12 - ETA: 13s - loss: 0.12 - ETA: 8s - loss: 0.1084 - ETA: 5s - loss: 0.104 - ETA: 3s - loss: 0.101 - ETA: 2s - loss: 0.097 - ETA: 1s - loss: 0.089 - ETA: 1s - loss: 0.084 - ETA: 0s - loss: 0.078 - 6s 4ms/step - loss: 0.0742 - val_loss: 0.0751\n",
      "Epoch 2/200\n",
      "1280/1280 [==============================] - ETA: 2s - loss: 0.033 - ETA: 1s - loss: 0.031 - ETA: 1s - loss: 0.031 - ETA: 1s - loss: 0.031 - ETA: 1s - loss: 0.031 - ETA: 0s - loss: 0.031 - ETA: 0s - loss: 0.031 - ETA: 0s - loss: 0.031 - ETA: 0s - loss: 0.031 - 3s 2ms/step - loss: 0.0311 - val_loss: 0.0401\n",
      "Epoch 3/200\n",
      "1280/1280 [==============================] - ETA: 2s - loss: 0.028 - ETA: 1s - loss: 0.029 - ETA: 1s - loss: 0.031 - ETA: 1s - loss: 0.033 - ETA: 1s - loss: 0.033 - ETA: 0s - loss: 0.033 - ETA: 0s - loss: 0.031 - ETA: 0s - loss: 0.031 - ETA: 0s - loss: 0.030 - 3s 2ms/step - loss: 0.0303 - val_loss: 0.0285\n",
      "Epoch 4/200\n",
      "1280/1280 [==============================] - ETA: 2s - loss: 0.023 - ETA: 1s - loss: 0.023 - ETA: 1s - loss: 0.023 - ETA: 1s - loss: 0.023 - ETA: 1s - loss: 0.025 - ETA: 0s - loss: 0.025 - ETA: 0s - loss: 0.026 - ETA: 0s - loss: 0.026 - ETA: 0s - loss: 0.026 - 3s 2ms/step - loss: 0.0260 - val_loss: 0.0369\n",
      "Epoch 5/200\n",
      "1280/1280 [==============================] - ETA: 2s - loss: 0.028 - ETA: 1s - loss: 0.028 - ETA: 1s - loss: 0.026 - ETA: 1s - loss: 0.024 - ETA: 1s - loss: 0.024 - ETA: 0s - loss: 0.023 - ETA: 0s - loss: 0.023 - ETA: 0s - loss: 0.024 - ETA: 0s - loss: 0.025 - 3s 2ms/step - loss: 0.0260 - val_loss: 0.1305\n",
      "Epoch 6/200\n",
      "1280/1280 [==============================] - ETA: 2s - loss: 0.029 - ETA: 1s - loss: 0.027 - ETA: 1s - loss: 0.026 - ETA: 1s - loss: 0.026 - ETA: 1s - loss: 0.027 - ETA: 0s - loss: 0.026 - ETA: 0s - loss: 0.025 - ETA: 0s - loss: 0.024 - ETA: 0s - loss: 0.024 - 3s 2ms/step - loss: 0.0238 - val_loss: 0.0369\n",
      "Epoch 7/200\n",
      "1280/1280 [==============================] - ETA: 2s - loss: 0.018 - ETA: 1s - loss: 0.019 - ETA: 1s - loss: 0.018 - ETA: 1s - loss: 0.019 - ETA: 1s - loss: 0.019 - ETA: 0s - loss: 0.020 - ETA: 0s - loss: 0.021 - ETA: 0s - loss: 0.022 - ETA: 0s - loss: 0.022 - 3s 2ms/step - loss: 0.0226 - val_loss: 0.0669\n",
      "Epoch 8/200\n",
      "1280/1280 [==============================] - ETA: 2s - loss: 0.024 - ETA: 1s - loss: 0.023 - ETA: 1s - loss: 0.022 - ETA: 1s - loss: 0.022 - ETA: 1s - loss: 0.021 - ETA: 0s - loss: 0.020 - ETA: 0s - loss: 0.020 - ETA: 0s - loss: 0.020 - ETA: 0s - loss: 0.020 - 3s 2ms/step - loss: 0.0199 - val_loss: 0.0348\n",
      "Epoch 9/200\n",
      "1280/1280 [==============================] - ETA: 2s - loss: 0.021 - ETA: 1s - loss: 0.021 - ETA: 1s - loss: 0.020 - ETA: 1s - loss: 0.019 - ETA: 1s - loss: 0.020 - ETA: 0s - loss: 0.020 - ETA: 0s - loss: 0.020 - ETA: 0s - loss: 0.021 - ETA: 0s - loss: 0.021 - 3s 2ms/step - loss: 0.0207 - val_loss: 0.0452\n",
      "Epoch 10/200\n",
      "1280/1280 [==============================] - ETA: 2s - loss: 0.018 - ETA: 1s - loss: 0.018 - ETA: 1s - loss: 0.018 - ETA: 1s - loss: 0.018 - ETA: 1s - loss: 0.019 - ETA: 0s - loss: 0.019 - ETA: 0s - loss: 0.019 - ETA: 0s - loss: 0.019 - ETA: 0s - loss: 0.019 - 3s 2ms/step - loss: 0.0192 - val_loss: 0.0471\n",
      "Epoch 11/200\n",
      "1280/1280 [==============================] - ETA: 2s - loss: 0.017 - ETA: 1s - loss: 0.017 - ETA: 1s - loss: 0.017 - ETA: 1s - loss: 0.017 - ETA: 1s - loss: 0.017 - ETA: 0s - loss: 0.017 - ETA: 0s - loss: 0.017 - ETA: 0s - loss: 0.017 - ETA: 0s - loss: 0.017 - 3s 2ms/step - loss: 0.0180 - val_loss: 0.0529\n",
      "Epoch 12/200\n",
      "1280/1280 [==============================] - ETA: 2s - loss: 0.017 - ETA: 1s - loss: 0.017 - ETA: 1s - loss: 0.017 - ETA: 1s - loss: 0.017 - ETA: 1s - loss: 0.017 - ETA: 0s - loss: 0.017 - ETA: 0s - loss: 0.018 - ETA: 0s - loss: 0.018 - ETA: 0s - loss: 0.018 - 3s 2ms/step - loss: 0.0183 - val_loss: 0.0465\n",
      "Epoch 13/200\n",
      "1280/1280 [==============================] - ETA: 2s - loss: 0.015 - ETA: 1s - loss: 0.016 - ETA: 1s - loss: 0.016 - ETA: 1s - loss: 0.015 - ETA: 1s - loss: 0.015 - ETA: 0s - loss: 0.015 - ETA: 0s - loss: 0.015 - ETA: 0s - loss: 0.016 - ETA: 0s - loss: 0.016 - 3s 2ms/step - loss: 0.0166 - val_loss: 0.0428\n",
      "Epoch 14/200\n",
      "1280/1280 [==============================] - ETA: 2s - loss: 0.017 - ETA: 1s - loss: 0.017 - ETA: 1s - loss: 0.017 - ETA: 1s - loss: 0.017 - ETA: 1s - loss: 0.027 - ETA: 0s - loss: 0.030 - ETA: 0s - loss: 0.029 - ETA: 0s - loss: 0.027 - ETA: 0s - loss: 0.026 - 3s 2ms/step - loss: 0.0254 - val_loss: 0.0560\n",
      "Epoch 15/200\n",
      "1280/1280 [==============================] - ETA: 2s - loss: 0.014 - ETA: 1s - loss: 0.014 - ETA: 1s - loss: 0.014 - ETA: 1s - loss: 0.014 - ETA: 1s - loss: 0.014 - ETA: 0s - loss: 0.014 - ETA: 0s - loss: 0.014 - ETA: 0s - loss: 0.014 - ETA: 0s - loss: 0.014 - 3s 2ms/step - loss: 0.0147 - val_loss: 0.0493\n",
      "Epoch 16/200\n",
      "1280/1280 [==============================] - ETA: 2s - loss: 0.014 - ETA: 1s - loss: 0.014 - ETA: 1s - loss: 0.014 - ETA: 1s - loss: 0.014 - ETA: 1s - loss: 0.015 - ETA: 0s - loss: 0.015 - ETA: 0s - loss: 0.015 - ETA: 0s - loss: 0.015 - ETA: 0s - loss: 0.015 - 3s 2ms/step - loss: 0.0151 - val_loss: 0.0466\n",
      "Epoch 17/200\n",
      "1280/1280 [==============================] - ETA: 2s - loss: 0.014 - ETA: 1s - loss: 0.014 - ETA: 1s - loss: 0.014 - ETA: 1s - loss: 0.014 - ETA: 1s - loss: 0.014 - ETA: 0s - loss: 0.014 - ETA: 0s - loss: 0.014 - ETA: 0s - loss: 0.014 - ETA: 0s - loss: 0.014 - 3s 2ms/step - loss: 0.0147 - val_loss: 0.0562\n",
      "Epoch 18/200\n",
      "1280/1280 [==============================] - ETA: 2s - loss: 0.015 - ETA: 1s - loss: 0.015 - ETA: 1s - loss: 0.015 - ETA: 1s - loss: 0.015 - ETA: 1s - loss: 0.015 - ETA: 0s - loss: 0.015 - ETA: 0s - loss: 0.015 - ETA: 0s - loss: 0.014 - ETA: 0s - loss: 0.014 - 3s 2ms/step - loss: 0.0150 - val_loss: 0.0482\n",
      "Epoch 19/200\n",
      "1280/1280 [==============================] - ETA: 2s - loss: 0.017 - ETA: 1s - loss: 0.017 - ETA: 1s - loss: 0.016 - ETA: 1s - loss: 0.015 - ETA: 1s - loss: 0.015 - ETA: 0s - loss: 0.014 - ETA: 0s - loss: 0.014 - ETA: 0s - loss: 0.014 - ETA: 0s - loss: 0.015 - 3s 2ms/step - loss: 0.0151 - val_loss: 0.0681\n",
      "Epoch 20/200\n",
      "1280/1280 [==============================] - ETA: 2s - loss: 0.015 - ETA: 1s - loss: 0.014 - ETA: 1s - loss: 0.014 - ETA: 1s - loss: 0.014 - ETA: 1s - loss: 0.014 - ETA: 0s - loss: 0.015 - ETA: 0s - loss: 0.014 - ETA: 0s - loss: 0.014 - ETA: 0s - loss: 0.014 - 3s 2ms/step - loss: 0.0144 - val_loss: 0.0447\n",
      "Epoch 21/200\n",
      "1280/1280 [==============================] - ETA: 2s - loss: 0.015 - ETA: 1s - loss: 0.015 - ETA: 1s - loss: 0.014 - ETA: 1s - loss: 0.014 - ETA: 1s - loss: 0.014 - ETA: 0s - loss: 0.014 - ETA: 0s - loss: 0.014 - ETA: 0s - loss: 0.014 - ETA: 0s - loss: 0.014 - 3s 2ms/step - loss: 0.0143 - val_loss: 0.0419\n",
      "Epoch 22/200\n",
      "1280/1280 [==============================] - ETA: 2s - loss: 0.014 - ETA: 1s - loss: 0.014 - ETA: 1s - loss: 0.014 - ETA: 1s - loss: 0.014 - ETA: 1s - loss: 0.014 - ETA: 0s - loss: 0.014 - ETA: 0s - loss: 0.014 - ETA: 0s - loss: 0.014 - ETA: 0s - loss: 0.013 - 3s 2ms/step - loss: 0.0139 - val_loss: 0.0353\n",
      "Epoch 23/200\n",
      "1280/1280 [==============================] - ETA: 2s - loss: 0.013 - ETA: 1s - loss: 0.014 - ETA: 1s - loss: 0.014 - ETA: 1s - loss: 0.014 - ETA: 1s - loss: 0.014 - ETA: 0s - loss: 0.013 - ETA: 0s - loss: 0.013 - ETA: 0s - loss: 0.013 - ETA: 0s - loss: 0.013 - 3s 2ms/step - loss: 0.0138 - val_loss: 0.0379\n",
      "Epoch 24/200\n",
      "1280/1280 [==============================] - ETA: 2s - loss: 0.014 - ETA: 1s - loss: 0.014 - ETA: 1s - loss: 0.014 - ETA: 1s - loss: 0.014 - ETA: 1s - loss: 0.013 - ETA: 0s - loss: 0.013 - ETA: 0s - loss: 0.013 - ETA: 0s - loss: 0.013 - ETA: 0s - loss: 0.013 - 3s 2ms/step - loss: 0.0133 - val_loss: 0.0361\n",
      "Epoch 25/200\n",
      "1280/1280 [==============================] - ETA: 2s - loss: 0.013 - ETA: 1s - loss: 0.013 - ETA: 1s - loss: 0.013 - ETA: 1s - loss: 0.013 - ETA: 1s - loss: 0.013 - ETA: 0s - loss: 0.013 - ETA: 0s - loss: 0.013 - ETA: 0s - loss: 0.013 - ETA: 0s - loss: 0.013 - 3s 2ms/step - loss: 0.0134 - val_loss: 0.0341\n",
      "Epoch 26/200\n"
     ]
    },
    {
     "name": "stdout",
     "output_type": "stream",
     "text": [
      "1280/1280 [==============================] - ETA: 2s - loss: 0.013 - ETA: 1s - loss: 0.013 - ETA: 1s - loss: 0.014 - ETA: 1s - loss: 0.013 - ETA: 1s - loss: 0.013 - ETA: 0s - loss: 0.013 - ETA: 0s - loss: 0.013 - ETA: 0s - loss: 0.013 - ETA: 0s - loss: 0.012 - 3s 2ms/step - loss: 0.0129 - val_loss: 0.0344\n",
      "Epoch 27/200\n",
      "1280/1280 [==============================] - ETA: 2s - loss: 0.011 - ETA: 1s - loss: 0.012 - ETA: 1s - loss: 0.012 - ETA: 1s - loss: 0.013 - ETA: 1s - loss: 0.013 - ETA: 0s - loss: 0.013 - ETA: 0s - loss: 0.013 - ETA: 0s - loss: 0.013 - ETA: 0s - loss: 0.013 - 3s 2ms/step - loss: 0.0130 - val_loss: 0.0396\n",
      "Epoch 28/200\n",
      "1280/1280 [==============================] - ETA: 2s - loss: 0.012 - ETA: 1s - loss: 0.012 - ETA: 1s - loss: 0.012 - ETA: 1s - loss: 0.012 - ETA: 1s - loss: 0.012 - ETA: 0s - loss: 0.012 - ETA: 0s - loss: 0.012 - ETA: 0s - loss: 0.012 - ETA: 0s - loss: 0.012 - 3s 2ms/step - loss: 0.0128 - val_loss: 0.0299\n",
      "Epoch 29/200\n",
      "1280/1280 [==============================] - ETA: 2s - loss: 0.012 - ETA: 1s - loss: 0.012 - ETA: 1s - loss: 0.012 - ETA: 1s - loss: 0.012 - ETA: 1s - loss: 0.012 - ETA: 0s - loss: 0.012 - ETA: 0s - loss: 0.012 - ETA: 0s - loss: 0.012 - ETA: 0s - loss: 0.012 - 3s 2ms/step - loss: 0.0123 - val_loss: 0.0281\n",
      "Epoch 30/200\n",
      "1280/1280 [==============================] - ETA: 2s - loss: 0.011 - ETA: 1s - loss: 0.011 - ETA: 1s - loss: 0.011 - ETA: 1s - loss: 0.011 - ETA: 1s - loss: 0.011 - ETA: 0s - loss: 0.011 - ETA: 0s - loss: 0.012 - ETA: 0s - loss: 0.012 - ETA: 0s - loss: 0.012 - 3s 2ms/step - loss: 0.0122 - val_loss: 0.0300\n",
      "Epoch 31/200\n",
      "1280/1280 [==============================] - ETA: 2s - loss: 0.011 - ETA: 1s - loss: 0.011 - ETA: 1s - loss: 0.011 - ETA: 1s - loss: 0.011 - ETA: 1s - loss: 0.011 - ETA: 0s - loss: 0.012 - ETA: 0s - loss: 0.012 - ETA: 0s - loss: 0.012 - ETA: 0s - loss: 0.012 - 3s 2ms/step - loss: 0.0120 - val_loss: 0.0256\n",
      "Epoch 32/200\n",
      "1280/1280 [==============================] - ETA: 2s - loss: 0.012 - ETA: 1s - loss: 0.012 - ETA: 1s - loss: 0.012 - ETA: 1s - loss: 0.012 - ETA: 1s - loss: 0.012 - ETA: 0s - loss: 0.012 - ETA: 0s - loss: 0.012 - ETA: 0s - loss: 0.012 - ETA: 0s - loss: 0.012 - 3s 2ms/step - loss: 0.0122 - val_loss: 0.0269\n",
      "Epoch 33/200\n",
      "1280/1280 [==============================] - ETA: 2s - loss: 0.010 - ETA: 1s - loss: 0.010 - ETA: 1s - loss: 0.010 - ETA: 1s - loss: 0.011 - ETA: 1s - loss: 0.011 - ETA: 0s - loss: 0.011 - ETA: 0s - loss: 0.011 - ETA: 0s - loss: 0.011 - ETA: 0s - loss: 0.011 - 3s 2ms/step - loss: 0.0117 - val_loss: 0.0241\n",
      "Epoch 34/200\n",
      "1280/1280 [==============================] - ETA: 2s - loss: 0.011 - ETA: 1s - loss: 0.011 - ETA: 1s - loss: 0.011 - ETA: 1s - loss: 0.011 - ETA: 1s - loss: 0.011 - ETA: 0s - loss: 0.011 - ETA: 0s - loss: 0.011 - ETA: 0s - loss: 0.011 - ETA: 0s - loss: 0.011 - 3s 2ms/step - loss: 0.0117 - val_loss: 0.0295\n",
      "Epoch 35/200\n",
      "1280/1280 [==============================] - ETA: 2s - loss: 0.011 - ETA: 1s - loss: 0.011 - ETA: 1s - loss: 0.010 - ETA: 1s - loss: 0.010 - ETA: 1s - loss: 0.010 - ETA: 0s - loss: 0.011 - ETA: 0s - loss: 0.011 - ETA: 0s - loss: 0.011 - ETA: 0s - loss: 0.011 - 3s 2ms/step - loss: 0.0115 - val_loss: 0.0323\n",
      "Epoch 36/200\n",
      "1280/1280 [==============================] - ETA: 2s - loss: 0.012 - ETA: 1s - loss: 0.011 - ETA: 1s - loss: 0.011 - ETA: 1s - loss: 0.011 - ETA: 1s - loss: 0.011 - ETA: 0s - loss: 0.011 - ETA: 0s - loss: 0.011 - ETA: 0s - loss: 0.011 - ETA: 0s - loss: 0.011 - 3s 2ms/step - loss: 0.0116 - val_loss: 0.0251\n",
      "Epoch 37/200\n",
      "1280/1280 [==============================] - ETA: 2s - loss: 0.011 - ETA: 1s - loss: 0.011 - ETA: 1s - loss: 0.010 - ETA: 1s - loss: 0.011 - ETA: 1s - loss: 0.011 - ETA: 0s - loss: 0.011 - ETA: 0s - loss: 0.011 - ETA: 0s - loss: 0.011 - ETA: 0s - loss: 0.011 - 3s 2ms/step - loss: 0.0112 - val_loss: 0.0255\n",
      "Epoch 38/200\n",
      "1280/1280 [==============================] - ETA: 2s - loss: 0.010 - ETA: 1s - loss: 0.011 - ETA: 1s - loss: 0.011 - ETA: 1s - loss: 0.011 - ETA: 1s - loss: 0.011 - ETA: 0s - loss: 0.011 - ETA: 0s - loss: 0.010 - ETA: 0s - loss: 0.010 - ETA: 0s - loss: 0.010 - 3s 2ms/step - loss: 0.0110 - val_loss: 0.0247\n",
      "Epoch 39/200\n",
      "1280/1280 [==============================] - ETA: 2s - loss: 0.011 - ETA: 1s - loss: 0.011 - ETA: 1s - loss: 0.011 - ETA: 1s - loss: 0.011 - ETA: 1s - loss: 0.011 - ETA: 0s - loss: 0.011 - ETA: 0s - loss: 0.011 - ETA: 0s - loss: 0.011 - ETA: 0s - loss: 0.011 - 3s 2ms/step - loss: 0.0114 - val_loss: 0.0214\n",
      "Epoch 40/200\n",
      "1280/1280 [==============================] - ETA: 2s - loss: 0.011 - ETA: 1s - loss: 0.012 - ETA: 1s - loss: 0.011 - ETA: 1s - loss: 0.011 - ETA: 1s - loss: 0.011 - ETA: 0s - loss: 0.011 - ETA: 0s - loss: 0.010 - ETA: 0s - loss: 0.010 - ETA: 0s - loss: 0.010 - 3s 2ms/step - loss: 0.0109 - val_loss: 0.0244\n",
      "Epoch 41/200\n",
      "1280/1280 [==============================] - ETA: 2s - loss: 0.010 - ETA: 1s - loss: 0.011 - ETA: 1s - loss: 0.011 - ETA: 1s - loss: 0.010 - ETA: 1s - loss: 0.011 - ETA: 0s - loss: 0.011 - ETA: 0s - loss: 0.011 - ETA: 0s - loss: 0.011 - ETA: 0s - loss: 0.011 - 3s 2ms/step - loss: 0.0110 - val_loss: 0.0225\n",
      "Epoch 42/200\n",
      "1280/1280 [==============================] - ETA: 2s - loss: 0.011 - ETA: 1s - loss: 0.011 - ETA: 1s - loss: 0.011 - ETA: 1s - loss: 0.011 - ETA: 1s - loss: 0.011 - ETA: 0s - loss: 0.011 - ETA: 0s - loss: 0.011 - ETA: 0s - loss: 0.010 - ETA: 0s - loss: 0.010 - 3s 2ms/step - loss: 0.0107 - val_loss: 0.0211\n",
      "Epoch 43/200\n",
      "1280/1280 [==============================] - ETA: 2s - loss: 0.010 - ETA: 1s - loss: 0.010 - ETA: 1s - loss: 0.010 - ETA: 1s - loss: 0.011 - ETA: 1s - loss: 0.010 - ETA: 0s - loss: 0.010 - ETA: 0s - loss: 0.010 - ETA: 0s - loss: 0.010 - ETA: 0s - loss: 0.010 - 3s 2ms/step - loss: 0.0108 - val_loss: 0.0211\n",
      "Epoch 44/200\n",
      "1280/1280 [==============================] - ETA: 2s - loss: 0.011 - ETA: 1s - loss: 0.010 - ETA: 1s - loss: 0.010 - ETA: 1s - loss: 0.010 - ETA: 1s - loss: 0.010 - ETA: 0s - loss: 0.010 - ETA: 0s - loss: 0.010 - ETA: 0s - loss: 0.010 - ETA: 0s - loss: 0.010 - 3s 2ms/step - loss: 0.0104 - val_loss: 0.0205\n",
      "Epoch 45/200\n",
      "1280/1280 [==============================] - ETA: 2s - loss: 0.009 - ETA: 1s - loss: 0.010 - ETA: 1s - loss: 0.010 - ETA: 1s - loss: 0.010 - ETA: 1s - loss: 0.010 - ETA: 0s - loss: 0.010 - ETA: 0s - loss: 0.010 - ETA: 0s - loss: 0.010 - ETA: 0s - loss: 0.010 - 3s 2ms/step - loss: 0.0107 - val_loss: 0.0213\n",
      "Epoch 46/200\n",
      "1280/1280 [==============================] - ETA: 2s - loss: 0.011 - ETA: 1s - loss: 0.011 - ETA: 1s - loss: 0.011 - ETA: 1s - loss: 0.011 - ETA: 1s - loss: 0.011 - ETA: 0s - loss: 0.011 - ETA: 0s - loss: 0.010 - ETA: 0s - loss: 0.010 - ETA: 0s - loss: 0.010 - 3s 2ms/step - loss: 0.0104 - val_loss: 0.0186\n",
      "Epoch 47/200\n",
      "1280/1280 [==============================] - ETA: 2s - loss: 0.010 - ETA: 1s - loss: 0.010 - ETA: 1s - loss: 0.010 - ETA: 1s - loss: 0.010 - ETA: 1s - loss: 0.009 - ETA: 0s - loss: 0.010 - ETA: 0s - loss: 0.010 - ETA: 0s - loss: 0.010 - ETA: 0s - loss: 0.010 - 3s 2ms/step - loss: 0.0102 - val_loss: 0.0185\n",
      "Epoch 48/200\n",
      "1280/1280 [==============================] - ETA: 2s - loss: 0.009 - ETA: 1s - loss: 0.009 - ETA: 1s - loss: 0.010 - ETA: 1s - loss: 0.010 - ETA: 1s - loss: 0.010 - ETA: 0s - loss: 0.010 - ETA: 0s - loss: 0.010 - ETA: 0s - loss: 0.010 - ETA: 0s - loss: 0.010 - 3s 2ms/step - loss: 0.0103 - val_loss: 0.0203\n",
      "Epoch 49/200\n",
      "1280/1280 [==============================] - ETA: 2s - loss: 0.009 - ETA: 1s - loss: 0.009 - ETA: 1s - loss: 0.009 - ETA: 1s - loss: 0.009 - ETA: 1s - loss: 0.009 - ETA: 0s - loss: 0.010 - ETA: 0s - loss: 0.010 - ETA: 0s - loss: 0.010 - ETA: 0s - loss: 0.010 - 3s 2ms/step - loss: 0.0102 - val_loss: 0.0190\n",
      "Epoch 50/200\n",
      "1280/1280 [==============================] - ETA: 2s - loss: 0.010 - ETA: 1s - loss: 0.010 - ETA: 1s - loss: 0.010 - ETA: 1s - loss: 0.010 - ETA: 1s - loss: 0.010 - ETA: 0s - loss: 0.010 - ETA: 0s - loss: 0.010 - ETA: 0s - loss: 0.010 - ETA: 0s - loss: 0.010 - 3s 2ms/step - loss: 0.0103 - val_loss: 0.0176\n",
      "Epoch 51/200\n"
     ]
    },
    {
     "name": "stdout",
     "output_type": "stream",
     "text": [
      "1280/1280 [==============================] - ETA: 2s - loss: 0.010 - ETA: 1s - loss: 0.009 - ETA: 1s - loss: 0.009 - ETA: 1s - loss: 0.009 - ETA: 1s - loss: 0.010 - ETA: 0s - loss: 0.010 - ETA: 0s - loss: 0.010 - ETA: 0s - loss: 0.010 - ETA: 0s - loss: 0.010 - 3s 2ms/step - loss: 0.0101 - val_loss: 0.0153\n",
      "Epoch 52/200\n",
      "1280/1280 [==============================] - ETA: 2s - loss: 0.009 - ETA: 1s - loss: 0.009 - ETA: 1s - loss: 0.009 - ETA: 1s - loss: 0.009 - ETA: 1s - loss: 0.009 - ETA: 0s - loss: 0.009 - ETA: 0s - loss: 0.009 - ETA: 0s - loss: 0.009 - ETA: 0s - loss: 0.009 - 3s 2ms/step - loss: 0.0100 - val_loss: 0.0173\n",
      "Epoch 53/200\n",
      "1280/1280 [==============================] - ETA: 2s - loss: 0.009 - ETA: 1s - loss: 0.010 - ETA: 1s - loss: 0.010 - ETA: 1s - loss: 0.009 - ETA: 1s - loss: 0.009 - ETA: 0s - loss: 0.009 - ETA: 0s - loss: 0.009 - ETA: 0s - loss: 0.009 - ETA: 0s - loss: 0.009 - 3s 2ms/step - loss: 0.0095 - val_loss: 0.0153\n",
      "Epoch 54/200\n",
      "1280/1280 [==============================] - ETA: 2s - loss: 0.010 - ETA: 1s - loss: 0.010 - ETA: 1s - loss: 0.010 - ETA: 1s - loss: 0.010 - ETA: 1s - loss: 0.010 - ETA: 0s - loss: 0.010 - ETA: 0s - loss: 0.010 - ETA: 0s - loss: 0.010 - ETA: 0s - loss: 0.009 - 3s 2ms/step - loss: 0.0098 - val_loss: 0.0169\n",
      "Epoch 55/200\n",
      "1280/1280 [==============================] - ETA: 2s - loss: 0.009 - ETA: 1s - loss: 0.010 - ETA: 1s - loss: 0.010 - ETA: 1s - loss: 0.010 - ETA: 1s - loss: 0.010 - ETA: 0s - loss: 0.010 - ETA: 0s - loss: 0.010 - ETA: 0s - loss: 0.010 - ETA: 0s - loss: 0.010 - 3s 2ms/step - loss: 0.0101 - val_loss: 0.0151\n",
      "Epoch 56/200\n",
      "1280/1280 [==============================] - ETA: 2s - loss: 0.009 - ETA: 1s - loss: 0.009 - ETA: 1s - loss: 0.009 - ETA: 1s - loss: 0.009 - ETA: 1s - loss: 0.009 - ETA: 0s - loss: 0.009 - ETA: 0s - loss: 0.009 - ETA: 0s - loss: 0.009 - ETA: 0s - loss: 0.009 - 3s 2ms/step - loss: 0.0095 - val_loss: 0.0156\n",
      "Epoch 57/200\n",
      "1280/1280 [==============================] - ETA: 2s - loss: 0.008 - ETA: 1s - loss: 0.009 - ETA: 1s - loss: 0.010 - ETA: 1s - loss: 0.010 - ETA: 1s - loss: 0.010 - ETA: 0s - loss: 0.010 - ETA: 0s - loss: 0.010 - ETA: 0s - loss: 0.010 - ETA: 0s - loss: 0.009 - 3s 2ms/step - loss: 0.0099 - val_loss: 0.0147\n",
      "Epoch 58/200\n",
      "1280/1280 [==============================] - ETA: 2s - loss: 0.009 - ETA: 1s - loss: 0.009 - ETA: 1s - loss: 0.009 - ETA: 1s - loss: 0.010 - ETA: 1s - loss: 0.010 - ETA: 0s - loss: 0.010 - ETA: 0s - loss: 0.010 - ETA: 0s - loss: 0.010 - ETA: 0s - loss: 0.010 - 3s 2ms/step - loss: 0.0098 - val_loss: 0.0162\n",
      "Epoch 59/200\n",
      "1280/1280 [==============================] - ETA: 2s - loss: 0.008 - ETA: 1s - loss: 0.008 - ETA: 1s - loss: 0.009 - ETA: 1s - loss: 0.009 - ETA: 1s - loss: 0.009 - ETA: 0s - loss: 0.009 - ETA: 0s - loss: 0.009 - ETA: 0s - loss: 0.009 - ETA: 0s - loss: 0.009 - 3s 2ms/step - loss: 0.0093 - val_loss: 0.0129\n",
      "Epoch 60/200\n",
      "1280/1280 [==============================] - ETA: 2s - loss: 0.009 - ETA: 1s - loss: 0.008 - ETA: 1s - loss: 0.008 - ETA: 1s - loss: 0.009 - ETA: 1s - loss: 0.009 - ETA: 0s - loss: 0.009 - ETA: 0s - loss: 0.009 - ETA: 0s - loss: 0.009 - ETA: 0s - loss: 0.009 - 3s 2ms/step - loss: 0.0095 - val_loss: 0.0168\n",
      "Epoch 61/200\n",
      "1280/1280 [==============================] - ETA: 2s - loss: 0.009 - ETA: 1s - loss: 0.010 - ETA: 1s - loss: 0.010 - ETA: 1s - loss: 0.010 - ETA: 1s - loss: 0.009 - ETA: 0s - loss: 0.009 - ETA: 0s - loss: 0.009 - ETA: 0s - loss: 0.009 - ETA: 0s - loss: 0.009 - 3s 2ms/step - loss: 0.0098 - val_loss: 0.0140\n",
      "Epoch 62/200\n",
      "1280/1280 [==============================] - ETA: 2s - loss: 0.009 - ETA: 1s - loss: 0.009 - ETA: 1s - loss: 0.008 - ETA: 1s - loss: 0.009 - ETA: 1s - loss: 0.008 - ETA: 0s - loss: 0.008 - ETA: 0s - loss: 0.008 - ETA: 0s - loss: 0.008 - ETA: 0s - loss: 0.009 - 3s 2ms/step - loss: 0.0091 - val_loss: 0.0143\n",
      "Epoch 63/200\n",
      "1280/1280 [==============================] - ETA: 2s - loss: 0.010 - ETA: 1s - loss: 0.009 - ETA: 1s - loss: 0.009 - ETA: 1s - loss: 0.009 - ETA: 1s - loss: 0.009 - ETA: 0s - loss: 0.009 - ETA: 0s - loss: 0.009 - ETA: 0s - loss: 0.009 - ETA: 0s - loss: 0.009 - 3s 2ms/step - loss: 0.0094 - val_loss: 0.0123\n",
      "Epoch 64/200\n",
      "1280/1280 [==============================] - ETA: 2s - loss: 0.008 - ETA: 1s - loss: 0.008 - ETA: 1s - loss: 0.008 - ETA: 1s - loss: 0.009 - ETA: 1s - loss: 0.009 - ETA: 0s - loss: 0.009 - ETA: 0s - loss: 0.009 - ETA: 0s - loss: 0.009 - ETA: 0s - loss: 0.009 - 3s 2ms/step - loss: 0.0091 - val_loss: 0.0146\n",
      "Epoch 65/200\n",
      "1280/1280 [==============================] - ETA: 2s - loss: 0.009 - ETA: 1s - loss: 0.009 - ETA: 1s - loss: 0.009 - ETA: 1s - loss: 0.009 - ETA: 1s - loss: 0.009 - ETA: 0s - loss: 0.009 - ETA: 0s - loss: 0.009 - ETA: 0s - loss: 0.009 - ETA: 0s - loss: 0.009 - 3s 2ms/step - loss: 0.0093 - val_loss: 0.0124\n",
      "Epoch 66/200\n",
      "1280/1280 [==============================] - ETA: 2s - loss: 0.009 - ETA: 1s - loss: 0.009 - ETA: 1s - loss: 0.009 - ETA: 1s - loss: 0.009 - ETA: 1s - loss: 0.009 - ETA: 0s - loss: 0.009 - ETA: 0s - loss: 0.008 - ETA: 0s - loss: 0.008 - ETA: 0s - loss: 0.008 - 3s 2ms/step - loss: 0.0089 - val_loss: 0.0136\n",
      "Epoch 67/200\n",
      "1280/1280 [==============================] - ETA: 2s - loss: 0.008 - ETA: 1s - loss: 0.009 - ETA: 1s - loss: 0.009 - ETA: 1s - loss: 0.009 - ETA: 1s - loss: 0.009 - ETA: 0s - loss: 0.009 - ETA: 0s - loss: 0.009 - ETA: 0s - loss: 0.009 - ETA: 0s - loss: 0.009 - 3s 2ms/step - loss: 0.0093 - val_loss: 0.0155\n",
      "Epoch 68/200\n",
      "1280/1280 [==============================] - ETA: 2s - loss: 0.008 - ETA: 1s - loss: 0.008 - ETA: 1s - loss: 0.009 - ETA: 1s - loss: 0.009 - ETA: 1s - loss: 0.009 - ETA: 0s - loss: 0.009 - ETA: 0s - loss: 0.009 - ETA: 0s - loss: 0.009 - ETA: 0s - loss: 0.008 - 3s 2ms/step - loss: 0.0090 - val_loss: 0.0141\n",
      "Epoch 69/200\n",
      "1280/1280 [==============================] - ETA: 2s - loss: 0.008 - ETA: 1s - loss: 0.008 - ETA: 1s - loss: 0.008 - ETA: 1s - loss: 0.008 - ETA: 1s - loss: 0.008 - ETA: 0s - loss: 0.008 - ETA: 0s - loss: 0.008 - ETA: 0s - loss: 0.009 - ETA: 0s - loss: 0.009 - 3s 2ms/step - loss: 0.0090 - val_loss: 0.0144\n",
      "Epoch 70/200\n",
      "1280/1280 [==============================] - ETA: 2s - loss: 0.009 - ETA: 1s - loss: 0.008 - ETA: 1s - loss: 0.008 - ETA: 1s - loss: 0.008 - ETA: 1s - loss: 0.008 - ETA: 0s - loss: 0.008 - ETA: 0s - loss: 0.008 - ETA: 0s - loss: 0.008 - ETA: 0s - loss: 0.008 - 3s 2ms/step - loss: 0.0090 - val_loss: 0.0134\n",
      "Epoch 71/200\n",
      "1280/1280 [==============================] - ETA: 2s - loss: 0.008 - ETA: 1s - loss: 0.009 - ETA: 1s - loss: 0.008 - ETA: 1s - loss: 0.009 - ETA: 1s - loss: 0.009 - ETA: 0s - loss: 0.009 - ETA: 0s - loss: 0.008 - ETA: 0s - loss: 0.009 - ETA: 0s - loss: 0.009 - 3s 2ms/step - loss: 0.0091 - val_loss: 0.0139\n",
      "Epoch 72/200\n",
      "1280/1280 [==============================] - ETA: 2s - loss: 0.009 - ETA: 1s - loss: 0.009 - ETA: 1s - loss: 0.008 - ETA: 1s - loss: 0.008 - ETA: 1s - loss: 0.008 - ETA: 0s - loss: 0.008 - ETA: 0s - loss: 0.008 - ETA: 0s - loss: 0.008 - ETA: 0s - loss: 0.008 - 3s 2ms/step - loss: 0.0085 - val_loss: 0.0119\n",
      "Epoch 73/200\n",
      "1280/1280 [==============================] - ETA: 2s - loss: 0.008 - ETA: 1s - loss: 0.009 - ETA: 1s - loss: 0.008 - ETA: 1s - loss: 0.009 - ETA: 1s - loss: 0.009 - ETA: 0s - loss: 0.009 - ETA: 0s - loss: 0.009 - ETA: 0s - loss: 0.009 - ETA: 0s - loss: 0.008 - 3s 2ms/step - loss: 0.0089 - val_loss: 0.0143\n",
      "Epoch 74/200\n",
      "1280/1280 [==============================] - ETA: 2s - loss: 0.008 - ETA: 1s - loss: 0.008 - ETA: 1s - loss: 0.008 - ETA: 1s - loss: 0.008 - ETA: 1s - loss: 0.008 - ETA: 0s - loss: 0.008 - ETA: 0s - loss: 0.008 - ETA: 0s - loss: 0.008 - ETA: 0s - loss: 0.008 - 3s 2ms/step - loss: 0.0089 - val_loss: 0.0128\n",
      "Epoch 75/200\n",
      "1280/1280 [==============================] - ETA: 2s - loss: 0.009 - ETA: 1s - loss: 0.008 - ETA: 1s - loss: 0.008 - ETA: 1s - loss: 0.008 - ETA: 1s - loss: 0.008 - ETA: 0s - loss: 0.009 - ETA: 0s - loss: 0.009 - ETA: 0s - loss: 0.008 - ETA: 0s - loss: 0.008 - 3s 2ms/step - loss: 0.0087 - val_loss: 0.0105\n",
      "Epoch 76/200\n"
     ]
    },
    {
     "name": "stdout",
     "output_type": "stream",
     "text": [
      "1280/1280 [==============================] - ETA: 2s - loss: 0.008 - ETA: 1s - loss: 0.008 - ETA: 1s - loss: 0.008 - ETA: 1s - loss: 0.008 - ETA: 1s - loss: 0.009 - ETA: 0s - loss: 0.009 - ETA: 0s - loss: 0.009 - ETA: 0s - loss: 0.008 - ETA: 0s - loss: 0.008 - 3s 2ms/step - loss: 0.0087 - val_loss: 0.0123\n",
      "Epoch 77/200\n",
      "1280/1280 [==============================] - ETA: 2s - loss: 0.008 - ETA: 1s - loss: 0.008 - ETA: 1s - loss: 0.008 - ETA: 1s - loss: 0.008 - ETA: 1s - loss: 0.008 - ETA: 0s - loss: 0.008 - ETA: 0s - loss: 0.008 - ETA: 0s - loss: 0.008 - ETA: 0s - loss: 0.008 - 3s 2ms/step - loss: 0.0085 - val_loss: 0.0126\n",
      "Epoch 78/200\n",
      "1280/1280 [==============================] - ETA: 2s - loss: 0.008 - ETA: 1s - loss: 0.008 - ETA: 1s - loss: 0.008 - ETA: 1s - loss: 0.008 - ETA: 1s - loss: 0.008 - ETA: 0s - loss: 0.008 - ETA: 0s - loss: 0.008 - ETA: 0s - loss: 0.008 - ETA: 0s - loss: 0.008 - 3s 2ms/step - loss: 0.0084 - val_loss: 0.0112\n",
      "Epoch 79/200\n",
      "1280/1280 [==============================] - ETA: 2s - loss: 0.009 - ETA: 1s - loss: 0.009 - ETA: 1s - loss: 0.009 - ETA: 1s - loss: 0.009 - ETA: 1s - loss: 0.009 - ETA: 0s - loss: 0.009 - ETA: 0s - loss: 0.008 - ETA: 0s - loss: 0.008 - ETA: 0s - loss: 0.008 - 3s 2ms/step - loss: 0.0087 - val_loss: 0.0106\n",
      "Epoch 80/200\n",
      "1280/1280 [==============================] - ETA: 2s - loss: 0.008 - ETA: 1s - loss: 0.008 - ETA: 1s - loss: 0.008 - ETA: 1s - loss: 0.008 - ETA: 1s - loss: 0.008 - ETA: 0s - loss: 0.008 - ETA: 0s - loss: 0.008 - ETA: 0s - loss: 0.008 - ETA: 0s - loss: 0.008 - 3s 2ms/step - loss: 0.0084 - val_loss: 0.0118\n",
      "Epoch 81/200\n",
      "1280/1280 [==============================] - ETA: 2s - loss: 0.008 - ETA: 1s - loss: 0.008 - ETA: 1s - loss: 0.008 - ETA: 1s - loss: 0.008 - ETA: 1s - loss: 0.008 - ETA: 0s - loss: 0.008 - ETA: 0s - loss: 0.008 - ETA: 0s - loss: 0.008 - ETA: 0s - loss: 0.008 - 3s 2ms/step - loss: 0.0085 - val_loss: 0.0112\n",
      "Epoch 82/200\n",
      "1280/1280 [==============================] - ETA: 2s - loss: 0.007 - ETA: 1s - loss: 0.007 - ETA: 1s - loss: 0.007 - ETA: 1s - loss: 0.007 - ETA: 1s - loss: 0.008 - ETA: 0s - loss: 0.008 - ETA: 0s - loss: 0.008 - ETA: 0s - loss: 0.008 - ETA: 0s - loss: 0.008 - 3s 2ms/step - loss: 0.0084 - val_loss: 0.0117\n",
      "Epoch 83/200\n",
      "1280/1280 [==============================] - ETA: 2s - loss: 0.008 - ETA: 1s - loss: 0.008 - ETA: 1s - loss: 0.008 - ETA: 1s - loss: 0.008 - ETA: 1s - loss: 0.008 - ETA: 0s - loss: 0.008 - ETA: 0s - loss: 0.008 - ETA: 0s - loss: 0.008 - ETA: 0s - loss: 0.008 - 3s 2ms/step - loss: 0.0083 - val_loss: 0.0141\n",
      "Epoch 84/200\n",
      "1280/1280 [==============================] - ETA: 2s - loss: 0.008 - ETA: 1s - loss: 0.008 - ETA: 1s - loss: 0.008 - ETA: 1s - loss: 0.008 - ETA: 1s - loss: 0.008 - ETA: 0s - loss: 0.008 - ETA: 0s - loss: 0.008 - ETA: 0s - loss: 0.008 - ETA: 0s - loss: 0.008 - 3s 2ms/step - loss: 0.0083 - val_loss: 0.0110\n",
      "Epoch 85/200\n",
      "1280/1280 [==============================] - ETA: 2s - loss: 0.008 - ETA: 1s - loss: 0.008 - ETA: 1s - loss: 0.008 - ETA: 1s - loss: 0.008 - ETA: 1s - loss: 0.008 - ETA: 0s - loss: 0.008 - ETA: 0s - loss: 0.008 - ETA: 0s - loss: 0.008 - ETA: 0s - loss: 0.008 - 3s 2ms/step - loss: 0.0082 - val_loss: 0.0104\n",
      "Epoch 86/200\n",
      "1280/1280 [==============================] - ETA: 2s - loss: 0.007 - ETA: 1s - loss: 0.008 - ETA: 1s - loss: 0.008 - ETA: 1s - loss: 0.008 - ETA: 1s - loss: 0.008 - ETA: 0s - loss: 0.008 - ETA: 0s - loss: 0.008 - ETA: 0s - loss: 0.008 - ETA: 0s - loss: 0.008 - 3s 2ms/step - loss: 0.0084 - val_loss: 0.0125\n",
      "Epoch 87/200\n",
      "1280/1280 [==============================] - ETA: 2s - loss: 0.008 - ETA: 1s - loss: 0.008 - ETA: 1s - loss: 0.008 - ETA: 1s - loss: 0.008 - ETA: 1s - loss: 0.008 - ETA: 0s - loss: 0.008 - ETA: 0s - loss: 0.008 - ETA: 0s - loss: 0.008 - ETA: 0s - loss: 0.008 - 3s 2ms/step - loss: 0.0081 - val_loss: 0.0107\n",
      "Epoch 88/200\n",
      "1280/1280 [==============================] - ETA: 2s - loss: 0.008 - ETA: 1s - loss: 0.008 - ETA: 1s - loss: 0.008 - ETA: 1s - loss: 0.008 - ETA: 1s - loss: 0.008 - ETA: 0s - loss: 0.008 - ETA: 0s - loss: 0.008 - ETA: 0s - loss: 0.008 - ETA: 0s - loss: 0.008 - 3s 2ms/step - loss: 0.0084 - val_loss: 0.0115\n",
      "Epoch 89/200\n",
      "1280/1280 [==============================] - ETA: 2s - loss: 0.008 - ETA: 1s - loss: 0.008 - ETA: 1s - loss: 0.008 - ETA: 1s - loss: 0.008 - ETA: 1s - loss: 0.008 - ETA: 0s - loss: 0.008 - ETA: 0s - loss: 0.008 - ETA: 0s - loss: 0.008 - ETA: 0s - loss: 0.008 - 3s 2ms/step - loss: 0.0079 - val_loss: 0.0120\n",
      "Epoch 90/200\n",
      "1280/1280 [==============================] - ETA: 2s - loss: 0.008 - ETA: 1s - loss: 0.008 - ETA: 1s - loss: 0.008 - ETA: 1s - loss: 0.008 - ETA: 1s - loss: 0.008 - ETA: 0s - loss: 0.008 - ETA: 0s - loss: 0.008 - ETA: 0s - loss: 0.008 - ETA: 0s - loss: 0.008 - 3s 2ms/step - loss: 0.0082 - val_loss: 0.0122\n",
      "Epoch 91/200\n",
      "1280/1280 [==============================] - ETA: 2s - loss: 0.008 - ETA: 1s - loss: 0.008 - ETA: 1s - loss: 0.007 - ETA: 1s - loss: 0.007 - ETA: 1s - loss: 0.007 - ETA: 0s - loss: 0.007 - ETA: 0s - loss: 0.008 - ETA: 0s - loss: 0.008 - ETA: 0s - loss: 0.008 - 3s 2ms/step - loss: 0.0081 - val_loss: 0.0110\n",
      "Epoch 92/200\n",
      "1280/1280 [==============================] - ETA: 2s - loss: 0.007 - ETA: 1s - loss: 0.008 - ETA: 1s - loss: 0.008 - ETA: 1s - loss: 0.008 - ETA: 1s - loss: 0.008 - ETA: 0s - loss: 0.008 - ETA: 0s - loss: 0.008 - ETA: 0s - loss: 0.008 - ETA: 0s - loss: 0.008 - 3s 2ms/step - loss: 0.0080 - val_loss: 0.0103\n",
      "Epoch 93/200\n",
      "1280/1280 [==============================] - ETA: 2s - loss: 0.007 - ETA: 1s - loss: 0.007 - ETA: 1s - loss: 0.007 - ETA: 1s - loss: 0.007 - ETA: 1s - loss: 0.007 - ETA: 0s - loss: 0.007 - ETA: 0s - loss: 0.008 - ETA: 0s - loss: 0.007 - ETA: 0s - loss: 0.007 - 3s 2ms/step - loss: 0.0079 - val_loss: 0.0107\n",
      "Epoch 94/200\n",
      "1280/1280 [==============================] - ETA: 2s - loss: 0.007 - ETA: 1s - loss: 0.007 - ETA: 1s - loss: 0.008 - ETA: 1s - loss: 0.008 - ETA: 1s - loss: 0.008 - ETA: 0s - loss: 0.008 - ETA: 0s - loss: 0.008 - ETA: 0s - loss: 0.008 - ETA: 0s - loss: 0.008 - 3s 2ms/step - loss: 0.0082 - val_loss: 0.0105\n",
      "Epoch 95/200\n",
      "1280/1280 [==============================] - ETA: 2s - loss: 0.006 - ETA: 1s - loss: 0.007 - ETA: 1s - loss: 0.007 - ETA: 1s - loss: 0.007 - ETA: 1s - loss: 0.007 - ETA: 0s - loss: 0.007 - ETA: 0s - loss: 0.007 - ETA: 0s - loss: 0.007 - ETA: 0s - loss: 0.007 - 3s 2ms/step - loss: 0.0079 - val_loss: 0.0125\n",
      "Epoch 96/200\n",
      "1280/1280 [==============================] - ETA: 2s - loss: 0.008 - ETA: 1s - loss: 0.008 - ETA: 1s - loss: 0.007 - ETA: 1s - loss: 0.007 - ETA: 1s - loss: 0.007 - ETA: 0s - loss: 0.007 - ETA: 0s - loss: 0.007 - ETA: 0s - loss: 0.007 - ETA: 0s - loss: 0.007 - 3s 2ms/step - loss: 0.0077 - val_loss: 0.0098\n",
      "Epoch 97/200\n",
      "1280/1280 [==============================] - ETA: 2s - loss: 0.007 - ETA: 1s - loss: 0.008 - ETA: 1s - loss: 0.007 - ETA: 1s - loss: 0.008 - ETA: 1s - loss: 0.008 - ETA: 0s - loss: 0.008 - ETA: 0s - loss: 0.008 - ETA: 0s - loss: 0.008 - ETA: 0s - loss: 0.008 - 3s 2ms/step - loss: 0.0080 - val_loss: 0.0122\n",
      "Epoch 98/200\n",
      "1280/1280 [==============================] - ETA: 2s - loss: 0.008 - ETA: 1s - loss: 0.008 - ETA: 1s - loss: 0.007 - ETA: 1s - loss: 0.007 - ETA: 1s - loss: 0.007 - ETA: 0s - loss: 0.007 - ETA: 0s - loss: 0.007 - ETA: 0s - loss: 0.007 - ETA: 0s - loss: 0.007 - 3s 2ms/step - loss: 0.0077 - val_loss: 0.0104\n",
      "Epoch 99/200\n",
      "1280/1280 [==============================] - ETA: 2s - loss: 0.006 - ETA: 1s - loss: 0.006 - ETA: 1s - loss: 0.006 - ETA: 1s - loss: 0.006 - ETA: 1s - loss: 0.007 - ETA: 0s - loss: 0.007 - ETA: 0s - loss: 0.007 - ETA: 0s - loss: 0.007 - ETA: 0s - loss: 0.007 - 3s 2ms/step - loss: 0.0078 - val_loss: 0.0113\n",
      "Epoch 100/200\n",
      "1280/1280 [==============================] - ETA: 2s - loss: 0.007 - ETA: 1s - loss: 0.007 - ETA: 1s - loss: 0.007 - ETA: 1s - loss: 0.007 - ETA: 1s - loss: 0.007 - ETA: 0s - loss: 0.007 - ETA: 0s - loss: 0.007 - ETA: 0s - loss: 0.007 - ETA: 0s - loss: 0.007 - 3s 2ms/step - loss: 0.0076 - val_loss: 0.0117\n",
      "Epoch 101/200\n"
     ]
    },
    {
     "name": "stdout",
     "output_type": "stream",
     "text": [
      "1280/1280 [==============================] - ETA: 2s - loss: 0.008 - ETA: 1s - loss: 0.007 - ETA: 1s - loss: 0.007 - ETA: 1s - loss: 0.007 - ETA: 1s - loss: 0.007 - ETA: 0s - loss: 0.007 - ETA: 0s - loss: 0.007 - ETA: 0s - loss: 0.007 - ETA: 0s - loss: 0.007 - 3s 2ms/step - loss: 0.0077 - val_loss: 0.0111\n",
      "Epoch 102/200\n",
      "1280/1280 [==============================] - ETA: 2s - loss: 0.007 - ETA: 1s - loss: 0.007 - ETA: 1s - loss: 0.007 - ETA: 1s - loss: 0.007 - ETA: 1s - loss: 0.007 - ETA: 0s - loss: 0.007 - ETA: 0s - loss: 0.007 - ETA: 0s - loss: 0.007 - ETA: 0s - loss: 0.007 - 3s 2ms/step - loss: 0.0078 - val_loss: 0.0112\n",
      "Epoch 103/200\n",
      "1280/1280 [==============================] - ETA: 2s - loss: 0.007 - ETA: 1s - loss: 0.008 - ETA: 1s - loss: 0.007 - ETA: 1s - loss: 0.007 - ETA: 1s - loss: 0.007 - ETA: 0s - loss: 0.007 - ETA: 0s - loss: 0.007 - ETA: 0s - loss: 0.007 - ETA: 0s - loss: 0.007 - 3s 2ms/step - loss: 0.0077 - val_loss: 0.0119\n",
      "Epoch 104/200\n",
      "1280/1280 [==============================] - ETA: 2s - loss: 0.007 - ETA: 1s - loss: 0.007 - ETA: 1s - loss: 0.007 - ETA: 1s - loss: 0.007 - ETA: 1s - loss: 0.007 - ETA: 0s - loss: 0.007 - ETA: 0s - loss: 0.007 - ETA: 0s - loss: 0.007 - ETA: 0s - loss: 0.007 - 3s 2ms/step - loss: 0.0076 - val_loss: 0.0109\n",
      "Epoch 105/200\n",
      "1280/1280 [==============================] - ETA: 2s - loss: 0.008 - ETA: 1s - loss: 0.007 - ETA: 1s - loss: 0.007 - ETA: 1s - loss: 0.007 - ETA: 1s - loss: 0.007 - ETA: 0s - loss: 0.007 - ETA: 0s - loss: 0.007 - ETA: 0s - loss: 0.007 - ETA: 0s - loss: 0.007 - 3s 2ms/step - loss: 0.0075 - val_loss: 0.0125\n",
      "Epoch 106/200\n",
      "1280/1280 [==============================] - ETA: 2s - loss: 0.007 - ETA: 1s - loss: 0.008 - ETA: 1s - loss: 0.008 - ETA: 1s - loss: 0.008 - ETA: 1s - loss: 0.008 - ETA: 0s - loss: 0.008 - ETA: 0s - loss: 0.007 - ETA: 0s - loss: 0.007 - ETA: 0s - loss: 0.007 - 3s 2ms/step - loss: 0.0077 - val_loss: 0.0094\n",
      "Epoch 107/200\n",
      "1280/1280 [==============================] - ETA: 2s - loss: 0.007 - ETA: 1s - loss: 0.007 - ETA: 1s - loss: 0.007 - ETA: 1s - loss: 0.007 - ETA: 1s - loss: 0.007 - ETA: 0s - loss: 0.007 - ETA: 0s - loss: 0.007 - ETA: 0s - loss: 0.007 - ETA: 0s - loss: 0.007 - 3s 2ms/step - loss: 0.0075 - val_loss: 0.0103\n",
      "Epoch 108/200\n",
      "1280/1280 [==============================] - ETA: 2s - loss: 0.007 - ETA: 1s - loss: 0.007 - ETA: 1s - loss: 0.007 - ETA: 1s - loss: 0.007 - ETA: 1s - loss: 0.007 - ETA: 0s - loss: 0.007 - ETA: 0s - loss: 0.007 - ETA: 0s - loss: 0.007 - ETA: 0s - loss: 0.007 - 3s 2ms/step - loss: 0.0076 - val_loss: 0.0122\n",
      "Epoch 109/200\n",
      "1280/1280 [==============================] - ETA: 2s - loss: 0.008 - ETA: 1s - loss: 0.007 - ETA: 1s - loss: 0.007 - ETA: 1s - loss: 0.007 - ETA: 1s - loss: 0.007 - ETA: 0s - loss: 0.007 - ETA: 0s - loss: 0.007 - ETA: 0s - loss: 0.007 - ETA: 0s - loss: 0.007 - 3s 2ms/step - loss: 0.0076 - val_loss: 0.0100\n",
      "Epoch 110/200\n",
      "1280/1280 [==============================] - ETA: 2s - loss: 0.007 - ETA: 1s - loss: 0.007 - ETA: 1s - loss: 0.007 - ETA: 1s - loss: 0.007 - ETA: 1s - loss: 0.007 - ETA: 0s - loss: 0.007 - ETA: 0s - loss: 0.007 - ETA: 0s - loss: 0.007 - ETA: 0s - loss: 0.007 - 3s 2ms/step - loss: 0.0073 - val_loss: 0.0113\n",
      "Epoch 111/200\n",
      "1280/1280 [==============================] - ETA: 2s - loss: 0.007 - ETA: 1s - loss: 0.007 - ETA: 1s - loss: 0.007 - ETA: 1s - loss: 0.007 - ETA: 1s - loss: 0.007 - ETA: 0s - loss: 0.007 - ETA: 0s - loss: 0.007 - ETA: 0s - loss: 0.007 - ETA: 0s - loss: 0.007 - 3s 2ms/step - loss: 0.0077 - val_loss: 0.0101\n",
      "Epoch 112/200\n",
      "1280/1280 [==============================] - ETA: 2s - loss: 0.006 - ETA: 1s - loss: 0.006 - ETA: 1s - loss: 0.006 - ETA: 1s - loss: 0.006 - ETA: 1s - loss: 0.006 - ETA: 0s - loss: 0.007 - ETA: 0s - loss: 0.007 - ETA: 0s - loss: 0.007 - ETA: 0s - loss: 0.007 - 3s 2ms/step - loss: 0.0073 - val_loss: 0.0106\n",
      "Epoch 113/200\n",
      "1280/1280 [==============================] - ETA: 2s - loss: 0.007 - ETA: 1s - loss: 0.007 - ETA: 1s - loss: 0.007 - ETA: 1s - loss: 0.007 - ETA: 1s - loss: 0.007 - ETA: 0s - loss: 0.007 - ETA: 0s - loss: 0.007 - ETA: 0s - loss: 0.007 - ETA: 0s - loss: 0.007 - 3s 2ms/step - loss: 0.0077 - val_loss: 0.0096\n",
      "Epoch 114/200\n",
      "1280/1280 [==============================] - ETA: 2s - loss: 0.007 - ETA: 1s - loss: 0.008 - ETA: 1s - loss: 0.007 - ETA: 1s - loss: 0.007 - ETA: 1s - loss: 0.007 - ETA: 0s - loss: 0.007 - ETA: 0s - loss: 0.007 - ETA: 0s - loss: 0.007 - ETA: 0s - loss: 0.007 - 3s 2ms/step - loss: 0.0071 - val_loss: 0.0103\n",
      "Epoch 115/200\n",
      "1280/1280 [==============================] - ETA: 2s - loss: 0.007 - ETA: 1s - loss: 0.007 - ETA: 1s - loss: 0.007 - ETA: 1s - loss: 0.006 - ETA: 1s - loss: 0.007 - ETA: 0s - loss: 0.007 - ETA: 0s - loss: 0.007 - ETA: 0s - loss: 0.007 - ETA: 0s - loss: 0.007 - 3s 2ms/step - loss: 0.0075 - val_loss: 0.0875\n",
      "Epoch 116/200\n",
      "1280/1280 [==============================] - ETA: 2s - loss: 0.016 - ETA: 1s - loss: 0.012 - ETA: 1s - loss: 0.010 - ETA: 1s - loss: 0.009 - ETA: 1s - loss: 0.009 - ETA: 0s - loss: 0.009 - ETA: 0s - loss: 0.008 - ETA: 0s - loss: 0.008 - ETA: 0s - loss: 0.008 - 3s 2ms/step - loss: 0.0083 - val_loss: 0.0094\n",
      "Epoch 117/200\n",
      "1280/1280 [==============================] - ETA: 2s - loss: 0.007 - ETA: 1s - loss: 0.007 - ETA: 1s - loss: 0.007 - ETA: 1s - loss: 0.007 - ETA: 1s - loss: 0.007 - ETA: 0s - loss: 0.007 - ETA: 0s - loss: 0.007 - ETA: 0s - loss: 0.007 - ETA: 0s - loss: 0.007 - 3s 2ms/step - loss: 0.0071 - val_loss: 0.0098\n",
      "Epoch 118/200\n",
      "1280/1280 [==============================] - ETA: 2s - loss: 0.006 - ETA: 1s - loss: 0.006 - ETA: 1s - loss: 0.007 - ETA: 1s - loss: 0.007 - ETA: 1s - loss: 0.007 - ETA: 0s - loss: 0.007 - ETA: 0s - loss: 0.007 - ETA: 0s - loss: 0.007 - ETA: 0s - loss: 0.007 - 3s 2ms/step - loss: 0.0073 - val_loss: 0.0102\n",
      "Epoch 119/200\n",
      "1280/1280 [==============================] - ETA: 2s - loss: 0.007 - ETA: 1s - loss: 0.007 - ETA: 1s - loss: 0.007 - ETA: 1s - loss: 0.007 - ETA: 1s - loss: 0.007 - ETA: 0s - loss: 0.007 - ETA: 0s - loss: 0.007 - ETA: 0s - loss: 0.007 - ETA: 0s - loss: 0.007 - 3s 2ms/step - loss: 0.0072 - val_loss: 0.0100\n",
      "Epoch 120/200\n",
      "1280/1280 [==============================] - ETA: 2s - loss: 0.006 - ETA: 1s - loss: 0.006 - ETA: 1s - loss: 0.006 - ETA: 1s - loss: 0.006 - ETA: 1s - loss: 0.006 - ETA: 0s - loss: 0.006 - ETA: 0s - loss: 0.007 - ETA: 0s - loss: 0.007 - ETA: 0s - loss: 0.007 - 3s 2ms/step - loss: 0.0072 - val_loss: 0.0104\n",
      "Epoch 121/200\n",
      "1280/1280 [==============================] - ETA: 2s - loss: 0.007 - ETA: 1s - loss: 0.007 - ETA: 1s - loss: 0.007 - ETA: 1s - loss: 0.007 - ETA: 1s - loss: 0.007 - ETA: 0s - loss: 0.007 - ETA: 0s - loss: 0.007 - ETA: 0s - loss: 0.007 - ETA: 0s - loss: 0.007 - 3s 2ms/step - loss: 0.0071 - val_loss: 0.0097\n",
      "Epoch 122/200\n",
      "1280/1280 [==============================] - ETA: 2s - loss: 0.007 - ETA: 1s - loss: 0.007 - ETA: 1s - loss: 0.007 - ETA: 1s - loss: 0.007 - ETA: 1s - loss: 0.007 - ETA: 0s - loss: 0.007 - ETA: 0s - loss: 0.007 - ETA: 0s - loss: 0.007 - ETA: 0s - loss: 0.007 - 3s 2ms/step - loss: 0.0072 - val_loss: 0.0092\n",
      "Epoch 123/200\n",
      "1280/1280 [==============================] - ETA: 2s - loss: 0.007 - ETA: 1s - loss: 0.007 - ETA: 1s - loss: 0.006 - ETA: 1s - loss: 0.006 - ETA: 1s - loss: 0.007 - ETA: 0s - loss: 0.007 - ETA: 0s - loss: 0.007 - ETA: 0s - loss: 0.007 - ETA: 0s - loss: 0.007 - 3s 2ms/step - loss: 0.0070 - val_loss: 0.0101\n",
      "Epoch 124/200\n",
      "1280/1280 [==============================] - ETA: 2s - loss: 0.007 - ETA: 1s - loss: 0.006 - ETA: 1s - loss: 0.006 - ETA: 1s - loss: 0.006 - ETA: 1s - loss: 0.006 - ETA: 0s - loss: 0.007 - ETA: 0s - loss: 0.007 - ETA: 0s - loss: 0.007 - ETA: 0s - loss: 0.007 - 3s 2ms/step - loss: 0.0072 - val_loss: 0.0106\n",
      "Epoch 125/200\n",
      "1280/1280 [==============================] - ETA: 2s - loss: 0.007 - ETA: 1s - loss: 0.007 - ETA: 1s - loss: 0.007 - ETA: 1s - loss: 0.007 - ETA: 1s - loss: 0.007 - ETA: 0s - loss: 0.007 - ETA: 0s - loss: 0.007 - ETA: 0s - loss: 0.007 - ETA: 0s - loss: 0.007 - 3s 2ms/step - loss: 0.0072 - val_loss: 0.0093\n",
      "Epoch 126/200\n"
     ]
    },
    {
     "name": "stdout",
     "output_type": "stream",
     "text": [
      "1280/1280 [==============================] - ETA: 2s - loss: 0.007 - ETA: 1s - loss: 0.006 - ETA: 1s - loss: 0.007 - ETA: 1s - loss: 0.007 - ETA: 1s - loss: 0.007 - ETA: 0s - loss: 0.007 - ETA: 0s - loss: 0.007 - ETA: 0s - loss: 0.006 - ETA: 0s - loss: 0.007 - 3s 2ms/step - loss: 0.0071 - val_loss: 0.0097\n",
      "Epoch 127/200\n",
      "1280/1280 [==============================] - ETA: 2s - loss: 0.006 - ETA: 1s - loss: 0.006 - ETA: 1s - loss: 0.006 - ETA: 1s - loss: 0.006 - ETA: 1s - loss: 0.006 - ETA: 0s - loss: 0.006 - ETA: 0s - loss: 0.007 - ETA: 0s - loss: 0.007 - ETA: 0s - loss: 0.007 - 3s 2ms/step - loss: 0.0071 - val_loss: 0.0100\n",
      "Epoch 128/200\n",
      "1280/1280 [==============================] - ETA: 2s - loss: 0.007 - ETA: 1s - loss: 0.007 - ETA: 1s - loss: 0.007 - ETA: 1s - loss: 0.007 - ETA: 1s - loss: 0.007 - ETA: 0s - loss: 0.007 - ETA: 0s - loss: 0.007 - ETA: 0s - loss: 0.006 - ETA: 0s - loss: 0.006 - 3s 2ms/step - loss: 0.0069 - val_loss: 0.0089\n",
      "Epoch 129/200\n",
      "1280/1280 [==============================] - ETA: 2s - loss: 0.006 - ETA: 1s - loss: 0.006 - ETA: 1s - loss: 0.006 - ETA: 1s - loss: 0.007 - ETA: 1s - loss: 0.007 - ETA: 0s - loss: 0.007 - ETA: 0s - loss: 0.007 - ETA: 0s - loss: 0.007 - ETA: 0s - loss: 0.007 - 3s 2ms/step - loss: 0.0071 - val_loss: 0.0097\n",
      "Epoch 130/200\n",
      "1280/1280 [==============================] - ETA: 2s - loss: 0.006 - ETA: 1s - loss: 0.006 - ETA: 1s - loss: 0.006 - ETA: 1s - loss: 0.007 - ETA: 1s - loss: 0.007 - ETA: 0s - loss: 0.007 - ETA: 0s - loss: 0.007 - ETA: 0s - loss: 0.006 - ETA: 0s - loss: 0.007 - 3s 2ms/step - loss: 0.0070 - val_loss: 0.0112\n",
      "Epoch 131/200\n",
      "1280/1280 [==============================] - ETA: 2s - loss: 0.007 - ETA: 1s - loss: 0.007 - ETA: 1s - loss: 0.007 - ETA: 1s - loss: 0.007 - ETA: 1s - loss: 0.007 - ETA: 0s - loss: 0.007 - ETA: 0s - loss: 0.007 - ETA: 0s - loss: 0.007 - ETA: 0s - loss: 0.007 - 3s 2ms/step - loss: 0.0070 - val_loss: 0.0099\n",
      "Epoch 132/200\n",
      "1280/1280 [==============================] - ETA: 2s - loss: 0.007 - ETA: 1s - loss: 0.006 - ETA: 1s - loss: 0.006 - ETA: 1s - loss: 0.006 - ETA: 1s - loss: 0.006 - ETA: 0s - loss: 0.006 - ETA: 0s - loss: 0.006 - ETA: 0s - loss: 0.006 - ETA: 0s - loss: 0.006 - 3s 2ms/step - loss: 0.0069 - val_loss: 0.0091\n",
      "Epoch 133/200\n",
      "1280/1280 [==============================] - ETA: 2s - loss: 0.007 - ETA: 1s - loss: 0.007 - ETA: 1s - loss: 0.007 - ETA: 1s - loss: 0.007 - ETA: 1s - loss: 0.007 - ETA: 0s - loss: 0.007 - ETA: 0s - loss: 0.007 - ETA: 0s - loss: 0.007 - ETA: 0s - loss: 0.007 - 3s 2ms/step - loss: 0.0071 - val_loss: 0.0110\n",
      "Epoch 134/200\n",
      "1280/1280 [==============================] - ETA: 2s - loss: 0.006 - ETA: 1s - loss: 0.006 - ETA: 1s - loss: 0.006 - ETA: 1s - loss: 0.006 - ETA: 1s - loss: 0.006 - ETA: 0s - loss: 0.006 - ETA: 0s - loss: 0.006 - ETA: 0s - loss: 0.006 - ETA: 0s - loss: 0.006 - 3s 2ms/step - loss: 0.0067 - val_loss: 0.0093\n",
      "Epoch 135/200\n",
      "1280/1280 [==============================] - ETA: 2s - loss: 0.007 - ETA: 1s - loss: 0.007 - ETA: 1s - loss: 0.007 - ETA: 1s - loss: 0.007 - ETA: 1s - loss: 0.007 - ETA: 0s - loss: 0.007 - ETA: 0s - loss: 0.007 - ETA: 0s - loss: 0.007 - ETA: 0s - loss: 0.007 - 3s 2ms/step - loss: 0.0071 - val_loss: 0.0096\n",
      "Epoch 136/200\n",
      "1280/1280 [==============================] - ETA: 2s - loss: 0.006 - ETA: 1s - loss: 0.006 - ETA: 1s - loss: 0.006 - ETA: 1s - loss: 0.006 - ETA: 1s - loss: 0.006 - ETA: 0s - loss: 0.006 - ETA: 0s - loss: 0.006 - ETA: 0s - loss: 0.006 - ETA: 0s - loss: 0.006 - 3s 2ms/step - loss: 0.0068 - val_loss: 0.0098\n",
      "Epoch 137/200\n",
      "1280/1280 [==============================] - ETA: 2s - loss: 0.007 - ETA: 1s - loss: 0.006 - ETA: 1s - loss: 0.006 - ETA: 1s - loss: 0.006 - ETA: 1s - loss: 0.006 - ETA: 0s - loss: 0.006 - ETA: 0s - loss: 0.006 - ETA: 0s - loss: 0.006 - ETA: 0s - loss: 0.006 - 3s 2ms/step - loss: 0.0068 - val_loss: 0.0106\n",
      "Epoch 138/200\n",
      "1280/1280 [==============================] - ETA: 2s - loss: 0.007 - ETA: 1s - loss: 0.007 - ETA: 1s - loss: 0.007 - ETA: 1s - loss: 0.006 - ETA: 1s - loss: 0.006 - ETA: 0s - loss: 0.006 - ETA: 0s - loss: 0.006 - ETA: 0s - loss: 0.006 - ETA: 0s - loss: 0.006 - 3s 2ms/step - loss: 0.0068 - val_loss: 0.0098\n",
      "Epoch 139/200\n",
      "1280/1280 [==============================] - ETA: 2s - loss: 0.006 - ETA: 1s - loss: 0.007 - ETA: 1s - loss: 0.007 - ETA: 1s - loss: 0.007 - ETA: 1s - loss: 0.006 - ETA: 0s - loss: 0.006 - ETA: 0s - loss: 0.006 - ETA: 0s - loss: 0.006 - ETA: 0s - loss: 0.006 - 3s 2ms/step - loss: 0.0068 - val_loss: 0.0102\n",
      "Epoch 140/200\n",
      "1280/1280 [==============================] - ETA: 2s - loss: 0.007 - ETA: 1s - loss: 0.006 - ETA: 1s - loss: 0.006 - ETA: 1s - loss: 0.006 - ETA: 1s - loss: 0.006 - ETA: 0s - loss: 0.006 - ETA: 0s - loss: 0.006 - ETA: 0s - loss: 0.006 - ETA: 0s - loss: 0.006 - 3s 2ms/step - loss: 0.0067 - val_loss: 0.0093\n",
      "Epoch 141/200\n",
      "1280/1280 [==============================] - ETA: 2s - loss: 0.006 - ETA: 1s - loss: 0.006 - ETA: 1s - loss: 0.006 - ETA: 1s - loss: 0.006 - ETA: 1s - loss: 0.006 - ETA: 0s - loss: 0.006 - ETA: 0s - loss: 0.006 - ETA: 0s - loss: 0.006 - ETA: 0s - loss: 0.006 - 3s 2ms/step - loss: 0.0069 - val_loss: 0.0100\n",
      "Epoch 142/200\n",
      "1280/1280 [==============================] - ETA: 2s - loss: 0.007 - ETA: 1s - loss: 0.006 - ETA: 1s - loss: 0.006 - ETA: 1s - loss: 0.006 - ETA: 1s - loss: 0.006 - ETA: 0s - loss: 0.006 - ETA: 0s - loss: 0.006 - ETA: 0s - loss: 0.006 - ETA: 0s - loss: 0.006 - 3s 2ms/step - loss: 0.0066 - val_loss: 0.0096\n",
      "Epoch 143/200\n",
      "1280/1280 [==============================] - ETA: 2s - loss: 0.006 - ETA: 1s - loss: 0.007 - ETA: 1s - loss: 0.006 - ETA: 1s - loss: 0.006 - ETA: 1s - loss: 0.006 - ETA: 0s - loss: 0.006 - ETA: 0s - loss: 0.006 - ETA: 0s - loss: 0.006 - ETA: 0s - loss: 0.006 - 3s 2ms/step - loss: 0.0068 - val_loss: 0.0112\n",
      "Epoch 144/200\n",
      "1280/1280 [==============================] - ETA: 2s - loss: 0.007 - ETA: 1s - loss: 0.006 - ETA: 1s - loss: 0.006 - ETA: 1s - loss: 0.006 - ETA: 1s - loss: 0.006 - ETA: 0s - loss: 0.006 - ETA: 0s - loss: 0.006 - ETA: 0s - loss: 0.006 - ETA: 0s - loss: 0.006 - 3s 2ms/step - loss: 0.0067 - val_loss: 0.0095\n",
      "Epoch 145/200\n",
      "1280/1280 [==============================] - ETA: 2s - loss: 0.007 - ETA: 1s - loss: 0.006 - ETA: 1s - loss: 0.007 - ETA: 1s - loss: 0.006 - ETA: 1s - loss: 0.006 - ETA: 0s - loss: 0.006 - ETA: 0s - loss: 0.006 - ETA: 0s - loss: 0.006 - ETA: 0s - loss: 0.006 - 3s 2ms/step - loss: 0.0066 - val_loss: 0.0100\n",
      "Epoch 146/200\n",
      "1280/1280 [==============================] - ETA: 2s - loss: 0.006 - ETA: 1s - loss: 0.006 - ETA: 1s - loss: 0.006 - ETA: 1s - loss: 0.006 - ETA: 1s - loss: 0.006 - ETA: 0s - loss: 0.006 - ETA: 0s - loss: 0.006 - ETA: 0s - loss: 0.006 - ETA: 0s - loss: 0.006 - 3s 2ms/step - loss: 0.0065 - val_loss: 0.0095\n",
      "Epoch 147/200\n",
      "1280/1280 [==============================] - ETA: 2s - loss: 0.007 - ETA: 1s - loss: 0.007 - ETA: 1s - loss: 0.007 - ETA: 1s - loss: 0.007 - ETA: 1s - loss: 0.006 - ETA: 0s - loss: 0.006 - ETA: 0s - loss: 0.006 - ETA: 0s - loss: 0.006 - ETA: 0s - loss: 0.006 - 3s 2ms/step - loss: 0.0067 - val_loss: 0.0093\n",
      "Epoch 148/200\n",
      "1280/1280 [==============================] - ETA: 2s - loss: 0.007 - ETA: 1s - loss: 0.006 - ETA: 1s - loss: 0.006 - ETA: 1s - loss: 0.006 - ETA: 1s - loss: 0.006 - ETA: 0s - loss: 0.006 - ETA: 0s - loss: 0.006 - ETA: 0s - loss: 0.006 - ETA: 0s - loss: 0.006 - 3s 2ms/step - loss: 0.0068 - val_loss: 0.0124\n",
      "Epoch 149/200\n",
      "1280/1280 [==============================] - ETA: 2s - loss: 0.007 - ETA: 1s - loss: 0.006 - ETA: 1s - loss: 0.006 - ETA: 1s - loss: 0.006 - ETA: 1s - loss: 0.006 - ETA: 0s - loss: 0.006 - ETA: 0s - loss: 0.006 - ETA: 0s - loss: 0.006 - ETA: 0s - loss: 0.006 - 3s 2ms/step - loss: 0.0067 - val_loss: 0.0099\n",
      "Epoch 150/200\n",
      "1280/1280 [==============================] - ETA: 2s - loss: 0.007 - ETA: 1s - loss: 0.006 - ETA: 1s - loss: 0.006 - ETA: 1s - loss: 0.006 - ETA: 1s - loss: 0.006 - ETA: 0s - loss: 0.006 - ETA: 0s - loss: 0.006 - ETA: 0s - loss: 0.006 - ETA: 0s - loss: 0.006 - 3s 2ms/step - loss: 0.0065 - val_loss: 0.0096\n",
      "Epoch 151/200\n"
     ]
    },
    {
     "name": "stdout",
     "output_type": "stream",
     "text": [
      "1280/1280 [==============================] - ETA: 2s - loss: 0.006 - ETA: 1s - loss: 0.006 - ETA: 1s - loss: 0.006 - ETA: 1s - loss: 0.006 - ETA: 1s - loss: 0.006 - ETA: 0s - loss: 0.006 - ETA: 0s - loss: 0.006 - ETA: 0s - loss: 0.006 - ETA: 0s - loss: 0.006 - 3s 2ms/step - loss: 0.0066 - val_loss: 0.0092\n",
      "Epoch 152/200\n",
      "1280/1280 [==============================] - ETA: 2s - loss: 0.006 - ETA: 1s - loss: 0.006 - ETA: 1s - loss: 0.006 - ETA: 1s - loss: 0.006 - ETA: 1s - loss: 0.006 - ETA: 0s - loss: 0.006 - ETA: 0s - loss: 0.006 - ETA: 0s - loss: 0.006 - ETA: 0s - loss: 0.006 - 3s 2ms/step - loss: 0.0064 - val_loss: 0.0100\n",
      "Epoch 153/200\n",
      "1280/1280 [==============================] - ETA: 2s - loss: 0.006 - ETA: 1s - loss: 0.006 - ETA: 1s - loss: 0.006 - ETA: 1s - loss: 0.006 - ETA: 1s - loss: 0.006 - ETA: 0s - loss: 0.006 - ETA: 0s - loss: 0.006 - ETA: 0s - loss: 0.006 - ETA: 0s - loss: 0.006 - 3s 2ms/step - loss: 0.0066 - val_loss: 0.0101\n",
      "Epoch 154/200\n",
      "1280/1280 [==============================] - ETA: 2s - loss: 0.006 - ETA: 1s - loss: 0.006 - ETA: 1s - loss: 0.006 - ETA: 1s - loss: 0.006 - ETA: 1s - loss: 0.006 - ETA: 0s - loss: 0.006 - ETA: 0s - loss: 0.006 - ETA: 0s - loss: 0.006 - ETA: 0s - loss: 0.006 - 3s 2ms/step - loss: 0.0066 - val_loss: 0.0094\n",
      "Epoch 155/200\n",
      "1280/1280 [==============================] - ETA: 2s - loss: 0.006 - ETA: 1s - loss: 0.006 - ETA: 1s - loss: 0.006 - ETA: 1s - loss: 0.006 - ETA: 1s - loss: 0.006 - ETA: 0s - loss: 0.006 - ETA: 0s - loss: 0.006 - ETA: 0s - loss: 0.006 - ETA: 0s - loss: 0.006 - 3s 2ms/step - loss: 0.0065 - val_loss: 0.0091\n",
      "Epoch 156/200\n",
      "1280/1280 [==============================] - ETA: 2s - loss: 0.007 - ETA: 1s - loss: 0.006 - ETA: 1s - loss: 0.006 - ETA: 1s - loss: 0.006 - ETA: 1s - loss: 0.006 - ETA: 0s - loss: 0.006 - ETA: 0s - loss: 0.006 - ETA: 0s - loss: 0.006 - ETA: 0s - loss: 0.006 - 3s 2ms/step - loss: 0.0066 - val_loss: 0.0095\n",
      "Epoch 157/200\n",
      "1280/1280 [==============================] - ETA: 2s - loss: 0.006 - ETA: 1s - loss: 0.006 - ETA: 1s - loss: 0.006 - ETA: 1s - loss: 0.006 - ETA: 1s - loss: 0.006 - ETA: 0s - loss: 0.006 - ETA: 0s - loss: 0.006 - ETA: 0s - loss: 0.006 - ETA: 0s - loss: 0.006 - 3s 2ms/step - loss: 0.0064 - val_loss: 0.0104\n",
      "Epoch 158/200\n",
      "1280/1280 [==============================] - ETA: 2s - loss: 0.006 - ETA: 1s - loss: 0.006 - ETA: 1s - loss: 0.006 - ETA: 1s - loss: 0.006 - ETA: 1s - loss: 0.006 - ETA: 0s - loss: 0.006 - ETA: 0s - loss: 0.006 - ETA: 0s - loss: 0.006 - ETA: 0s - loss: 0.006 - 3s 2ms/step - loss: 0.0064 - val_loss: 0.0091\n",
      "Epoch 159/200\n",
      "1280/1280 [==============================] - ETA: 2s - loss: 0.006 - ETA: 1s - loss: 0.006 - ETA: 1s - loss: 0.006 - ETA: 1s - loss: 0.006 - ETA: 1s - loss: 0.006 - ETA: 0s - loss: 0.006 - ETA: 0s - loss: 0.006 - ETA: 0s - loss: 0.006 - ETA: 0s - loss: 0.006 - 3s 2ms/step - loss: 0.0064 - val_loss: 0.0094\n",
      "Epoch 160/200\n",
      "1280/1280 [==============================] - ETA: 2s - loss: 0.006 - ETA: 1s - loss: 0.006 - ETA: 1s - loss: 0.006 - ETA: 1s - loss: 0.006 - ETA: 1s - loss: 0.006 - ETA: 0s - loss: 0.006 - ETA: 0s - loss: 0.006 - ETA: 0s - loss: 0.006 - ETA: 0s - loss: 0.006 - 3s 2ms/step - loss: 0.0064 - val_loss: 0.0102\n",
      "Epoch 161/200\n",
      "1280/1280 [==============================] - ETA: 2s - loss: 0.007 - ETA: 1s - loss: 0.007 - ETA: 1s - loss: 0.006 - ETA: 1s - loss: 0.006 - ETA: 1s - loss: 0.006 - ETA: 0s - loss: 0.006 - ETA: 0s - loss: 0.006 - ETA: 0s - loss: 0.006 - ETA: 0s - loss: 0.006 - 3s 2ms/step - loss: 0.0065 - val_loss: 0.0098\n",
      "Epoch 162/200\n",
      "1280/1280 [==============================] - ETA: 2s - loss: 0.006 - ETA: 1s - loss: 0.006 - ETA: 1s - loss: 0.006 - ETA: 1s - loss: 0.006 - ETA: 1s - loss: 0.006 - ETA: 0s - loss: 0.006 - ETA: 0s - loss: 0.006 - ETA: 0s - loss: 0.006 - ETA: 0s - loss: 0.006 - 3s 2ms/step - loss: 0.0062 - val_loss: 0.0092\n",
      "Epoch 163/200\n",
      "1280/1280 [==============================] - ETA: 2s - loss: 0.006 - ETA: 1s - loss: 0.006 - ETA: 1s - loss: 0.006 - ETA: 1s - loss: 0.006 - ETA: 1s - loss: 0.006 - ETA: 0s - loss: 0.006 - ETA: 0s - loss: 0.006 - ETA: 0s - loss: 0.006 - ETA: 0s - loss: 0.006 - 3s 2ms/step - loss: 0.0065 - val_loss: 0.0098\n",
      "Epoch 164/200\n",
      "1280/1280 [==============================] - ETA: 2s - loss: 0.005 - ETA: 1s - loss: 0.006 - ETA: 1s - loss: 0.006 - ETA: 1s - loss: 0.006 - ETA: 1s - loss: 0.006 - ETA: 0s - loss: 0.006 - ETA: 0s - loss: 0.006 - ETA: 0s - loss: 0.006 - ETA: 0s - loss: 0.006 - 3s 2ms/step - loss: 0.0064 - val_loss: 0.0104\n",
      "Epoch 165/200\n",
      "1280/1280 [==============================] - ETA: 2s - loss: 0.006 - ETA: 1s - loss: 0.006 - ETA: 1s - loss: 0.006 - ETA: 1s - loss: 0.006 - ETA: 1s - loss: 0.006 - ETA: 0s - loss: 0.006 - ETA: 0s - loss: 0.006 - ETA: 0s - loss: 0.006 - ETA: 0s - loss: 0.006 - 3s 2ms/step - loss: 0.0065 - val_loss: 0.0103\n",
      "Epoch 166/200\n",
      "1280/1280 [==============================] - ETA: 2s - loss: 0.006 - ETA: 1s - loss: 0.006 - ETA: 1s - loss: 0.006 - ETA: 1s - loss: 0.006 - ETA: 1s - loss: 0.006 - ETA: 0s - loss: 0.006 - ETA: 0s - loss: 0.006 - ETA: 0s - loss: 0.006 - ETA: 0s - loss: 0.006 - 3s 2ms/step - loss: 0.0063 - val_loss: 0.0095\n",
      "Epoch 167/200\n",
      "1280/1280 [==============================] - ETA: 2s - loss: 0.006 - ETA: 1s - loss: 0.006 - ETA: 1s - loss: 0.006 - ETA: 1s - loss: 0.006 - ETA: 1s - loss: 0.006 - ETA: 0s - loss: 0.006 - ETA: 0s - loss: 0.006 - ETA: 0s - loss: 0.006 - ETA: 0s - loss: 0.006 - 3s 2ms/step - loss: 0.0061 - val_loss: 0.0111\n",
      "Epoch 168/200\n",
      "1280/1280 [==============================] - ETA: 2s - loss: 0.007 - ETA: 1s - loss: 0.007 - ETA: 1s - loss: 0.007 - ETA: 1s - loss: 0.006 - ETA: 1s - loss: 0.006 - ETA: 0s - loss: 0.006 - ETA: 0s - loss: 0.006 - ETA: 0s - loss: 0.006 - ETA: 0s - loss: 0.006 - 3s 2ms/step - loss: 0.0063 - val_loss: 0.0103\n",
      "Epoch 169/200\n",
      "1280/1280 [==============================] - ETA: 2s - loss: 0.006 - ETA: 1s - loss: 0.006 - ETA: 1s - loss: 0.006 - ETA: 1s - loss: 0.006 - ETA: 1s - loss: 0.006 - ETA: 0s - loss: 0.006 - ETA: 0s - loss: 0.006 - ETA: 0s - loss: 0.006 - ETA: 0s - loss: 0.006 - 3s 2ms/step - loss: 0.0063 - val_loss: 0.0097\n",
      "Epoch 170/200\n",
      "1280/1280 [==============================] - ETA: 2s - loss: 0.005 - ETA: 1s - loss: 0.006 - ETA: 1s - loss: 0.006 - ETA: 1s - loss: 0.006 - ETA: 1s - loss: 0.006 - ETA: 0s - loss: 0.006 - ETA: 0s - loss: 0.006 - ETA: 0s - loss: 0.006 - ETA: 0s - loss: 0.006 - 3s 2ms/step - loss: 0.0062 - val_loss: 0.0100\n",
      "Epoch 171/200\n",
      "1280/1280 [==============================] - ETA: 2s - loss: 0.006 - ETA: 1s - loss: 0.006 - ETA: 1s - loss: 0.006 - ETA: 1s - loss: 0.006 - ETA: 1s - loss: 0.006 - ETA: 0s - loss: 0.006 - ETA: 0s - loss: 0.006 - ETA: 0s - loss: 0.006 - ETA: 0s - loss: 0.006 - 3s 2ms/step - loss: 0.0062 - val_loss: 0.0092\n",
      "Epoch 172/200\n",
      "1280/1280 [==============================] - ETA: 2s - loss: 0.006 - ETA: 1s - loss: 0.006 - ETA: 1s - loss: 0.006 - ETA: 1s - loss: 0.006 - ETA: 1s - loss: 0.006 - ETA: 0s - loss: 0.006 - ETA: 0s - loss: 0.006 - ETA: 0s - loss: 0.006 - ETA: 0s - loss: 0.006 - 3s 2ms/step - loss: 0.0063 - val_loss: 0.0101\n",
      "Epoch 173/200\n",
      "1280/1280 [==============================] - ETA: 2s - loss: 0.006 - ETA: 1s - loss: 0.006 - ETA: 1s - loss: 0.006 - ETA: 1s - loss: 0.006 - ETA: 1s - loss: 0.006 - ETA: 0s - loss: 0.006 - ETA: 0s - loss: 0.006 - ETA: 0s - loss: 0.006 - ETA: 0s - loss: 0.006 - 3s 2ms/step - loss: 0.0063 - val_loss: 0.0104\n",
      "Epoch 174/200\n",
      "1280/1280 [==============================] - ETA: 2s - loss: 0.005 - ETA: 1s - loss: 0.006 - ETA: 1s - loss: 0.005 - ETA: 1s - loss: 0.005 - ETA: 1s - loss: 0.005 - ETA: 0s - loss: 0.006 - ETA: 0s - loss: 0.006 - ETA: 0s - loss: 0.006 - ETA: 0s - loss: 0.006 - 3s 2ms/step - loss: 0.0062 - val_loss: 0.0096\n",
      "Epoch 175/200\n",
      "1280/1280 [==============================] - ETA: 2s - loss: 0.006 - ETA: 1s - loss: 0.006 - ETA: 1s - loss: 0.006 - ETA: 1s - loss: 0.006 - ETA: 1s - loss: 0.006 - ETA: 0s - loss: 0.006 - ETA: 0s - loss: 0.006 - ETA: 0s - loss: 0.006 - ETA: 0s - loss: 0.006 - 3s 2ms/step - loss: 0.0061 - val_loss: 0.0103\n",
      "Epoch 176/200\n"
     ]
    },
    {
     "name": "stdout",
     "output_type": "stream",
     "text": [
      "1280/1280 [==============================] - ETA: 2s - loss: 0.006 - ETA: 1s - loss: 0.006 - ETA: 1s - loss: 0.006 - ETA: 1s - loss: 0.006 - ETA: 1s - loss: 0.006 - ETA: 0s - loss: 0.006 - ETA: 0s - loss: 0.006 - ETA: 0s - loss: 0.006 - ETA: 0s - loss: 0.006 - 3s 2ms/step - loss: 0.0062 - val_loss: 0.0100\n",
      "Epoch 177/200\n",
      "1280/1280 [==============================] - ETA: 2s - loss: 0.005 - ETA: 1s - loss: 0.005 - ETA: 1s - loss: 0.006 - ETA: 1s - loss: 0.006 - ETA: 1s - loss: 0.006 - ETA: 0s - loss: 0.006 - ETA: 0s - loss: 0.006 - ETA: 0s - loss: 0.006 - ETA: 0s - loss: 0.006 - 3s 2ms/step - loss: 0.0061 - val_loss: 0.0100\n",
      "Epoch 178/200\n",
      "1280/1280 [==============================] - ETA: 2s - loss: 0.006 - ETA: 1s - loss: 0.006 - ETA: 1s - loss: 0.006 - ETA: 1s - loss: 0.006 - ETA: 1s - loss: 0.006 - ETA: 0s - loss: 0.006 - ETA: 0s - loss: 0.006 - ETA: 0s - loss: 0.006 - ETA: 0s - loss: 0.006 - 3s 2ms/step - loss: 0.0064 - val_loss: 0.0093\n",
      "Epoch 179/200\n",
      "1280/1280 [==============================] - ETA: 2s - loss: 0.006 - ETA: 1s - loss: 0.006 - ETA: 1s - loss: 0.006 - ETA: 1s - loss: 0.006 - ETA: 1s - loss: 0.006 - ETA: 0s - loss: 0.006 - ETA: 0s - loss: 0.006 - ETA: 0s - loss: 0.006 - ETA: 0s - loss: 0.006 - 3s 2ms/step - loss: 0.0061 - val_loss: 0.0098\n",
      "Epoch 180/200\n",
      "1280/1280 [==============================] - ETA: 2s - loss: 0.005 - ETA: 1s - loss: 0.006 - ETA: 1s - loss: 0.005 - ETA: 1s - loss: 0.006 - ETA: 1s - loss: 0.006 - ETA: 0s - loss: 0.006 - ETA: 0s - loss: 0.006 - ETA: 0s - loss: 0.006 - ETA: 0s - loss: 0.006 - 3s 2ms/step - loss: 0.0060 - val_loss: 0.0096\n",
      "Epoch 181/200\n",
      "1280/1280 [==============================] - ETA: 2s - loss: 0.005 - ETA: 1s - loss: 0.006 - ETA: 1s - loss: 0.006 - ETA: 1s - loss: 0.006 - ETA: 1s - loss: 0.006 - ETA: 0s - loss: 0.006 - ETA: 0s - loss: 0.006 - ETA: 0s - loss: 0.006 - ETA: 0s - loss: 0.006 - 3s 2ms/step - loss: 0.0061 - val_loss: 0.0097\n",
      "Epoch 182/200\n",
      "1280/1280 [==============================] - ETA: 2s - loss: 0.005 - ETA: 1s - loss: 0.005 - ETA: 1s - loss: 0.005 - ETA: 1s - loss: 0.006 - ETA: 1s - loss: 0.006 - ETA: 0s - loss: 0.006 - ETA: 0s - loss: 0.006 - ETA: 0s - loss: 0.006 - ETA: 0s - loss: 0.006 - 3s 2ms/step - loss: 0.0062 - val_loss: 0.0098\n",
      "Epoch 183/200\n",
      "1280/1280 [==============================] - ETA: 2s - loss: 0.005 - ETA: 1s - loss: 0.005 - ETA: 1s - loss: 0.005 - ETA: 1s - loss: 0.005 - ETA: 1s - loss: 0.005 - ETA: 0s - loss: 0.005 - ETA: 0s - loss: 0.005 - ETA: 0s - loss: 0.005 - ETA: 0s - loss: 0.006 - 3s 2ms/step - loss: 0.0059 - val_loss: 0.0098\n",
      "Epoch 184/200\n",
      "1280/1280 [==============================] - ETA: 2s - loss: 0.005 - ETA: 1s - loss: 0.005 - ETA: 1s - loss: 0.005 - ETA: 1s - loss: 0.005 - ETA: 1s - loss: 0.005 - ETA: 0s - loss: 0.005 - ETA: 0s - loss: 0.005 - ETA: 0s - loss: 0.005 - ETA: 0s - loss: 0.005 - 3s 2ms/step - loss: 0.0059 - val_loss: 0.0097\n",
      "Epoch 185/200\n",
      "1280/1280 [==============================] - ETA: 2s - loss: 0.005 - ETA: 1s - loss: 0.006 - ETA: 1s - loss: 0.006 - ETA: 1s - loss: 0.006 - ETA: 1s - loss: 0.006 - ETA: 0s - loss: 0.006 - ETA: 0s - loss: 0.006 - ETA: 0s - loss: 0.006 - ETA: 0s - loss: 0.006 - 3s 2ms/step - loss: 0.0061 - val_loss: 0.0100\n",
      "Epoch 186/200\n",
      "1280/1280 [==============================] - ETA: 2s - loss: 0.005 - ETA: 1s - loss: 0.005 - ETA: 1s - loss: 0.005 - ETA: 1s - loss: 0.005 - ETA: 1s - loss: 0.005 - ETA: 0s - loss: 0.006 - ETA: 0s - loss: 0.006 - ETA: 0s - loss: 0.005 - ETA: 0s - loss: 0.005 - 3s 2ms/step - loss: 0.0059 - val_loss: 0.0095\n",
      "Epoch 187/200\n",
      "1280/1280 [==============================] - ETA: 2s - loss: 0.005 - ETA: 1s - loss: 0.006 - ETA: 1s - loss: 0.006 - ETA: 1s - loss: 0.006 - ETA: 1s - loss: 0.006 - ETA: 0s - loss: 0.006 - ETA: 0s - loss: 0.006 - ETA: 0s - loss: 0.005 - ETA: 0s - loss: 0.006 - 3s 2ms/step - loss: 0.0060 - val_loss: 0.0094\n",
      "Epoch 188/200\n",
      "1280/1280 [==============================] - ETA: 2s - loss: 0.006 - ETA: 1s - loss: 0.005 - ETA: 1s - loss: 0.005 - ETA: 1s - loss: 0.005 - ETA: 1s - loss: 0.005 - ETA: 0s - loss: 0.006 - ETA: 0s - loss: 0.006 - ETA: 0s - loss: 0.006 - ETA: 0s - loss: 0.005 - 3s 2ms/step - loss: 0.0059 - val_loss: 0.0097\n",
      "Epoch 189/200\n",
      "1280/1280 [==============================] - ETA: 2s - loss: 0.005 - ETA: 1s - loss: 0.005 - ETA: 1s - loss: 0.005 - ETA: 1s - loss: 0.005 - ETA: 1s - loss: 0.005 - ETA: 0s - loss: 0.005 - ETA: 0s - loss: 0.005 - ETA: 0s - loss: 0.005 - ETA: 0s - loss: 0.005 - 3s 2ms/step - loss: 0.0059 - val_loss: 0.0095\n",
      "Epoch 190/200\n",
      "1280/1280 [==============================] - ETA: 2s - loss: 0.005 - ETA: 1s - loss: 0.005 - ETA: 1s - loss: 0.005 - ETA: 1s - loss: 0.005 - ETA: 1s - loss: 0.005 - ETA: 0s - loss: 0.005 - ETA: 0s - loss: 0.006 - ETA: 0s - loss: 0.006 - ETA: 0s - loss: 0.006 - 3s 2ms/step - loss: 0.0061 - val_loss: 0.0101\n",
      "Epoch 191/200\n",
      "1280/1280 [==============================] - ETA: 2s - loss: 0.005 - ETA: 1s - loss: 0.005 - ETA: 1s - loss: 0.005 - ETA: 1s - loss: 0.006 - ETA: 1s - loss: 0.006 - ETA: 0s - loss: 0.006 - ETA: 0s - loss: 0.006 - ETA: 0s - loss: 0.006 - ETA: 0s - loss: 0.006 - 3s 2ms/step - loss: 0.0062 - val_loss: 0.0094\n",
      "Epoch 192/200\n",
      "1280/1280 [==============================] - ETA: 2s - loss: 0.005 - ETA: 1s - loss: 0.005 - ETA: 1s - loss: 0.006 - ETA: 1s - loss: 0.005 - ETA: 1s - loss: 0.005 - ETA: 0s - loss: 0.005 - ETA: 0s - loss: 0.005 - ETA: 0s - loss: 0.005 - ETA: 0s - loss: 0.005 - 3s 2ms/step - loss: 0.0058 - val_loss: 0.0098\n",
      "Epoch 193/200\n",
      "1280/1280 [==============================] - ETA: 2s - loss: 0.006 - ETA: 1s - loss: 0.006 - ETA: 1s - loss: 0.005 - ETA: 1s - loss: 0.006 - ETA: 1s - loss: 0.005 - ETA: 0s - loss: 0.005 - ETA: 0s - loss: 0.005 - ETA: 0s - loss: 0.005 - ETA: 0s - loss: 0.005 - 3s 2ms/step - loss: 0.0058 - val_loss: 0.0093\n",
      "Epoch 194/200\n",
      "1280/1280 [==============================] - ETA: 2s - loss: 0.006 - ETA: 1s - loss: 0.005 - ETA: 1s - loss: 0.005 - ETA: 1s - loss: 0.005 - ETA: 1s - loss: 0.005 - ETA: 0s - loss: 0.005 - ETA: 0s - loss: 0.005 - ETA: 0s - loss: 0.006 - ETA: 0s - loss: 0.006 - 3s 2ms/step - loss: 0.0060 - val_loss: 0.0094\n",
      "Epoch 195/200\n",
      "1280/1280 [==============================] - ETA: 2s - loss: 0.005 - ETA: 1s - loss: 0.005 - ETA: 1s - loss: 0.005 - ETA: 1s - loss: 0.005 - ETA: 1s - loss: 0.005 - ETA: 0s - loss: 0.005 - ETA: 0s - loss: 0.005 - ETA: 0s - loss: 0.005 - ETA: 0s - loss: 0.005 - 3s 2ms/step - loss: 0.0059 - val_loss: 0.0098\n",
      "Epoch 196/200\n",
      "1280/1280 [==============================] - ETA: 2s - loss: 0.005 - ETA: 1s - loss: 0.006 - ETA: 1s - loss: 0.006 - ETA: 1s - loss: 0.005 - ETA: 1s - loss: 0.005 - ETA: 0s - loss: 0.005 - ETA: 0s - loss: 0.005 - ETA: 0s - loss: 0.005 - ETA: 0s - loss: 0.005 - 3s 2ms/step - loss: 0.0058 - val_loss: 0.0094\n",
      "Epoch 197/200\n",
      "1280/1280 [==============================] - ETA: 2s - loss: 0.006 - ETA: 1s - loss: 0.005 - ETA: 1s - loss: 0.005 - ETA: 1s - loss: 0.005 - ETA: 1s - loss: 0.005 - ETA: 0s - loss: 0.005 - ETA: 0s - loss: 0.005 - ETA: 0s - loss: 0.005 - ETA: 0s - loss: 0.005 - 3s 2ms/step - loss: 0.0058 - val_loss: 0.0105\n",
      "Epoch 198/200\n",
      "1280/1280 [==============================] - ETA: 2s - loss: 0.006 - ETA: 1s - loss: 0.005 - ETA: 1s - loss: 0.005 - ETA: 1s - loss: 0.005 - ETA: 1s - loss: 0.005 - ETA: 0s - loss: 0.005 - ETA: 0s - loss: 0.005 - ETA: 0s - loss: 0.005 - ETA: 0s - loss: 0.005 - 3s 2ms/step - loss: 0.0058 - val_loss: 0.0103\n",
      "Epoch 199/200\n",
      "1280/1280 [==============================] - ETA: 2s - loss: 0.005 - ETA: 1s - loss: 0.005 - ETA: 1s - loss: 0.005 - ETA: 1s - loss: 0.005 - ETA: 1s - loss: 0.005 - ETA: 0s - loss: 0.005 - ETA: 0s - loss: 0.005 - ETA: 0s - loss: 0.005 - ETA: 0s - loss: 0.005 - 3s 2ms/step - loss: 0.0059 - val_loss: 0.0098\n",
      "Epoch 200/200\n",
      "1280/1280 [==============================] - ETA: 2s - loss: 0.006 - ETA: 1s - loss: 0.006 - ETA: 1s - loss: 0.005 - ETA: 1s - loss: 0.005 - ETA: 1s - loss: 0.005 - ETA: 0s - loss: 0.005 - ETA: 0s - loss: 0.005 - ETA: 0s - loss: 0.005 - ETA: 0s - loss: 0.005 - 3s 2ms/step - loss: 0.0058 - val_loss: 0.0096\n"
     ]
    }
   ],
   "source": [
    "autoencoder_train = autoencoder.fit(train_X, train_X, batch_size=batch_size,\n",
    "                                    epochs=200,verbose=1,validation_data=(valid_X, valid_X))"
   ]
  },
  {
   "cell_type": "code",
   "execution_count": 126,
   "metadata": {},
   "outputs": [],
   "source": [
    "autoencoder.save('autoencoder_64_8_200.h5')"
   ]
  },
  {
   "cell_type": "code",
   "execution_count": 122,
   "metadata": {
    "scrolled": true
   },
   "outputs": [
    {
     "data": {
      "image/png": "[encoded data removed]",
      "text/plain": [
       "<Figure size 432x288 with 1 Axes>"
      ]
     },
     "metadata": {},
     "output_type": "display_data"
    }
   ],
   "source": [
    "loss = autoencoder_train.history['loss']\n",
    "val_loss = autoencoder_train.history['val_loss']\n",
    "epochs = range(200)\n",
    "plt.figure()\n",
    "plt.plot(epochs, loss, 'bo', label='Training loss')\n",
    "plt.plot(epochs, val_loss, 'b', label='Validation loss')\n",
    "plt.title('Training and validation loss')\n",
    "plt.legend()\n",
    "plt.show()"
   ]
  },
  {
   "cell_type": "code",
   "execution_count": 127,
   "metadata": {},
   "outputs": [],
   "source": [
    "restored_imgs  = autoencoder.predict(valid_X)"
   ]
  },
  {
   "cell_type": "code",
   "execution_count": 129,
   "metadata": {
    "scrolled": true
   },
   "outputs": [
    {
     "data": {
      "image/png": "[encoded data removed]",
      "text/plain": [
       "<Figure size 432x288 with 1 Axes>"
      ]
     },
     "metadata": {},
     "output_type": "display_data"
    },
    {
     "data": {
      "image/png": "[encoded data removed]",
      "text/plain": [
       "<Figure size 432x288 with 1 Axes>"
      ]
     },
     "metadata": {},
     "output_type": "display_data"
    },
    {
     "name": "stdout",
     "output_type": "stream",
     "text": [
      "----------------------------\n"
     ]
    },
    {
     "data": {
      "image/png": "[encoded data removed]",
      "text/plain": [
       "<Figure size 432x288 with 1 Axes>"
      ]
     },
     "metadata": {},
     "output_type": "display_data"
    },
    {
     "data": {
      "image/png": "[encoded data removed]",
      "text/plain": [
       "<Figure size 432x288 with 1 Axes>"
      ]
     },
     "metadata": {},
     "output_type": "display_data"
    },
    {
     "name": "stdout",
     "output_type": "stream",
     "text": [
      "----------------------------\n"
     ]
    },
    {
     "data": {
      "image/png": "[encoded data removed]",
      "text/plain": [
       "<Figure size 432x288 with 1 Axes>"
      ]
     },
     "metadata": {},
     "output_type": "display_data"
    },
    {
     "data": {
      "image/png": "[encoded data removed]",
      "text/plain": [
       "<Figure size 432x288 with 1 Axes>"
      ]
     },
     "metadata": {},
     "output_type": "display_data"
    },
    {
     "name": "stdout",
     "output_type": "stream",
     "text": [
      "----------------------------\n"
     ]
    },
    {
     "data": {
      "image/png": "[encoded data removed]",
      "text/plain": [
       "<Figure size 432x288 with 1 Axes>"
      ]
     },
     "metadata": {},
     "output_type": "display_data"
    },
    {
     "data": {
      "image/png": "[encoded data removed]",
      "text/plain": [
       "<Figure size 432x288 with 1 Axes>"
      ]
     },
     "metadata": {},
     "output_type": "display_data"
    },
    {
     "name": "stdout",
     "output_type": "stream",
     "text": [
      "----------------------------\n"
     ]
    },
    {
     "data": {
      "image/png": "[encoded data removed]",
      "text/plain": [
       "<Figure size 432x288 with 1 Axes>"
      ]
     },
     "metadata": {},
     "output_type": "display_data"
    },
    {
     "data": {
      "image/png": "[encoded data removed]",
      "text/plain": [
       "<Figure size 432x288 with 1 Axes>"
      ]
     },
     "metadata": {},
     "output_type": "display_data"
    },
    {
     "name": "stdout",
     "output_type": "stream",
     "text": [
      "----------------------------\n"
     ]
    }
   ],
   "source": [
    "for i in range(5):\n",
    "    plt.imshow(valid_X[i].reshape(64, 64))\n",
    "    plt.gray()\n",
    "    plt.show()\n",
    "    \n",
    "    plt.imshow(restored_imgs[i].reshape(64, 64))\n",
    "    plt.gray()\n",
    "    plt.show()\n",
    "    \n",
    "    print(\"----------------------------\")"
   ]
  },
  {
   "cell_type": "code",
   "execution_count": null,
   "metadata": {},
   "outputs": [],
   "source": []
  },
  {
   "cell_type": "code",
   "execution_count": null,
   "metadata": {},
   "outputs": [],
   "source": []
  },
  {
   "cell_type": "code",
   "execution_count": null,
   "metadata": {},
   "outputs": [],
   "source": []
  },
  {
   "cell_type": "code",
   "execution_count": null,
   "metadata": {},
   "outputs": [],
   "source": []
  },
  {
   "cell_type": "code",
   "execution_count": 130,
   "metadata": {},
   "outputs": [
    {
     "name": "stdout",
     "output_type": "stream",
     "text": [
      "0 .  (?, 64, 64, 1)\n",
      "1 .  (?, 64, 64, 32)\n",
      "2 .  (?, 64, 64, 32)\n",
      "3 .  (?, 64, 64, 32)\n",
      "4 .  (?, 64, 64, 32)\n",
      "5 .  (?, 32, 32, 32)\n",
      "6 .  (?, 32, 32, 64)\n",
      "7 .  (?, 32, 32, 64)\n",
      "8 .  (?, 32, 32, 64)\n",
      "9 .  (?, 32, 32, 64)\n",
      "10 .  (?, 16, 16, 64)\n",
      "11 .  (?, 16, 16, 128)\n",
      "12 .  (?, 16, 16, 128)\n",
      "13 .  (?, 16, 16, 128)\n",
      "14 .  (?, 16, 16, 128)\n",
      "15 .  (?, 8, 8, 128)\n",
      "16 .  (?, 8, 8, 256)\n",
      "17 .  (?, 8, 8, 256)\n",
      "18 .  (?, 8, 8, 256)\n",
      "19 .  (?, 8, 8, 256)\n",
      "20 .  (?, 8, 8, 128)\n",
      "21 .  (?, 8, 8, 128)\n",
      "22 .  (?, 8, 8, 128)\n",
      "23 .  (?, 8, 8, 128)\n",
      "24 .  (?, 16, 16, 128)\n",
      "25 .  (?, 16, 16, 64)\n",
      "26 .  (?, 16, 16, 64)\n",
      "27 .  (?, 16, 16, 64)\n",
      "28 .  (?, 16, 16, 64)\n",
      "29 .  (?, 32, 32, 64)\n",
      "30 .  (?, 32, 32, 32)\n",
      "31 .  (?, 32, 32, 32)\n",
      "32 .  (?, 32, 32, 32)\n",
      "33 .  (?, 32, 32, 32)\n",
      "34 .  (?, 64, 64, 32)\n",
      "35 .  (?, 64, 64, 1)\n"
     ]
    }
   ],
   "source": [
    "layers = len(autoencoder.layers)\n",
    "\n",
    "for i in range(layers):\n",
    "    print(i, \". \", autoencoder.layers[i].output.get_shape())"
   ]
  },
  {
   "cell_type": "code",
   "execution_count": 131,
   "metadata": {},
   "outputs": [],
   "source": [
    "#layer[7] is activation_3 (Activation), it is compressed representation\n",
    "get_3rd_layer_output = K.function([autoencoder.layers[0].input], [autoencoder.layers[23].output])\n",
    "compressed = get_3rd_layer_output([valid_X])[0]"
   ]
  },
  {
   "cell_type": "code",
   "execution_count": 132,
   "metadata": {},
   "outputs": [],
   "source": [
    "\n",
    "#layer[7] is size of (None, 16, 16, 2). this means 2 different 7x7 sized matrixes. We will flatten these matrixes.\n",
    "compressed = compressed.reshape(320,8*8*128)"
   ]
  },
  {
   "cell_type": "code",
   "execution_count": 133,
   "metadata": {},
   "outputs": [
    {
     "name": "stdout",
     "output_type": "stream",
     "text": [
      "INFO:tensorflow:Using default config.\n",
      "WARNING:tensorflow:Using temporary folder as model directory: C:\\Users\\DIVYOJ~1\\AppData\\Local\\Temp\\tmp3xoe8peo\n",
      "INFO:tensorflow:Using config: {'_task_type': None, '_task_id': 0, '_cluster_spec': <tensorflow.python.training.server_lib.ClusterSpec object at 0x0000016C468AFA58>, '_master': '', '_num_ps_replicas': 0, '_num_worker_replicas': 0, '_environment': 'local', '_is_chief': True, '_evaluation_master': '', '_train_distribute': None, '_eval_distribute': None, '_device_fn': None, '_tf_config': gpu_options {\n",
      "  per_process_gpu_memory_fraction: 1.0\n",
      "}\n",
      ", '_tf_random_seed': None, '_save_summary_steps': 100, '_save_checkpoints_secs': 600, '_log_step_count_steps': 100, '_protocol': None, '_session_config': None, '_save_checkpoints_steps': None, '_keep_checkpoint_max': 5, '_keep_checkpoint_every_n_hours': 10000, '_model_dir': 'C:\\\\Users\\\\DIVYOJ~1\\\\AppData\\\\Local\\\\Temp\\\\tmp3xoe8peo'}\n"
     ]
    }
   ],
   "source": [
    "unsupervised_model = tf.contrib.learn.KMeansClustering(\n",
    "    2 #num of clusters\n",
    "    , distance_metric = clustering_ops.COSINE_DISTANCE\n",
    "    , initial_clusters=tf.contrib.learn.KMeansClustering.RANDOM_INIT\n",
    ")"
   ]
  },
  {
   "cell_type": "code",
   "execution_count": 134,
   "metadata": {},
   "outputs": [],
   "source": [
    "def train_input_fn():\n",
    "    data = tf.constant(compressed, tf.float32)\n",
    "    return (data, None)"
   ]
  },
  {
   "cell_type": "code",
   "execution_count": 135,
   "metadata": {},
   "outputs": [
    {
     "name": "stdout",
     "output_type": "stream",
     "text": [
      "INFO:tensorflow:Create CheckpointSaverHook.\n",
      "INFO:tensorflow:Graph was finalized.\n",
      "INFO:tensorflow:Running local_init_op.\n",
      "INFO:tensorflow:Done running local_init_op.\n",
      "INFO:tensorflow:Saving checkpoints for 0 into C:\\Users\\DIVYOJ~1\\AppData\\Local\\Temp\\tmp3xoe8peo\\model.ckpt.\n",
      "INFO:tensorflow:loss = 300.71945, step = 1\n",
      "INFO:tensorflow:global_step/sec: 41.3328\n",
      "INFO:tensorflow:loss = 242.63353, step = 101 (2.419 sec)\n",
      "INFO:tensorflow:global_step/sec: 323.443\n",
      "INFO:tensorflow:loss = 242.56328, step = 201 (0.309 sec)\n",
      "INFO:tensorflow:global_step/sec: 348.151\n",
      "INFO:tensorflow:loss = 242.54504, step = 301 (0.287 sec)\n",
      "INFO:tensorflow:global_step/sec: 348.151\n",
      "INFO:tensorflow:loss = 242.53055, step = 401 (0.287 sec)\n",
      "INFO:tensorflow:global_step/sec: 345.749\n",
      "INFO:tensorflow:loss = 242.51672, step = 501 (0.288 sec)\n",
      "INFO:tensorflow:global_step/sec: 325.542\n",
      "INFO:tensorflow:loss = 242.50687, step = 601 (0.308 sec)\n",
      "INFO:tensorflow:global_step/sec: 290.631\n",
      "INFO:tensorflow:loss = 242.50092, step = 701 (0.344 sec)\n",
      "INFO:tensorflow:global_step/sec: 345.749\n",
      "INFO:tensorflow:loss = 242.49707, step = 801 (0.289 sec)\n",
      "INFO:tensorflow:global_step/sec: 348.151\n",
      "INFO:tensorflow:loss = 242.49445, step = 901 (0.287 sec)\n",
      "INFO:tensorflow:Saving checkpoints for 1000 into C:\\Users\\DIVYOJ~1\\AppData\\Local\\Temp\\tmp3xoe8peo\\model.ckpt.\n",
      "INFO:tensorflow:Loss for final step: 242.49254.\n"
     ]
    },
    {
     "data": {
      "text/plain": [
       "KMeansClustering(params={'num_clusters': 2, 'training_initial_clusters': 'random', 'distance_metric': 'cosine', 'random_seed': 0, 'use_mini_batch': True, 'mini_batch_steps_per_iteration': 1, 'kmeans_plus_plus_num_retries': 2, 'relative_tolerance': None})"
      ]
     },
     "execution_count": 135,
     "metadata": {},
     "output_type": "execute_result"
    }
   ],
   "source": [
    "unsupervised_model.fit(input_fn=train_input_fn, steps=1000)"
   ]
  },
  {
   "cell_type": "code",
   "execution_count": 136,
   "metadata": {},
   "outputs": [
    {
     "name": "stdout",
     "output_type": "stream",
     "text": [
      "INFO:tensorflow:Graph was finalized.\n",
      "INFO:tensorflow:Restoring parameters from C:\\Users\\DIVYOJ~1\\AppData\\Local\\Temp\\tmp3xoe8peo\\model.ckpt-1000\n",
      "INFO:tensorflow:Running local_init_op.\n",
      "INFO:tensorflow:Done running local_init_op.\n"
     ]
    }
   ],
   "source": [
    "clusters = unsupervised_model.predict(input_fn=train_input_fn)\n"
   ]
  },
  {
   "cell_type": "code",
   "execution_count": 137,
   "metadata": {},
   "outputs": [],
   "source": [
    "index = 0\n",
    "c_0_count = 0\n",
    "c_1_count = 0\n",
    "\n",
    "mis_classified = 0\n",
    "corr_classified = 0\n",
    "\n",
    "\n",
    "for i in clusters:\n",
    "    \n",
    "    current_cluster = i['cluster_idx']\n",
    "    features = test_data[index]\n",
    "    \n",
    "    \n",
    "    if current_cluster == 0:\n",
    "            if test_labels[index] == current_cluster:\n",
    "                corr_classified += 1\n",
    "            else:\n",
    "                mis_classified += 1\n",
    "            c_0_count += 1\n",
    "            \n",
    "    if current_cluster == 1:\n",
    "            if test_labels[index] == current_cluster:\n",
    "                corr_classified += 1\n",
    "            else:\n",
    "                mis_classified += 1\n",
    "            c_1_count += 1\n",
    "            \n",
    "            \n",
    "\n",
    "            \n",
    "    index = index + 1"
   ]
  },
  {
   "cell_type": "code",
   "execution_count": 138,
   "metadata": {},
   "outputs": [
    {
     "data": {
      "text/plain": [
       "0.496875"
      ]
     },
     "execution_count": 138,
     "metadata": {},
     "output_type": "execute_result"
    }
   ],
   "source": [
    "accuracy = corr_classified/len(valid_ground)\n",
    "accuracy"
   ]
  },
  {
   "cell_type": "code",
   "execution_count": null,
   "metadata": {},
   "outputs": [],
   "source": []
  },
  {
   "cell_type": "code",
   "execution_count": null,
   "metadata": {},
   "outputs": [],
   "source": []
  },
  {
   "cell_type": "code",
   "execution_count": null,
   "metadata": {},
   "outputs": [],
   "source": []
  }
 ],
 "metadata": {
  "kernelspec": {
   "display_name": "Python 3",
   "language": "python",
   "name": "python3"
  },
  "language_info": {
   "codemirror_mode": {
    "name": "ipython",
    "version": 3
   },
   "file_extension": ".py",
   "mimetype": "text/x-python",
   "name": "python",
   "nbconvert_exporter": "python",
   "pygments_lexer": "ipython3",
   "version": "3.6.5"
  }
 },
 "nbformat": 4,
 "nbformat_minor": 2
}
